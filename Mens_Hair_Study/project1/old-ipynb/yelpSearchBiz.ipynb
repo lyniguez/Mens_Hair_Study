{
 "cells": [
  {
   "cell_type": "code",
   "execution_count": 1,
   "metadata": {
    "collapsed": true,
    "scrolled": true
   },
   "outputs": [],
   "source": [
    "# yelp scraping project\n",
    "import requests\n",
    "import json\n",
    "import pandas as pd\n",
    "\n",
    "from bs4 import BeautifulSoup\n",
    "import requests\n",
    "from splinter import Browser\n",
    "from selenium import webdriver\n",
    "\n",
    "from IPython.core.interactiveshell import InteractiveShell\n",
    "InteractiveShell.ast_node_interactivity = \"all\"\n",
    "\n",
    "import pandas as pd\n",
    "import re"
   ]
  },
  {
   "cell_type": "code",
   "execution_count": 2,
   "metadata": {},
   "outputs": [
    {
     "name": "stdout",
     "output_type": "stream",
     "text": [
      "What would you like to search:Barbershop\n",
      "where would you like to search:92620\n"
     ]
    }
   ],
   "source": [
    "search = input(\"What would you like to search:\")\n",
    "zipcode = input(\"where would you like to search:\")"
   ]
  },
  {
   "cell_type": "code",
   "execution_count": 3,
   "metadata": {
    "collapsed": true
   },
   "outputs": [],
   "source": [
    "default = \"https://www.yelp.com/search?find_desc=\"\n",
    "locationUrl = \"&find_loc=\"\n",
    "end = \"&ns=1\"\n",
    "url = []"
   ]
  },
  {
   "cell_type": "code",
   "execution_count": 4,
   "metadata": {},
   "outputs": [],
   "source": [
    "def search_yelp(search, zipcode):\n",
    "    \n",
    "    keyword = search;\n",
    "    zipcode = zipcode;\n",
    "    query_url = f\"{default}{search}{locationUrl}{zipcode}{end}\";\n",
    "    response = requests.get(query_url)\n",
    "    soup = BeautifulSoup(response.text, 'html.parser');\n",
    "    for link in soup.find_all('a', class_=\"biz-name\"):\n",
    "        url.append(\"https://www.yelp.com/biz\"+link.get('href'))\n",
    "    url.pop(0)\n",
    "    "
   ]
  },
  {
   "cell_type": "code",
   "execution_count": 5,
   "metadata": {},
   "outputs": [],
   "source": [
    "search_yelp(search, zipcode)"
   ]
  },
  {
   "cell_type": "code",
   "execution_count": 6,
   "metadata": {},
   "outputs": [
    {
     "data": {
      "text/plain": [
       "['https://www.yelp.com/biz/biz/omar-the-barber-irvine?osq=Barbershop',\n",
       " 'https://www.yelp.com/biz/biz/danckuts-irvine?osq=Barbershop',\n",
       " 'https://www.yelp.com/biz/biz/stonecreek-plaza-barber-shop-irvine-3?osq=Barbershop',\n",
       " 'https://www.yelp.com/biz/biz/justins-fades-and-hairstyles-irvine-3?osq=Barbershop',\n",
       " 'https://www.yelp.com/biz/biz/roosters-mens-grooming-center-irvine?osq=Barbershop',\n",
       " 'https://www.yelp.com/biz/biz/made-man-salon-tustin?osq=Barbershop',\n",
       " 'https://www.yelp.com/biz/biz/hair-days-irvine?osq=Barbershop',\n",
       " 'https://www.yelp.com/biz/biz/the-sharper-look-irvine?osq=Barbershop',\n",
       " 'https://www.yelp.com/biz/biz/bespoke-tailored-mens-haircare-irvine?osq=Barbershop',\n",
       " 'https://www.yelp.com/biz/biz/sand-canyon-barber-irvine?osq=Barbershop']"
      ]
     },
     "execution_count": 6,
     "metadata": {},
     "output_type": "execute_result"
    }
   ],
   "source": [
    "url"
   ]
  },
  {
   "cell_type": "code",
   "execution_count": null,
   "metadata": {
    "collapsed": true
   },
   "outputs": [],
   "source": [
    "default = \"https://www.yelp.com/search?find_desc=\"\n",
    "locationUrl = \"&find_loc=\"\n",
    "end = \"&ns=1\""
   ]
  },
  {
   "cell_type": "code",
   "execution_count": null,
   "metadata": {
    "scrolled": true
   },
   "outputs": [],
   "source": [
    "query_url = f\"{default}{search}{locationUrl}{zipcode}{end}\"\n",
    "print(query_url)"
   ]
  },
  {
   "cell_type": "code",
   "execution_count": null,
   "metadata": {},
   "outputs": [],
   "source": [
    "# Print the response object to the console\n",
    "print(requests.get(query_url))"
   ]
  },
  {
   "cell_type": "code",
   "execution_count": null,
   "metadata": {},
   "outputs": [],
   "source": [
    "from bs4 import BeautifulSoup\n",
    "import requests\n",
    "from splinter import Browser\n",
    "from selenium import webdriver\n",
    "\n",
    "from IPython.core.interactiveshell import InteractiveShell\n",
    "InteractiveShell.ast_node_interactivity = \"all\"\n",
    "\n",
    "import pandas as pd\n",
    "import re"
   ]
  },
  {
   "cell_type": "code",
   "execution_count": null,
   "metadata": {},
   "outputs": [],
   "source": [
    "response = requests.get(query_url)\n",
    "soup = BeautifulSoup(response.text, 'html.parser')"
   ]
  },
  {
   "cell_type": "code",
   "execution_count": null,
   "metadata": {
    "collapsed": true
   },
   "outputs": [],
   "source": [
    "url = []"
   ]
  },
  {
   "cell_type": "code",
   "execution_count": null,
   "metadata": {},
   "outputs": [],
   "source": [
    "for link in soup.find_all('a', class_=\"biz-name\"):\n",
    "    url.append(\"https://www.yelp.com/biz\"+link.get('href'))\n"
   ]
  },
  {
   "cell_type": "markdown",
   "metadata": {},
   "source": [
    "<a class=\"js-analytics-click\" data-analytics-label=\"biz-photo\" href=\"/biz/omar-the-barber-irvine?osq=barbershop\">"
   ]
  }
 ],
 "metadata": {
  "kernelspec": {
   "display_name": "Python 3",
   "language": "python",
   "name": "python3"
  },
  "language_info": {
   "codemirror_mode": {
    "name": "ipython",
    "version": 3
   },
   "file_extension": ".py",
   "mimetype": "text/x-python",
   "name": "python",
   "nbconvert_exporter": "python",
   "pygments_lexer": "ipython3",
   "version": "3.6.3"
  }
 },
 "nbformat": 4,
 "nbformat_minor": 2
}
