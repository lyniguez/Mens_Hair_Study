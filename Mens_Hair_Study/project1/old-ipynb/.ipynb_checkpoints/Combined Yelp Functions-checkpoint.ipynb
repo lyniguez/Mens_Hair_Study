{
 "cells": [
  {
   "cell_type": "code",
   "execution_count": 1,
   "metadata": {
    "collapsed": true
   },
   "outputs": [],
   "source": [
    "# yelp scraping project\n",
    "import requests\n",
    "import json\n",
    "import pandas as pd\n",
    "\n",
    "from bs4 import BeautifulSoup\n",
    "import requests\n",
    "from splinter import Browser\n",
    "from selenium import webdriver\n",
    "\n",
    "from IPython.core.interactiveshell import InteractiveShell\n",
    "InteractiveShell.ast_node_interactivity = \"all\"\n",
    "\n",
    "import pandas as pd\n",
    "import re"
   ]
  },
  {
   "cell_type": "code",
   "execution_count": 2,
   "metadata": {},
   "outputs": [
    {
     "name": "stdout",
     "output_type": "stream",
     "text": [
      "What would you like to search:barbershop\n",
      "where would you like to search:94526\n"
     ]
    }
   ],
   "source": [
    "# create input variables\n",
    "\n",
    "search = input(\"What would you like to search:\")\n",
    "zipcode = input(\"where would you like to search:\")"
   ]
  },
  {
   "cell_type": "code",
   "execution_count": 3,
   "metadata": {
    "collapsed": true
   },
   "outputs": [],
   "source": [
    "# default web search to concatenate\n",
    "default = \"https://www.yelp.com/search?find_desc=\"\n",
    "locationUrl = \"&find_loc=\"\n",
    "end = \"&start=\"\n",
    "\n",
    "# empty lists to append to\n",
    "url = []\n",
    "business_name = []\n",
    "business_category = []\n",
    "yelp_rating = []\n",
    "review_count = []\n",
    "price_range = []\n",
    "price_category = []\n",
    "\n",
    "address = []\n",
    "phone = []\n",
    "website = []\n",
    "\n",
    "myList = range(0, 51)  # list(range(1, 101)) for Python 3 if you need a list"
   ]
  },
  {
   "cell_type": "code",
   "execution_count": 10,
   "metadata": {
    "collapsed": true
   },
   "outputs": [],
   "source": [
    "# function to search input parameters on Yelp\n",
    "def search_yelp(search, zipcode):\n",
    "    \n",
    "    keyword = search;\n",
    "    zipcode = zipcode;\n",
    "    \n",
    "    for e in myList[::10]:\n",
    "        \n",
    "        query_url = f\"{default}{search}{locationUrl}{zipcode}{end}{e}\";\n",
    "        response = requests.get(query_url)\n",
    "        soup = BeautifulSoup(response.text, 'html.parser');\n",
    "        \n",
    "        for link in soup.find_all('a', class_=\"biz-name\"):\n",
    "            if link.get('href').startswith('/adredir?'):\n",
    "                continue\n",
    "            else:\n",
    "                url.append(\"https://www.yelp.com\"+link.get('href'))\n",
    "        print(query_url)"
   ]
  },
  {
   "cell_type": "code",
   "execution_count": 6,
   "metadata": {
    "collapsed": true
   },
   "outputs": [],
   "source": [
    "# function to scrape yelp data on each page\n",
    "def scrape_yelp(url):\n",
    "    for i in url:\n",
    "        try:\n",
    "            response = requests.get(i)\n",
    "            soup = BeautifulSoup(response.text, 'html.parser')\n",
    "            \n",
    "            if (soup.find('h1', attrs={'class':'biz-page-title'}).text.strip()) is not None:\n",
    "                business_name.append(soup.find('h1', attrs={'class':'biz-page-title'}).text.strip())\n",
    "            else: \n",
    "                business_name.append('unavailable')\n",
    "            \n",
    "            if (soup.find(attrs={'class': 'category-str-list'}).text.strip()) is not None:\n",
    "                business_category.append(soup.find(attrs={'class': 'category-str-list'}).text.strip())\n",
    "            else:\n",
    "                business_category.append('unavailable')\n",
    "                \n",
    "            if (soup.find(attrs={\"class\":\"i-stars\"})[\"title\"]) is not None:\n",
    "                yelp_rating.append(soup.find(attrs={\"class\":\"i-stars\"})[\"title\"])\n",
    "            else:\n",
    "                yelp_rating.append('unavailable')\n",
    "                \n",
    "            if (soup.find(attrs={'class': 'review-count rating-qualifier'}).text.strip()) is not None:\n",
    "                review_count.append(soup.find(attrs={'class': 'review-count rating-qualifier'}).text.strip())\n",
    "            else: \n",
    "                review_count.append('unavailable')\n",
    "            \n",
    "            if (soup.find(attrs={'class': 'business-attribute price-range'}).text.strip()) is not None:\n",
    "                price_range.append(soup.find(attrs={'class': 'business-attribute price-range'}).text.strip())\n",
    "            else: \n",
    "                price_range.append('unavailable')\n",
    "                \n",
    "            if (soup.find(attrs={'class': 'nowrap price-description'}).text.strip()) is not None:\n",
    "                price_category.append(soup.find(attrs={'class': 'nowrap price-description'}).text.strip())\n",
    "            else: \n",
    "                price_category.append('unavailable')\n",
    "            \n",
    "            if (soup.find(attrs={'class': 'street-address'}).text.strip()) is not None:\n",
    "                address.append(soup.find(attrs={'class': 'street-address'}).text.strip())\n",
    "            else: \n",
    "                address.append('unavailable')\n",
    "                \n",
    "            if (soup.find(attrs={'class': 'biz-phone'}).text.strip()) is not None:\n",
    "                phone.append(soup.find(attrs={'class': 'biz-phone'}).text.strip())\n",
    "            else: \n",
    "                phone.append('unavailable')\n",
    "        \n",
    "            if soup.find(\"a\", href=lambda href: href and \"biz_redir?\" in href) is not None:\n",
    "                website.append(soup.find(\"a\", href=lambda href: href and \"biz_redir?\" in href).text.strip())\n",
    "            else:\n",
    "                website.append('no website')\n",
    "        \n",
    "        except:\n",
    "            business_name.append('unavailable')\n",
    "            business_category.append('unavailable')\n",
    "            yelp_rating.append('unavailable')\n",
    "            review_count.append('unavailable')\n",
    "            price_range.append('unavailable')\n",
    "            price_category.append('unavailable')\n",
    "            address.append('unavailable')\n",
    "            phone.append('unavailable')\n",
    "            website.append('unavailable')\n",
    "            continue"
   ]
  },
  {
   "cell_type": "code",
   "execution_count": 1,
   "metadata": {
    "collapsed": true
   },
   "outputs": [],
   "source": [
    "# create a dataframe with yelp data from yelp scrape\n",
    "\n",
    "def create_table():\n",
    "    data = {\n",
    "    'BusinessName' : business_name,\n",
    "    'BusinessCategory' : business_category,\n",
    "    'YelpRating' : yelp_rating,\n",
    "    'ReviewCount' : review_count,\n",
    "    'PriceRange($)' : price_range,\n",
    "    'PriceCategory': price_category,\n",
    "    'Address' : address, \n",
    "    'Phone' : phone,\n",
    "    'Website' : website\n",
    "    }\n",
    "    \n",
    "    # return data\n",
    "    df = pd.DataFrame.from_dict(data)\n",
    "    df = df[['BusinessName','BusinessCategory','YelpRating','ReviewCount','PriceRange($)', 'PriceCategory','Address',\n",
    "            'Phone', 'Website']]\n",
    "    df.to_csv(f'data/yelp_{search}{zipcode}.csv')\n",
    "    return df"
   ]
  },
  {
   "cell_type": "code",
   "execution_count": 11,
   "metadata": {},
   "outputs": [
    {
     "name": "stdout",
     "output_type": "stream",
     "text": [
      "https://www.yelp.com/search?find_desc=barbershop&find_loc=94526&start=0\n",
      "https://www.yelp.com/search?find_desc=barbershop&find_loc=94526&start=10\n",
      "https://www.yelp.com/search?find_desc=barbershop&find_loc=94526&start=20\n",
      "https://www.yelp.com/search?find_desc=barbershop&find_loc=94526&start=30\n",
      "https://www.yelp.com/search?find_desc=barbershop&find_loc=94526&start=40\n",
      "https://www.yelp.com/search?find_desc=barbershop&find_loc=94526&start=50\n"
     ]
    }
   ],
   "source": [
    "search_yelp(search, zipcode)"
   ]
  },
  {
   "cell_type": "code",
   "execution_count": 9,
   "metadata": {},
   "outputs": [
    {
     "data": {
      "text/plain": [
       "[]"
      ]
     },
     "execution_count": 9,
     "metadata": {},
     "output_type": "execute_result"
    }
   ],
   "source": [
    "url"
   ]
  },
  {
   "cell_type": "code",
   "execution_count": null,
   "metadata": {
    "collapsed": true
   },
   "outputs": [],
   "source": [
    "scrape_yelp(url)"
   ]
  },
  {
   "cell_type": "code",
   "execution_count": null,
   "metadata": {
    "collapsed": true
   },
   "outputs": [],
   "source": [
    "create_table()"
   ]
  },
  {
   "cell_type": "code",
   "execution_count": null,
   "metadata": {
    "collapsed": true
   },
   "outputs": [],
   "source": [
    "data = {\n",
    "    'BusinessName' : business_name,\n",
    "    'BusinessCategory' : business_category,\n",
    "    'YelpRating' : yelp_rating,\n",
    "    'ReviewCount' : review_count,\n",
    "    'PriceRange($)' : price_range,\n",
    "    'PriceCategory': price_category,\n",
    "    'Address' : address, \n",
    "    'Phone' : phone,\n",
    "    'Website' : website\n",
    "    }\n",
    "\n",
    "len(business_name)"
   ]
  },
  {
   "cell_type": "code",
   "execution_count": null,
   "metadata": {
    "collapsed": true
   },
   "outputs": [],
   "source": []
  }
 ],
 "metadata": {
  "kernelspec": {
   "display_name": "Python 3",
   "language": "python",
   "name": "python3"
  },
  "language_info": {
   "codemirror_mode": {
    "name": "ipython",
    "version": 3
   },
   "file_extension": ".py",
   "mimetype": "text/x-python",
   "name": "python",
   "nbconvert_exporter": "python",
   "pygments_lexer": "ipython3",
   "version": "3.6.3"
  }
 },
 "nbformat": 4,
 "nbformat_minor": 2
}
