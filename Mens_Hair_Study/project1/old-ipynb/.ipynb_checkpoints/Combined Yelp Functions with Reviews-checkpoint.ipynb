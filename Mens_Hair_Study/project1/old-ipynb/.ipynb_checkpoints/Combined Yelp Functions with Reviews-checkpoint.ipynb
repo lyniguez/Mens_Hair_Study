{
 "cells": [
  {
   "cell_type": "code",
   "execution_count": 83,
   "metadata": {
    "collapsed": true
   },
   "outputs": [],
   "source": [
    "# yelp scraping project\n",
    "import requests\n",
    "import json\n",
    "import pandas as pd\n",
    "\n",
    "from bs4 import BeautifulSoup\n",
    "import requests\n",
    "from splinter import Browser\n",
    "from selenium import webdriver\n",
    "\n",
    "from IPython.core.interactiveshell import InteractiveShell\n",
    "InteractiveShell.ast_node_interactivity = \"all\"\n",
    "\n",
    "import pandas as pd\n",
    "import re\n",
    "\n",
    "%matplotlib inline\n",
    "import matplotlib.pyplot as plt\n",
    "plt.style.use('fivethirtyeight')"
   ]
  },
  {
   "cell_type": "code",
   "execution_count": 2,
   "metadata": {},
   "outputs": [
    {
     "name": "stdout",
     "output_type": "stream",
     "text": [
      "What would you like to search: Barber\n",
      "Where would you like to search: 94016\n"
     ]
    }
   ],
   "source": [
    "# create input variables\n",
    "\n",
    "search = input(\"What would you like to search: \")\n",
    "zipcode = input(\"Where would you like to search: \")\n",
    "\n",
    "# changed where to Where\n",
    "# created space after search:\" to search: \""
   ]
  },
  {
   "cell_type": "code",
   "execution_count": 3,
   "metadata": {
    "collapsed": true
   },
   "outputs": [],
   "source": [
    "# default web search to concatenate\n",
    "default = \"https://www.yelp.com/search?find_desc=\"\n",
    "locationUrl = \"&find_loc=\"\n",
    "end = \"&ns=1\"\n",
    "\n",
    "# empty lists to append to\n",
    "url = []\n",
    "business_name = []\n",
    "business_category = []\n",
    "yelp_rating = []\n",
    "review_count = []\n",
    "price_range = []\n",
    "price_category = []\n",
    "\n",
    "address = []\n",
    "phone = []\n",
    "website = []\n",
    "\n",
    "# new data\n",
    "review_content = []"
   ]
  },
  {
   "cell_type": "code",
   "execution_count": 4,
   "metadata": {
    "collapsed": true
   },
   "outputs": [],
   "source": [
    "# function to search input parameters on Yelp\n",
    "def search_yelp(search, zipcode):\n",
    "    \n",
    "    keyword = search;\n",
    "    zipcode = zipcode;\n",
    "    query_url = f\"{default}{search}{locationUrl}{zipcode}{end}\";\n",
    "    response = requests.get(query_url)\n",
    "    soup = BeautifulSoup(response.text, 'html.parser');\n",
    "    for link in soup.find_all('a', class_=\"biz-name\"):\n",
    "        url.append(\"https://www.yelp.com\"+link.get('href'))\n",
    "    url.pop(0)"
   ]
  },
  {
   "cell_type": "code",
   "execution_count": 5,
   "metadata": {
    "collapsed": true
   },
   "outputs": [],
   "source": [
    "# function to scrape yelp data on each page\n",
    "def scrape_yelp(url):\n",
    "    for i in url:\n",
    "        response = requests.get(i)\n",
    "        soup = BeautifulSoup(response.text, 'html.parser')\n",
    "        business_name.append(soup.find('h1', attrs={'class':'biz-page-title'}).text.strip())\n",
    "        business_category.append(soup.find(attrs={'class': 'category-str-list'}).text.strip())\n",
    "        yelp_rating.append(soup.find(attrs={\"class\":\"i-stars\"})[\"title\"])\n",
    "        review_count.append(soup.find(attrs={'class': 'review-count rating-qualifier'}).text.strip())\n",
    "        price_range.append(soup.find(attrs={'class': 'business-attribute price-range'}).text.strip())\n",
    "        price_category.append(soup.find(attrs={'class': 'nowrap price-description'}).text.strip())\n",
    "        address.append(soup.find(attrs={'class': 'street-address'}).text.strip())\n",
    "        phone.append(soup.find(attrs={'class': 'biz-phone'}).text.strip())\n",
    "        \n",
    "        if soup.find(\"a\", href=lambda href: href and \"biz_redir?\" in href) is not None:\n",
    "            website.append(soup.find(\"a\", href=lambda href: href and \"biz_redir?\" in href).text.strip())\n",
    "        else:\n",
    "            website.append('no website')       "
   ]
  },
  {
   "cell_type": "code",
   "execution_count": 6,
   "metadata": {
    "collapsed": true
   },
   "outputs": [],
   "source": [
    "review_content = []\n",
    "def get_review_content(url):\n",
    "    for i in (url):\n",
    "        response = requests.get(i)\n",
    "        soup = BeautifulSoup(response.text, 'html.parser')\n",
    "        \n",
    "        rc_unstripped = soup.find_all(attrs={'class': 'review-content'})\n",
    "        rc_length = (len(rc_unstripped))\n",
    "        \n",
    "        for i in range (0, rc_length):\n",
    "            review_content.append(rc_unstripped[i].text.strip())"
   ]
  },
  {
   "cell_type": "code",
   "execution_count": 8,
   "metadata": {
    "collapsed": true
   },
   "outputs": [],
   "source": [
    "# create a dataframe with yelp data from yelp scrape\n",
    "\n",
    "def create_table():\n",
    "    data = {\n",
    "    'BusinessName' : business_name,\n",
    "    'BusinessCategory' : business_category,\n",
    "    'YelpRating' : yelp_rating,\n",
    "    'ReviewCount' : review_count,\n",
    "    'PriceRange($)' : price_range,\n",
    "    'PriceCategory': price_category,\n",
    "    'Address' : address, \n",
    "    'Phone' : phone,\n",
    "    'Website' : website\n",
    "        \n",
    "    }\n",
    "    # return data\n",
    "    df = pd.DataFrame.from_dict(data)\n",
    "    df = df[['BusinessName','BusinessCategory','YelpRating','ReviewCount','PriceRange($)', 'PriceCategory','Address',\n",
    "            'Phone', 'Website']]\n",
    "    df.to_csv(f'data/yelp_{search}{zipcode}.csv')\n",
    "    return df"
   ]
  },
  {
   "cell_type": "code",
   "execution_count": 9,
   "metadata": {
    "collapsed": true
   },
   "outputs": [],
   "source": [
    "# create a dataframe with yelp data from yelp scrape\n",
    "### TABLE is only for ONE BIZ\n",
    "\n",
    "def review_table():\n",
    "    data = {\n",
    "    'Reviews' : review_content\n",
    "    }\n",
    "    # return data\n",
    "    df = pd.DataFrame.from_dict(data)\n",
    "    df = df[['Reviews']]\n",
    "    df.to_csv(f'data/yelp_review{search}{zipcode}.csv', index=True)\n",
    "    return df"
   ]
  },
  {
   "cell_type": "code",
   "execution_count": 21,
   "metadata": {
    "collapsed": true
   },
   "outputs": [],
   "source": [
    "# run after functions are called\n",
    "\n",
    "for i in review_content:\n",
    "    a = review_content[0:20]\n",
    "    b = review_content[20:40]\n",
    "    c = review_content[40:60]\n",
    "    d = review_content[60:80]\n",
    "    e = review_content[80:100]\n",
    "    f = review_content[100:120]\n",
    "    g = review_content[120:140]\n",
    "    h = review_content[140:160]\n",
    "    i = review_content[160:180]\n",
    "    j = review_content[180:200]"
   ]
  },
  {
   "cell_type": "code",
   "execution_count": 10,
   "metadata": {
    "collapsed": true
   },
   "outputs": [],
   "source": [
    "# RUN FUNCTION\n",
    "search_yelp(search, zipcode)"
   ]
  },
  {
   "cell_type": "code",
   "execution_count": 11,
   "metadata": {
    "collapsed": true
   },
   "outputs": [],
   "source": [
    "# RUN FUNCTION\n",
    "scrape_yelp(url)"
   ]
  },
  {
   "cell_type": "code",
   "execution_count": 12,
   "metadata": {
    "collapsed": true
   },
   "outputs": [],
   "source": [
    "# RUN FUNCTION\n",
    "get_review_content(url)"
   ]
  },
  {
   "cell_type": "code",
   "execution_count": 13,
   "metadata": {},
   "outputs": [
    {
     "data": {
      "text/html": [
       "<div>\n",
       "<style>\n",
       "    .dataframe thead tr:only-child th {\n",
       "        text-align: right;\n",
       "    }\n",
       "\n",
       "    .dataframe thead th {\n",
       "        text-align: left;\n",
       "    }\n",
       "\n",
       "    .dataframe tbody tr th {\n",
       "        vertical-align: top;\n",
       "    }\n",
       "</style>\n",
       "<table border=\"1\" class=\"dataframe\">\n",
       "  <thead>\n",
       "    <tr style=\"text-align: right;\">\n",
       "      <th></th>\n",
       "      <th>BusinessName</th>\n",
       "      <th>BusinessCategory</th>\n",
       "      <th>YelpRating</th>\n",
       "      <th>ReviewCount</th>\n",
       "      <th>PriceRange($)</th>\n",
       "      <th>PriceCategory</th>\n",
       "      <th>Address</th>\n",
       "      <th>Phone</th>\n",
       "      <th>Website</th>\n",
       "    </tr>\n",
       "  </thead>\n",
       "  <tbody>\n",
       "    <tr>\n",
       "      <th>0</th>\n",
       "      <td>Supreme Clientele Barber Lounge</td>\n",
       "      <td>Barbers</td>\n",
       "      <td>5.0 star rating</td>\n",
       "      <td>32 reviews</td>\n",
       "      <td>$$</td>\n",
       "      <td>Moderate</td>\n",
       "      <td>7800 El Camino RealSte CColma, CA 94014</td>\n",
       "      <td>(650) 242-9070</td>\n",
       "      <td>supremeclientelebarberlounge.…</td>\n",
       "    </tr>\n",
       "    <tr>\n",
       "      <th>1</th>\n",
       "      <td>Viks the Barber</td>\n",
       "      <td>Barbers</td>\n",
       "      <td>5.0 star rating</td>\n",
       "      <td>36 reviews</td>\n",
       "      <td>$</td>\n",
       "      <td>Inexpensive</td>\n",
       "      <td>139 School StInstaglam Hair StudioDaly City, C...</td>\n",
       "      <td>(650) 731-4329</td>\n",
       "      <td>no website</td>\n",
       "    </tr>\n",
       "    <tr>\n",
       "      <th>2</th>\n",
       "      <td>Fresh Cuts</td>\n",
       "      <td>Barbers</td>\n",
       "      <td>4.0 star rating</td>\n",
       "      <td>62 reviews</td>\n",
       "      <td>$$</td>\n",
       "      <td>Moderate</td>\n",
       "      <td>2750 Junipero Serra BlvdDaly City, CA 94015</td>\n",
       "      <td>(650) 755-6332</td>\n",
       "      <td>no website</td>\n",
       "    </tr>\n",
       "    <tr>\n",
       "      <th>3</th>\n",
       "      <td>The Cutlery Barber Shop</td>\n",
       "      <td>Barbers</td>\n",
       "      <td>4.5 star rating</td>\n",
       "      <td>48 reviews</td>\n",
       "      <td>$$</td>\n",
       "      <td>Moderate</td>\n",
       "      <td>417 Gellert BlvdDaly City, CA 94015</td>\n",
       "      <td>(650) 878-4555</td>\n",
       "      <td>no website</td>\n",
       "    </tr>\n",
       "    <tr>\n",
       "      <th>4</th>\n",
       "      <td>The Tailormade Barbershop</td>\n",
       "      <td>Barbers</td>\n",
       "      <td>4.5 star rating</td>\n",
       "      <td>74 reviews</td>\n",
       "      <td>$$</td>\n",
       "      <td>Moderate</td>\n",
       "      <td>7321 Mission StDaly City, CA 94014</td>\n",
       "      <td>(415) 585-6332</td>\n",
       "      <td>no website</td>\n",
       "    </tr>\n",
       "    <tr>\n",
       "      <th>5</th>\n",
       "      <td>Black &amp; Gold Barber Lounge</td>\n",
       "      <td>Barbers</td>\n",
       "      <td>5.0 star rating</td>\n",
       "      <td>124 reviews</td>\n",
       "      <td>$$</td>\n",
       "      <td>Moderate</td>\n",
       "      <td>6755 Mission StDaly City, CA 94014</td>\n",
       "      <td>(650) 550-4180</td>\n",
       "      <td>no website</td>\n",
       "    </tr>\n",
       "    <tr>\n",
       "      <th>6</th>\n",
       "      <td>R&amp;B Barbershop</td>\n",
       "      <td>Barbers</td>\n",
       "      <td>4.5 star rating</td>\n",
       "      <td>33 reviews</td>\n",
       "      <td>$$</td>\n",
       "      <td>Moderate</td>\n",
       "      <td>667 El Camino RealSouth San Francisco, CA 94080</td>\n",
       "      <td>(650) 583-0716</td>\n",
       "      <td>no website</td>\n",
       "    </tr>\n",
       "    <tr>\n",
       "      <th>7</th>\n",
       "      <td>Fine Line Barbershop</td>\n",
       "      <td>Barbers</td>\n",
       "      <td>4.5 star rating</td>\n",
       "      <td>79 reviews</td>\n",
       "      <td>$</td>\n",
       "      <td>Inexpensive</td>\n",
       "      <td>6135 Mission StDaly City, CA 94014</td>\n",
       "      <td>(415) 494-5519</td>\n",
       "      <td>no website</td>\n",
       "    </tr>\n",
       "    <tr>\n",
       "      <th>8</th>\n",
       "      <td>City Fades Barbershop</td>\n",
       "      <td>Barbers</td>\n",
       "      <td>3.5 star rating</td>\n",
       "      <td>15 reviews</td>\n",
       "      <td>$$</td>\n",
       "      <td>Moderate</td>\n",
       "      <td>1198 Hillside BlvdDaly City, CA 94014</td>\n",
       "      <td>(650) 550-4976</td>\n",
       "      <td>no website</td>\n",
       "    </tr>\n",
       "    <tr>\n",
       "      <th>9</th>\n",
       "      <td>Generation Cuts</td>\n",
       "      <td>Barbers</td>\n",
       "      <td>4.5 star rating</td>\n",
       "      <td>9 reviews</td>\n",
       "      <td>$</td>\n",
       "      <td>Inexpensive</td>\n",
       "      <td>7386 Mission StDaly City, CA 94014</td>\n",
       "      <td>(650) 994-3141</td>\n",
       "      <td>generationcuts.com</td>\n",
       "    </tr>\n",
       "  </tbody>\n",
       "</table>\n",
       "</div>"
      ],
      "text/plain": [
       "                      BusinessName BusinessCategory       YelpRating  \\\n",
       "0  Supreme Clientele Barber Lounge          Barbers  5.0 star rating   \n",
       "1                  Viks the Barber          Barbers  5.0 star rating   \n",
       "2                       Fresh Cuts          Barbers  4.0 star rating   \n",
       "3          The Cutlery Barber Shop          Barbers  4.5 star rating   \n",
       "4        The Tailormade Barbershop          Barbers  4.5 star rating   \n",
       "5       Black & Gold Barber Lounge          Barbers  5.0 star rating   \n",
       "6                   R&B Barbershop          Barbers  4.5 star rating   \n",
       "7             Fine Line Barbershop          Barbers  4.5 star rating   \n",
       "8            City Fades Barbershop          Barbers  3.5 star rating   \n",
       "9                  Generation Cuts          Barbers  4.5 star rating   \n",
       "\n",
       "   ReviewCount PriceRange($) PriceCategory  \\\n",
       "0   32 reviews            $$      Moderate   \n",
       "1   36 reviews             $   Inexpensive   \n",
       "2   62 reviews            $$      Moderate   \n",
       "3   48 reviews            $$      Moderate   \n",
       "4   74 reviews            $$      Moderate   \n",
       "5  124 reviews            $$      Moderate   \n",
       "6   33 reviews            $$      Moderate   \n",
       "7   79 reviews             $   Inexpensive   \n",
       "8   15 reviews            $$      Moderate   \n",
       "9    9 reviews             $   Inexpensive   \n",
       "\n",
       "                                             Address           Phone  \\\n",
       "0            7800 El Camino RealSte CColma, CA 94014  (650) 242-9070   \n",
       "1  139 School StInstaglam Hair StudioDaly City, C...  (650) 731-4329   \n",
       "2        2750 Junipero Serra BlvdDaly City, CA 94015  (650) 755-6332   \n",
       "3                417 Gellert BlvdDaly City, CA 94015  (650) 878-4555   \n",
       "4                 7321 Mission StDaly City, CA 94014  (415) 585-6332   \n",
       "5                 6755 Mission StDaly City, CA 94014  (650) 550-4180   \n",
       "6    667 El Camino RealSouth San Francisco, CA 94080  (650) 583-0716   \n",
       "7                 6135 Mission StDaly City, CA 94014  (415) 494-5519   \n",
       "8              1198 Hillside BlvdDaly City, CA 94014  (650) 550-4976   \n",
       "9                 7386 Mission StDaly City, CA 94014  (650) 994-3141   \n",
       "\n",
       "                          Website  \n",
       "0  supremeclientelebarberlounge.…  \n",
       "1                      no website  \n",
       "2                      no website  \n",
       "3                      no website  \n",
       "4                      no website  \n",
       "5                      no website  \n",
       "6                      no website  \n",
       "7                      no website  \n",
       "8                      no website  \n",
       "9              generationcuts.com  "
      ]
     },
     "execution_count": 13,
     "metadata": {},
     "output_type": "execute_result"
    }
   ],
   "source": [
    "# RUN FUNCTION\n",
    "create_table()"
   ]
  },
  {
   "cell_type": "code",
   "execution_count": 14,
   "metadata": {},
   "outputs": [
    {
     "name": "stdout",
     "output_type": "stream",
     "text": [
      "184\n"
     ]
    }
   ],
   "source": [
    "print(len(review_content))"
   ]
  },
  {
   "cell_type": "code",
   "execution_count": 18,
   "metadata": {},
   "outputs": [
    {
     "data": {
      "text/plain": [
       "'3/22/2018\\n    \\n\\nVik is a wonderful barber.Great service, prompt responses. On time with his scheduled appointments, reasonably priced.I brought my son to him twice. Very happy with his services.'"
      ]
     },
     "execution_count": 18,
     "metadata": {},
     "output_type": "execute_result"
    }
   ],
   "source": [
    "review_content[22]"
   ]
  },
  {
   "cell_type": "code",
   "execution_count": 38,
   "metadata": {},
   "outputs": [
    {
     "data": {
      "text/plain": [
       "'1/21/2008\\n    \\n\\n\\n\\n\\n\\n\\n\\n\\nFirst to Review\\n        \\n\\n\\nBeen coming here for years now. \\xa0Everyone here is a regular and for the same reason Its cheap ($10) and its fast. \\xa0Although the wait can be very long at times so I suggest coming in on slower days in the morning.'"
      ]
     },
     "execution_count": 38,
     "metadata": {},
     "output_type": "execute_result"
    }
   ],
   "source": [
    "j[3]"
   ]
  },
  {
   "cell_type": "code",
   "execution_count": 40,
   "metadata": {},
   "outputs": [
    {
     "data": {
      "text/html": [
       "<div>\n",
       "<style>\n",
       "    .dataframe thead tr:only-child th {\n",
       "        text-align: right;\n",
       "    }\n",
       "\n",
       "    .dataframe thead th {\n",
       "        text-align: left;\n",
       "    }\n",
       "\n",
       "    .dataframe tbody tr th {\n",
       "        vertical-align: top;\n",
       "    }\n",
       "</style>\n",
       "<table border=\"1\" class=\"dataframe\">\n",
       "  <thead>\n",
       "    <tr style=\"text-align: right;\">\n",
       "      <th></th>\n",
       "      <th>Reviews</th>\n",
       "    </tr>\n",
       "  </thead>\n",
       "  <tbody>\n",
       "    <tr>\n",
       "      <th>0</th>\n",
       "      <td>2/22/2018\\n    \\n\\nThis a shout out to Nate an...</td>\n",
       "    </tr>\n",
       "    <tr>\n",
       "      <th>1</th>\n",
       "      <td>1/5/2018\\n    \\n\\nI've been getting my hair cu...</td>\n",
       "    </tr>\n",
       "    <tr>\n",
       "      <th>2</th>\n",
       "      <td>12/8/2017\\n    \\n\\nAbout a week ago Mike gave ...</td>\n",
       "    </tr>\n",
       "    <tr>\n",
       "      <th>3</th>\n",
       "      <td>3/29/2018\\n    \\n\\nNate has been my barber sin...</td>\n",
       "    </tr>\n",
       "    <tr>\n",
       "      <th>4</th>\n",
       "      <td>4/4/2018\\n    \\n\\nJust moved to the Bay a few ...</td>\n",
       "    </tr>\n",
       "  </tbody>\n",
       "</table>\n",
       "</div>"
      ],
      "text/plain": [
       "                                             Reviews\n",
       "0  2/22/2018\\n    \\n\\nThis a shout out to Nate an...\n",
       "1  1/5/2018\\n    \\n\\nI've been getting my hair cu...\n",
       "2  12/8/2017\\n    \\n\\nAbout a week ago Mike gave ...\n",
       "3  3/29/2018\\n    \\n\\nNate has been my barber sin...\n",
       "4  4/4/2018\\n    \\n\\nJust moved to the Bay a few ..."
      ]
     },
     "execution_count": 40,
     "metadata": {},
     "output_type": "execute_result"
    }
   ],
   "source": [
    "review_table().head()"
   ]
  },
  {
   "cell_type": "markdown",
   "metadata": {},
   "source": [
    "### NLTK Section"
   ]
  },
  {
   "cell_type": "markdown",
   "metadata": {},
   "source": [
    "- **Tokenization** is a prcocess of breaking up a piece of **text** into many pieces, such as sentences and words. It works by separating words using spaces and punctuation."
   ]
  },
  {
   "cell_type": "code",
   "execution_count": 66,
   "metadata": {
    "collapsed": true
   },
   "outputs": [],
   "source": [
    "# Let's tokenize some words\n",
    "# word - splits up reviews into words, sent into sentences\n",
    "from nltk.tokenize import word_tokenize, sent_tokenize"
   ]
  },
  {
   "cell_type": "code",
   "execution_count": 67,
   "metadata": {
    "collapsed": true
   },
   "outputs": [],
   "source": [
    "# import stopwords to take out stopwords in english\n",
    "from nltk.corpus import stopwords\n",
    "stop_words = set(stopwords.words('english'))"
   ]
  },
  {
   "cell_type": "code",
   "execution_count": 68,
   "metadata": {},
   "outputs": [
    {
     "data": {
      "text/plain": [
       "184"
      ]
     },
     "execution_count": 68,
     "metadata": {},
     "output_type": "execute_result"
    }
   ],
   "source": [
    "length_of_review_content = (len(review_content))\n",
    "length_of_review_content"
   ]
  },
  {
   "cell_type": "code",
   "execution_count": 69,
   "metadata": {
    "collapsed": true
   },
   "outputs": [],
   "source": [
    "# empty list to append tokenized words\n",
    "tokenized_word = []\n",
    "tokenized_sent = []"
   ]
  },
  {
   "cell_type": "code",
   "execution_count": 70,
   "metadata": {
    "collapsed": true
   },
   "outputs": [],
   "source": [
    "def tokenize_reviews():\n",
    "    for i in range (0, length_of_review_content):\n",
    "        \n",
    "        # tokenize by word, then by sentence\n",
    "        # append to empty lists stored above\n",
    "        tokenized_word.append(word_tokenize(review_content[i]))   \n",
    "        tokenized_sent.append(sent_tokenize(review_content[i]))        "
   ]
  },
  {
   "cell_type": "code",
   "execution_count": 71,
   "metadata": {
    "collapsed": true
   },
   "outputs": [],
   "source": [
    "# RUN FUNCTION\n",
    "tokenize_reviews()"
   ]
  },
  {
   "cell_type": "code",
   "execution_count": 72,
   "metadata": {},
   "outputs": [
    {
     "data": {
      "text/plain": [
       "184"
      ]
     },
     "execution_count": 72,
     "metadata": {},
     "output_type": "execute_result"
    },
    {
     "data": {
      "text/plain": [
       "184"
      ]
     },
     "execution_count": 72,
     "metadata": {},
     "output_type": "execute_result"
    }
   ],
   "source": [
    "len(tokenized_word)\n",
    "len(tokenized_sent)"
   ]
  },
  {
   "cell_type": "markdown",
   "metadata": {},
   "source": [
    "### Section to delete stop words"
   ]
  },
  {
   "cell_type": "code",
   "execution_count": 73,
   "metadata": {
    "collapsed": true
   },
   "outputs": [],
   "source": [
    "# create an empty list to append reviews less stop words\n",
    "filtered_reviews = []"
   ]
  },
  {
   "cell_type": "code",
   "execution_count": 74,
   "metadata": {
    "collapsed": true
   },
   "outputs": [],
   "source": [
    "def delete_stop_words():\n",
    "    for i in range (0, length_of_review_content):\n",
    "        word_token_holder = word_tokenize(review_content[i])\n",
    "        \n",
    "        for w in word_token_holder:\n",
    "            if w not in stop_words: # stop words is an object we set above in our dependencies\n",
    "                filtered_reviews.append(w)    "
   ]
  },
  {
   "cell_type": "code",
   "execution_count": 75,
   "metadata": {
    "collapsed": true
   },
   "outputs": [],
   "source": [
    "# RUN FUNCTION\n",
    "delete_stop_words()"
   ]
  },
  {
   "cell_type": "code",
   "execution_count": 76,
   "metadata": {},
   "outputs": [
    {
     "data": {
      "text/plain": [
       "11122"
      ]
     },
     "execution_count": 76,
     "metadata": {},
     "output_type": "execute_result"
    }
   ],
   "source": [
    "# Print length of filtered reviews\n",
    "len(filtered_reviews)"
   ]
  },
  {
   "cell_type": "markdown",
   "metadata": {},
   "source": [
    "### Wordcloud section"
   ]
  },
  {
   "cell_type": "code",
   "execution_count": 41,
   "metadata": {
    "collapsed": true
   },
   "outputs": [],
   "source": [
    "# import wordcloud to display filtered_reviews\n",
    "from wordcloud import WordCloud\n",
    "import os"
   ]
  },
  {
   "cell_type": "code",
   "execution_count": 77,
   "metadata": {},
   "outputs": [
    {
     "data": {
      "text/plain": [
       "list"
      ]
     },
     "execution_count": 77,
     "metadata": {},
     "output_type": "execute_result"
    }
   ],
   "source": [
    "# find data type of filtered_reviews\n",
    "type(filtered_reviews)"
   ]
  },
  {
   "cell_type": "code",
   "execution_count": 78,
   "metadata": {
    "collapsed": true
   },
   "outputs": [],
   "source": [
    "# convert filtered reviews to string\n",
    "text = str(filtered_reviews)"
   ]
  },
  {
   "cell_type": "code",
   "execution_count": 90,
   "metadata": {
    "collapsed": true
   },
   "outputs": [],
   "source": [
    "# Generate a word cloud image\n",
    "wordcloud = WordCloud(max_font_size=75).generate(text)"
   ]
  },
  {
   "cell_type": "code",
   "execution_count": 84,
   "metadata": {
    "collapsed": true
   },
   "outputs": [],
   "source": [
    "def make_wordcloud(wordcloud):\n",
    "    plt.imshow(wordcloud, interpolation=\"bilinear\")\n",
    "    plt.axis(\"off\")"
   ]
  },
  {
   "cell_type": "code",
   "execution_count": 91,
   "metadata": {
    "scrolled": true
   },
   "outputs": [
    {
     "data": {
      "image/png": "[encoded data removed]",
      "text/plain": [
       "<matplotlib.figure.Figure at 0x11560acc0>"
      ]
     },
     "metadata": {},
     "output_type": "display_data"
    }
   ],
   "source": [
    "make_wordcloud(wordcloud)"
   ]
  },
  {
   "cell_type": "code",
   "execution_count": null,
   "metadata": {
    "collapsed": true
   },
   "outputs": [],
   "source": []
  }
 ],
 "metadata": {
  "kernelspec": {
   "display_name": "Python 3",
   "language": "python",
   "name": "python3"
  },
  "language_info": {
   "codemirror_mode": {
    "name": "ipython",
    "version": 3
   },
   "file_extension": ".py",
   "mimetype": "text/x-python",
   "name": "python",
   "nbconvert_exporter": "python",
   "pygments_lexer": "ipython3",
   "version": "3.6.3"
  }
 },
 "nbformat": 4,
 "nbformat_minor": 2
}
