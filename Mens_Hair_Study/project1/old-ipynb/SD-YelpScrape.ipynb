{
 "cells": [
  {
   "cell_type": "markdown",
   "metadata": {},
   "source": [
    "# Barber Shops in San Diego\n",
    "\n",
    "1. [Mr Brown's Barber Shop](https://www.yelp.com/biz/mister-browns-barber-shop-san-diego?frvs=True&osq=Barber+Shop+for+Men)\n",
    "\n",
    "2. [Barber Side Shop](https://www.yelp.com/biz/the-barber-side-barber-shop-san-diego-2?frvs=True&osq=Barber+Shop+for+Men)\n",
    "\n",
    "3. [Goodfellas Barber and Shave Parlor](https://www.yelp.com/biz/goodfellas-barbershop-shave-parlor-san-diego?frvs=True&osq=Barber+Shop+for+Men)\n",
    "\n",
    "4. [Dame and Dapper](https://www.yelp.com/biz/dame-and-dapper-barber-shop-san-diego-2?frvs=True&osq=Barber+Shop+for+Men)\n",
    "\n",
    "5. [Brother's Barber](https://www.yelp.com/biz/brothers-barber-shop-san-diego-2?frvs=True&osq=Barber+Shop+for+Men)\n",
    "\n",
    "6. [Classic Cuts](https://www.yelp.com/biz/classic-cuts-barber-shop-san-diego-3?frvs=True&osq=Barber+Shop+for+Men)\n",
    "\n",
    "7. [Pappys](https://www.yelp.com/biz/pappys-barber-shop-san-diego-2?frvs=True&osq=Barber+Shop+for+Men)\n",
    "\n",
    "8. [Debonair](https://www.yelp.com/biz/debonair-barber-and-shave-parlor-san-diego?frvs=True&osq=Barber+Shop+for+Men)\n",
    "\n",
    "9. [BLKHRT](https://www.yelp.com/biz/blkhrt-barbershop-san-diego?frvs=True&osq=Barber+Shop+for+Men)\n",
    "\n",
    "10. [Rawknyz](https://www.yelp.com/biz/rawknykz-barber-shop-san-diego?frvs=True&osq=Barber+Shop+for+Men)"
   ]
  },
  {
   "cell_type": "code",
   "execution_count": 2,
   "metadata": {
    "collapsed": true
   },
   "outputs": [],
   "source": [
    "# set barber shop yelp links to a variable\n",
    "\n",
    "mister_brown = \"https://www.yelp.com/biz/mister-browns-barber-shop-san-diego?\\\n",
    "frvs=True&osq=Barber+Shop+for+Men\"\n",
    "\n",
    "barber_side = \"https://www.yelp.com/biz/the-barber-side-barber-shop-san-diego-2?\\\n",
    "frvs=True&osq=Barber+Shop+for+Men\"\n",
    "\n",
    "goodfellas = \"https://www.yelp.com/biz/goodfellas-barbershop-shave-parlor-san-diego?\\\n",
    "frvs=True&osq=Barber+Shop+for+Men\"\n",
    "\n",
    "dame_dapp = \"https://www.yelp.com/biz/dame-and-dapper-barber-shop-san-diego-2?frvs=\\\n",
    "True&osq=Barber+Shop+for+Men\"\n",
    "\n",
    "brothers = \"https://www.yelp.com/biz/brothers-barber-shop-san-diego-2?frvs=True&osq=\\\n",
    "Barber+Shop+for+Men\"\n",
    "\n",
    "classic_cuts = \"https://www.yelp.com/biz/classic-cuts-barber-shop-san-diego-3?frvs=\\\n",
    "True&osq=Barber+Shop+for+Men\"\n",
    "\n",
    "pappys = \"https://www.yelp.com/biz/pappys-barber-shop-san-diego-2?frvs=True&osq=Barber\\\n",
    "+Shop+for+Men\"\n",
    "\n",
    "debonair = \"https://www.yelp.com/biz/debonair-barber-and-shave-parlor-san-diego?frvs=\\\n",
    "True&osq=Barber+Shop+for+Men\"\n",
    "\n",
    "blkhrt = \"https://www.yelp.com/biz/blkhrt-barbershop-san-diego?frvs=True&osq=Barber+Shop\\\n",
    "+for+Men\"\n",
    "\n",
    "rawknyz = \"https://www.yelp.com/biz/rawknykz-barber-shop-san-diego?frvs=True&osq=Barber+\\\n",
    "Shop+for+Men\""
   ]
  },
  {
   "cell_type": "code",
   "execution_count": 3,
   "metadata": {},
   "outputs": [],
   "source": [
    "# add barber shop urls into an array that we will iterate through\n",
    "\n",
    "url = [mister_brown, barber_side, goodfellas, dame_dapp, brothers, classic_cuts, pappys, debonair,\n",
    "                 blkhrt, rawknyz]"
   ]
  },
  {
   "cell_type": "code",
   "execution_count": 4,
   "metadata": {},
   "outputs": [
    {
     "data": {
      "text/plain": [
       "['https://www.yelp.com/biz/mister-browns-barber-shop-san-diego?frvs=True&osq=Barber+Shop+for+Men',\n",
       " 'https://www.yelp.com/biz/the-barber-side-barber-shop-san-diego-2?frvs=True&osq=Barber+Shop+for+Men',\n",
       " 'https://www.yelp.com/biz/goodfellas-barbershop-shave-parlor-san-diego?frvs=True&osq=Barber+Shop+for+Men',\n",
       " 'https://www.yelp.com/biz/dame-and-dapper-barber-shop-san-diego-2?frvs=True&osq=Barber+Shop+for+Men',\n",
       " 'https://www.yelp.com/biz/brothers-barber-shop-san-diego-2?frvs=True&osq=Barber+Shop+for+Men',\n",
       " 'https://www.yelp.com/biz/classic-cuts-barber-shop-san-diego-3?frvs=True&osq=Barber+Shop+for+Men',\n",
       " 'https://www.yelp.com/biz/pappys-barber-shop-san-diego-2?frvs=True&osq=Barber+Shop+for+Men',\n",
       " 'https://www.yelp.com/biz/debonair-barber-and-shave-parlor-san-diego?frvs=True&osq=Barber+Shop+for+Men',\n",
       " 'https://www.yelp.com/biz/blkhrt-barbershop-san-diego?frvs=True&osq=Barber+Shop+for+Men',\n",
       " 'https://www.yelp.com/biz/rawknykz-barber-shop-san-diego?frvs=True&osq=Barber+Shop+for+Men']"
      ]
     },
     "execution_count": 4,
     "metadata": {},
     "output_type": "execute_result"
    }
   ],
   "source": [
    "url"
   ]
  },
  {
   "cell_type": "code",
   "execution_count": null,
   "metadata": {
    "collapsed": true
   },
   "outputs": [],
   "source": [
    "['https://www.yelp.com/biz/biz/omar-the-barber-irvine?osq=barbershop',\n",
    " 'https://www.yelp.com/biz/biz/danckuts-irvine?osq=barbershop',\n",
    " 'https://www.yelp.com/biz/biz/stonecreek-plaza-barber-shop-irvine-3?osq=barbershop',\n",
    " 'https://www.yelp.com/biz/biz/justins-fades-and-hairstyles-irvine-3?osq=barbershop',\n",
    " 'https://www.yelp.com/biz/biz/roosters-mens-grooming-center-irvine?osq=barbershop',\n",
    " 'https://www.yelp.com/biz/biz/made-man-salon-tustin?osq=barbershop',\n",
    " 'https://www.yelp.com/biz/biz/hair-days-irvine?osq=barbershop',\n",
    " 'https://www.yelp.com/biz/biz/the-sharper-look-irvine?osq=barbershop',\n",
    " 'https://www.yelp.com/biz/biz/bespoke-tailored-mens-haircare-irvine?osq=barbershop',\n",
    " 'https://www.yelp.com/biz/biz/sand-canyon-barber-irvine?osq=barbershop']"
   ]
  },
  {
   "cell_type": "code",
   "execution_count": 3,
   "metadata": {
    "collapsed": true
   },
   "outputs": [],
   "source": [
    "from bs4 import BeautifulSoup\n",
    "import requests\n",
    "from splinter import Browser\n",
    "from selenium import webdriver\n",
    "\n",
    "from IPython.core.interactiveshell import InteractiveShell\n",
    "InteractiveShell.ast_node_interactivity = \"all\"\n",
    "\n",
    "import pandas as pd\n",
    "import re"
   ]
  },
  {
   "cell_type": "code",
   "execution_count": 4,
   "metadata": {
    "collapsed": true
   },
   "outputs": [],
   "source": [
    "# empty lists to append to\n",
    "business_name = []\n",
    "business_category = []\n",
    "yelp_rating = []\n",
    "review_count = []\n",
    "price_range = []\n",
    "price_category = []\n",
    "address = []\n",
    "phone = []\n",
    "website = []"
   ]
  },
  {
   "cell_type": "code",
   "execution_count": 5,
   "metadata": {
    "collapsed": true
   },
   "outputs": [],
   "source": [
    "def scrape_yelp(url):\n",
    "    for i in url:\n",
    "        response = requests.get(i)\n",
    "        soup = BeautifulSoup(response.text, 'html.parser')\n",
    "        business_name.append(soup.find('h1', attrs={'class':'biz-page-title'}).text.strip())\n",
    "        business_category.append(soup.find(attrs={'class': 'category-str-list'}).text.strip())\n",
    "        yelp_rating.append(soup.find(attrs={\"class\":\"i-stars\"})[\"title\"])\n",
    "        review_count.append(soup.find(attrs={'class': 'review-count rating-qualifier'}).text.strip())\n",
    "        price_range.append(soup.find(attrs={'class': 'business-attribute price-range'}).text.strip())\n",
    "        price_category.append(soup.find(attrs={'class': 'nowrap price-description'}).text.strip())\n",
    "        address.append(soup.find(attrs={'class': 'street-address'}).text.strip())\n",
    "        phone.append(soup.find(attrs={'class': 'biz-phone'}).text.strip())\n",
    "        \n",
    "        if soup.find(\"a\", href=lambda href: href and \"biz_redir?\" in href) is not None:\n",
    "            website.append(soup.find(\"a\", href=lambda href: href and \"biz_redir?\" in href).text.strip())\n",
    "        else:\n",
    "            website.append('no website')"
   ]
  },
  {
   "cell_type": "code",
   "execution_count": 6,
   "metadata": {
    "collapsed": true
   },
   "outputs": [],
   "source": [
    "scrape_yelp(url)"
   ]
  },
  {
   "cell_type": "code",
   "execution_count": 7,
   "metadata": {},
   "outputs": [
    {
     "data": {
      "text/plain": [
       "['Mister Brown’s Barber Shop',\n",
       " 'The Barber Side Barber Shop',\n",
       " 'Goodfellas Barbershop Shave Parlor',\n",
       " 'Dame & Dapper Barber Shop',\n",
       " 'Brother’s Barber Shop',\n",
       " 'Classic Cuts Barber Shop',\n",
       " 'Pappy’s Barber Shop',\n",
       " 'Debonair Barber and Shave Parlor',\n",
       " 'BLKHRT Barbershop',\n",
       " 'Rawknykz Barber Shop']"
      ]
     },
     "execution_count": 7,
     "metadata": {},
     "output_type": "execute_result"
    },
    {
     "data": {
      "text/plain": [
       "['Barbers',\n",
       " 'Barbers',\n",
       " 'Barbers',\n",
       " 'Barbers',\n",
       " 'Barbers',\n",
       " 'Barbers',\n",
       " 'Barbers',\n",
       " 'Barbers',\n",
       " 'Barbers',\n",
       " 'Barbers']"
      ]
     },
     "execution_count": 7,
     "metadata": {},
     "output_type": "execute_result"
    },
    {
     "data": {
      "text/plain": [
       "['5.0 star rating',\n",
       " '4.5 star rating',\n",
       " '5.0 star rating',\n",
       " '5.0 star rating',\n",
       " '4.5 star rating',\n",
       " '4.5 star rating',\n",
       " '5.0 star rating',\n",
       " '5.0 star rating',\n",
       " '5.0 star rating',\n",
       " '4.5 star rating']"
      ]
     },
     "execution_count": 7,
     "metadata": {},
     "output_type": "execute_result"
    },
    {
     "data": {
      "text/plain": [
       "['394 reviews',\n",
       " '340 reviews',\n",
       " '128 reviews',\n",
       " '74 reviews',\n",
       " '267 reviews',\n",
       " '117 reviews',\n",
       " '180 reviews',\n",
       " '160 reviews',\n",
       " '48 reviews',\n",
       " '131 reviews']"
      ]
     },
     "execution_count": 7,
     "metadata": {},
     "output_type": "execute_result"
    },
    {
     "data": {
      "text/plain": [
       "['$$', '$', '$$', '$$', '$', '$$', '$$', '$$', '$$', '$']"
      ]
     },
     "execution_count": 7,
     "metadata": {},
     "output_type": "execute_result"
    },
    {
     "data": {
      "text/plain": [
       "['Moderate',\n",
       " 'Inexpensive',\n",
       " 'Moderate',\n",
       " 'Moderate',\n",
       " 'Inexpensive',\n",
       " 'Moderate',\n",
       " 'Moderate',\n",
       " 'Moderate',\n",
       " 'Moderate',\n",
       " 'Inexpensive']"
      ]
     },
     "execution_count": 7,
     "metadata": {},
     "output_type": "execute_result"
    },
    {
     "data": {
      "text/plain": [
       "['3064 University AveSan Diego, CA 92104',\n",
       " '3506 Adams AveSan Diego, CA 92116',\n",
       " '2035 University AveSan Diego, CA 92104',\n",
       " '322 1/2 W Washington StSan Diego, CA 92103',\n",
       " '11395 Poway RdSan Diego, CA 92128',\n",
       " '8555 Station Village WaySte DSan Diego, CA 92108',\n",
       " '6528 El Cajon BlvdSan Diego, CA 92115',\n",
       " '730 Market StSan Diego, CA 92101',\n",
       " '1952 Balboa AveSan Diego, CA 92109',\n",
       " '8690 Aero DrSte 106San Diego, CA 92123']"
      ]
     },
     "execution_count": 7,
     "metadata": {},
     "output_type": "execute_result"
    },
    {
     "data": {
      "text/plain": [
       "['(619) 501-8407',\n",
       " '(619) 347-1057',\n",
       " '(619) 230-5301',\n",
       " '(619) 886-1519',\n",
       " '(858) 668-3372',\n",
       " '(619) 684-5871',\n",
       " '(619) 885-2887',\n",
       " '(619) 431-5552',\n",
       " '(858) 735-7466',\n",
       " '(858) 278-1530']"
      ]
     },
     "execution_count": 7,
     "metadata": {},
     "output_type": "execute_result"
    },
    {
     "data": {
      "text/plain": [
       "['misterbrowns.com',\n",
       " 'barberside.com',\n",
       " 'no website',\n",
       " 'dameanddappersd.com',\n",
       " 'no website',\n",
       " 'classiccutssd.com',\n",
       " 'pappysbarbershop.com',\n",
       " 'no website',\n",
       " 'blkhrt.com',\n",
       " 'rawknykzbarbers.com']"
      ]
     },
     "execution_count": 7,
     "metadata": {},
     "output_type": "execute_result"
    }
   ],
   "source": [
    "# print objects to see if information was scraped\n",
    "business_name\n",
    "business_category\n",
    "yelp_rating\n",
    "review_count\n",
    "price_range\n",
    "price_category\n",
    "address\n",
    "phone\n",
    "website"
   ]
  },
  {
   "cell_type": "code",
   "execution_count": 8,
   "metadata": {
    "collapsed": true
   },
   "outputs": [],
   "source": [
    "def create_table():\n",
    "    data = {\n",
    "    'BusinessName' : business_name,\n",
    "    'BusinessCategory' : business_category,\n",
    "    'YelpRating' : yelp_rating,\n",
    "    'ReviewCount' : review_count,\n",
    "    'PriceRange($)' : price_range,\n",
    "    'PriceCategory': price_category,\n",
    "    'Address' : address, \n",
    "    'Phone' : phone,\n",
    "    'Website' : website\n",
    "        \n",
    "    }\n",
    "    # return data\n",
    "    df = pd.DataFrame.from_dict(data)\n",
    "    df = df[['BusinessName','BusinessCategory','YelpRating','ReviewCount','PriceRange($)', 'PriceCategory','Address',\n",
    "            'Phone', 'Website']]\n",
    "    df.to_csv('data/yelp_barber_SD.csv')\n",
    "    return df"
   ]
  },
  {
   "cell_type": "code",
   "execution_count": 9,
   "metadata": {},
   "outputs": [
    {
     "data": {
      "text/html": [
       "<div>\n",
       "<style>\n",
       "    .dataframe thead tr:only-child th {\n",
       "        text-align: right;\n",
       "    }\n",
       "\n",
       "    .dataframe thead th {\n",
       "        text-align: left;\n",
       "    }\n",
       "\n",
       "    .dataframe tbody tr th {\n",
       "        vertical-align: top;\n",
       "    }\n",
       "</style>\n",
       "<table border=\"1\" class=\"dataframe\">\n",
       "  <thead>\n",
       "    <tr style=\"text-align: right;\">\n",
       "      <th></th>\n",
       "      <th>BusinessName</th>\n",
       "      <th>BusinessCategory</th>\n",
       "      <th>YelpRating</th>\n",
       "      <th>ReviewCount</th>\n",
       "      <th>PriceRange($)</th>\n",
       "      <th>PriceCategory</th>\n",
       "      <th>Address</th>\n",
       "      <th>Phone</th>\n",
       "      <th>Website</th>\n",
       "    </tr>\n",
       "  </thead>\n",
       "  <tbody>\n",
       "    <tr>\n",
       "      <th>0</th>\n",
       "      <td>Mister Brown’s Barber Shop</td>\n",
       "      <td>Barbers</td>\n",
       "      <td>5.0 star rating</td>\n",
       "      <td>394 reviews</td>\n",
       "      <td>$$</td>\n",
       "      <td>Moderate</td>\n",
       "      <td>3064 University AveSan Diego, CA 92104</td>\n",
       "      <td>(619) 501-8407</td>\n",
       "      <td>misterbrowns.com</td>\n",
       "    </tr>\n",
       "    <tr>\n",
       "      <th>1</th>\n",
       "      <td>The Barber Side Barber Shop</td>\n",
       "      <td>Barbers</td>\n",
       "      <td>4.5 star rating</td>\n",
       "      <td>340 reviews</td>\n",
       "      <td>$</td>\n",
       "      <td>Inexpensive</td>\n",
       "      <td>3506 Adams AveSan Diego, CA 92116</td>\n",
       "      <td>(619) 347-1057</td>\n",
       "      <td>barberside.com</td>\n",
       "    </tr>\n",
       "    <tr>\n",
       "      <th>2</th>\n",
       "      <td>Goodfellas Barbershop Shave Parlor</td>\n",
       "      <td>Barbers</td>\n",
       "      <td>5.0 star rating</td>\n",
       "      <td>128 reviews</td>\n",
       "      <td>$$</td>\n",
       "      <td>Moderate</td>\n",
       "      <td>2035 University AveSan Diego, CA 92104</td>\n",
       "      <td>(619) 230-5301</td>\n",
       "      <td>no website</td>\n",
       "    </tr>\n",
       "    <tr>\n",
       "      <th>3</th>\n",
       "      <td>Dame &amp; Dapper Barber Shop</td>\n",
       "      <td>Barbers</td>\n",
       "      <td>5.0 star rating</td>\n",
       "      <td>74 reviews</td>\n",
       "      <td>$$</td>\n",
       "      <td>Moderate</td>\n",
       "      <td>322 1/2 W Washington StSan Diego, CA 92103</td>\n",
       "      <td>(619) 886-1519</td>\n",
       "      <td>dameanddappersd.com</td>\n",
       "    </tr>\n",
       "    <tr>\n",
       "      <th>4</th>\n",
       "      <td>Brother’s Barber Shop</td>\n",
       "      <td>Barbers</td>\n",
       "      <td>4.5 star rating</td>\n",
       "      <td>267 reviews</td>\n",
       "      <td>$</td>\n",
       "      <td>Inexpensive</td>\n",
       "      <td>11395 Poway RdSan Diego, CA 92128</td>\n",
       "      <td>(858) 668-3372</td>\n",
       "      <td>no website</td>\n",
       "    </tr>\n",
       "    <tr>\n",
       "      <th>5</th>\n",
       "      <td>Classic Cuts Barber Shop</td>\n",
       "      <td>Barbers</td>\n",
       "      <td>4.5 star rating</td>\n",
       "      <td>117 reviews</td>\n",
       "      <td>$$</td>\n",
       "      <td>Moderate</td>\n",
       "      <td>8555 Station Village WaySte DSan Diego, CA 92108</td>\n",
       "      <td>(619) 684-5871</td>\n",
       "      <td>classiccutssd.com</td>\n",
       "    </tr>\n",
       "    <tr>\n",
       "      <th>6</th>\n",
       "      <td>Pappy’s Barber Shop</td>\n",
       "      <td>Barbers</td>\n",
       "      <td>5.0 star rating</td>\n",
       "      <td>180 reviews</td>\n",
       "      <td>$$</td>\n",
       "      <td>Moderate</td>\n",
       "      <td>6528 El Cajon BlvdSan Diego, CA 92115</td>\n",
       "      <td>(619) 885-2887</td>\n",
       "      <td>pappysbarbershop.com</td>\n",
       "    </tr>\n",
       "    <tr>\n",
       "      <th>7</th>\n",
       "      <td>Debonair Barber and Shave Parlor</td>\n",
       "      <td>Barbers</td>\n",
       "      <td>5.0 star rating</td>\n",
       "      <td>160 reviews</td>\n",
       "      <td>$$</td>\n",
       "      <td>Moderate</td>\n",
       "      <td>730 Market StSan Diego, CA 92101</td>\n",
       "      <td>(619) 431-5552</td>\n",
       "      <td>no website</td>\n",
       "    </tr>\n",
       "    <tr>\n",
       "      <th>8</th>\n",
       "      <td>BLKHRT Barbershop</td>\n",
       "      <td>Barbers</td>\n",
       "      <td>5.0 star rating</td>\n",
       "      <td>48 reviews</td>\n",
       "      <td>$$</td>\n",
       "      <td>Moderate</td>\n",
       "      <td>1952 Balboa AveSan Diego, CA 92109</td>\n",
       "      <td>(858) 735-7466</td>\n",
       "      <td>blkhrt.com</td>\n",
       "    </tr>\n",
       "    <tr>\n",
       "      <th>9</th>\n",
       "      <td>Rawknykz Barber Shop</td>\n",
       "      <td>Barbers</td>\n",
       "      <td>4.5 star rating</td>\n",
       "      <td>131 reviews</td>\n",
       "      <td>$</td>\n",
       "      <td>Inexpensive</td>\n",
       "      <td>8690 Aero DrSte 106San Diego, CA 92123</td>\n",
       "      <td>(858) 278-1530</td>\n",
       "      <td>rawknykzbarbers.com</td>\n",
       "    </tr>\n",
       "  </tbody>\n",
       "</table>\n",
       "</div>"
      ],
      "text/plain": [
       "                         BusinessName BusinessCategory       YelpRating  \\\n",
       "0          Mister Brown’s Barber Shop          Barbers  5.0 star rating   \n",
       "1         The Barber Side Barber Shop          Barbers  4.5 star rating   \n",
       "2  Goodfellas Barbershop Shave Parlor          Barbers  5.0 star rating   \n",
       "3           Dame & Dapper Barber Shop          Barbers  5.0 star rating   \n",
       "4               Brother’s Barber Shop          Barbers  4.5 star rating   \n",
       "5            Classic Cuts Barber Shop          Barbers  4.5 star rating   \n",
       "6                 Pappy’s Barber Shop          Barbers  5.0 star rating   \n",
       "7    Debonair Barber and Shave Parlor          Barbers  5.0 star rating   \n",
       "8                   BLKHRT Barbershop          Barbers  5.0 star rating   \n",
       "9                Rawknykz Barber Shop          Barbers  4.5 star rating   \n",
       "\n",
       "   ReviewCount PriceRange($) PriceCategory  \\\n",
       "0  394 reviews            $$      Moderate   \n",
       "1  340 reviews             $   Inexpensive   \n",
       "2  128 reviews            $$      Moderate   \n",
       "3   74 reviews            $$      Moderate   \n",
       "4  267 reviews             $   Inexpensive   \n",
       "5  117 reviews            $$      Moderate   \n",
       "6  180 reviews            $$      Moderate   \n",
       "7  160 reviews            $$      Moderate   \n",
       "8   48 reviews            $$      Moderate   \n",
       "9  131 reviews             $   Inexpensive   \n",
       "\n",
       "                                            Address           Phone  \\\n",
       "0            3064 University AveSan Diego, CA 92104  (619) 501-8407   \n",
       "1                 3506 Adams AveSan Diego, CA 92116  (619) 347-1057   \n",
       "2            2035 University AveSan Diego, CA 92104  (619) 230-5301   \n",
       "3        322 1/2 W Washington StSan Diego, CA 92103  (619) 886-1519   \n",
       "4                 11395 Poway RdSan Diego, CA 92128  (858) 668-3372   \n",
       "5  8555 Station Village WaySte DSan Diego, CA 92108  (619) 684-5871   \n",
       "6             6528 El Cajon BlvdSan Diego, CA 92115  (619) 885-2887   \n",
       "7                  730 Market StSan Diego, CA 92101  (619) 431-5552   \n",
       "8                1952 Balboa AveSan Diego, CA 92109  (858) 735-7466   \n",
       "9            8690 Aero DrSte 106San Diego, CA 92123  (858) 278-1530   \n",
       "\n",
       "                Website  \n",
       "0      misterbrowns.com  \n",
       "1        barberside.com  \n",
       "2            no website  \n",
       "3   dameanddappersd.com  \n",
       "4            no website  \n",
       "5     classiccutssd.com  \n",
       "6  pappysbarbershop.com  \n",
       "7            no website  \n",
       "8            blkhrt.com  \n",
       "9   rawknykzbarbers.com  "
      ]
     },
     "execution_count": 9,
     "metadata": {},
     "output_type": "execute_result"
    }
   ],
   "source": [
    "create_table()"
   ]
  },
  {
   "cell_type": "code",
   "execution_count": null,
   "metadata": {
    "collapsed": true
   },
   "outputs": [],
   "source": []
  }
 ],
 "metadata": {
  "kernelspec": {
   "display_name": "Python 3",
   "language": "python",
   "name": "python3"
  },
  "language_info": {
   "codemirror_mode": {
    "name": "ipython",
    "version": 3
   },
   "file_extension": ".py",
   "mimetype": "text/x-python",
   "name": "python",
   "nbconvert_exporter": "python",
   "pygments_lexer": "ipython3",
   "version": "3.6.3"
  }
 },
 "nbformat": 4,
 "nbformat_minor": 2
}
