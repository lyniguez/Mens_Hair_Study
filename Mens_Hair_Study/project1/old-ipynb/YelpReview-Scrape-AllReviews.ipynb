{
 "cells": [
  {
   "cell_type": "code",
   "execution_count": 1,
   "metadata": {
    "collapsed": true
   },
   "outputs": [],
   "source": [
    "# yelp scraping project\n",
    "import requests\n",
    "import json\n",
    "import pandas as pd\n",
    "import numpy as np\n",
    "\n",
    "from bs4 import BeautifulSoup\n",
    "import requests\n",
    "\n",
    "from IPython.core.interactiveshell import InteractiveShell\n",
    "InteractiveShell.ast_node_interactivity = \"all\"\n",
    "\n",
    "import pandas as pd\n",
    "import re\n",
    "\n",
    "%matplotlib inline\n",
    "import matplotlib.pyplot as plt\n",
    "plt.style.use('fivethirtyeight')\n",
    "\n",
    "import warnings\n",
    "warnings.filterwarnings('ignore')"
   ]
  },
  {
   "cell_type": "code",
   "execution_count": 2,
   "metadata": {},
   "outputs": [
    {
     "name": "stdout",
     "output_type": "stream",
     "text": [
      "height has been deprecated.\n",
      "\n"
     ]
    }
   ],
   "source": [
    "pd.set_option('display.height', 1000)\n",
    "pd.set_option('display.max_rows', 500)\n",
    "pd.set_option('display.max_columns', 2500)\n",
    "pd.set_option('display.width', 1000)"
   ]
  },
  {
   "cell_type": "code",
   "execution_count": 3,
   "metadata": {},
   "outputs": [],
   "source": [
    "# hard code this section to scrape multiple pages for reviews\n",
    "main = 'https://www.yelp.com/biz/made-man-salon-tustin'\n",
    "url = [main,\n",
    "       main + '?start=20',]\n",
    "      #main + '?start=40',\n",
    "      #main + '?start=60',\n",
    "      #main + '?start=80',\n",
    "      #main + '?start=100',\n",
    "      #main + '?start=120',\n",
    "      #main + '?start=140',\n",
    "      #main + '?start=160',]\n",
    "      #main + '?start=180',\n",
    "      #main + '?start=200',\n",
    "      #main + '?start=220',\n",
    "      #main + '?start=240',\n",
    "      #main + '?start=260',\n",
    "      #main + '?start=280',\n",
    "      #main + '?start=300',]"
   ]
  },
  {
   "cell_type": "code",
   "execution_count": 4,
   "metadata": {},
   "outputs": [
    {
     "name": "stdout",
     "output_type": "stream",
     "text": [
      "https://www.yelp.com/biz/made-man-salon-tustin\n",
      "https://www.yelp.com/biz/made-man-salon-tustin?start=20\n"
     ]
    }
   ],
   "source": [
    "for i in url:\n",
    "    print (i)"
   ]
  },
  {
   "cell_type": "markdown",
   "metadata": {},
   "source": [
    "# Start Review Section"
   ]
  },
  {
   "cell_type": "code",
   "execution_count": 5,
   "metadata": {
    "collapsed": true
   },
   "outputs": [],
   "source": [
    "reviews = []"
   ]
  },
  {
   "cell_type": "code",
   "execution_count": 6,
   "metadata": {
    "collapsed": true
   },
   "outputs": [],
   "source": [
    "def get_review_content(url):\n",
    "    for i in url:\n",
    "        response = requests.get(i)\n",
    "        soup = BeautifulSoup(response.text, 'html.parser')\n",
    "        \n",
    "        rc_unstripped = soup.find_all(attrs={'class': 'review-content'})\n",
    "        rc_length = (len(rc_unstripped))\n",
    "        \n",
    "        for i in range (0, rc_length):\n",
    "            reviews.append(rc_unstripped[i].text.strip())       "
   ]
  },
  {
   "cell_type": "code",
   "execution_count": 7,
   "metadata": {},
   "outputs": [],
   "source": [
    "# Run the function\n",
    "get_review_content(url)"
   ]
  },
  {
   "cell_type": "code",
   "execution_count": 8,
   "metadata": {},
   "outputs": [
    {
     "name": "stdout",
     "output_type": "stream",
     "text": [
      "23\n"
     ]
    }
   ],
   "source": [
    "print(len(reviews))"
   ]
  },
  {
   "cell_type": "code",
   "execution_count": 9,
   "metadata": {
    "scrolled": true
   },
   "outputs": [
    {
     "name": "stdout",
     "output_type": "stream",
     "text": [
      "9/9/2017\n",
      "    \n",
      "\n",
      "A-M-A-Z-I-N-GThis place is simply amazing, Yelena is incredible talented, passionate about her business and an incredible human being. I discovered Yelena last year and since then I don't let anybody to cut my hair. She gives an ultimate upscale 5 stars attention to her clients from the moment you walk in to the moment you leave. She's simple a ROCK STAR!!!!!!!!!!! she's smart and her skills are out of this world. I always say: Once Yelena, you can't leave her. If I could give her more than 5 stars I would totally do it. She deserves more than that.\n"
     ]
    }
   ],
   "source": [
    "print(reviews[2])"
   ]
  },
  {
   "cell_type": "code",
   "execution_count": 10,
   "metadata": {},
   "outputs": [
    {
     "data": {
      "text/plain": [
       "0    1/24/2018\\n    \\n\\nI think I've finally found ...\n",
       "1    10/14/2017\\n    \\n\\nI've been a client with Ye...\n",
       "2    9/9/2017\\n    \\n\\nA-M-A-Z-I-N-GThis place is s...\n",
       "3    2/2/2017\\n    \\n\\n\\n\\n\\n\\n\\n\\n\\n7 check-ins\\n ...\n",
       "4    3/3/2017\\n    \\n\\nI've been in Orange County f...\n",
       "dtype: object"
      ]
     },
     "execution_count": 10,
     "metadata": {},
     "output_type": "execute_result"
    }
   ],
   "source": [
    "# convert reviews to pd series\n",
    "reviews_s = pd.Series(reviews)\n",
    "reviews_s.head()"
   ]
  },
  {
   "cell_type": "code",
   "execution_count": 11,
   "metadata": {
    "collapsed": true
   },
   "outputs": [],
   "source": [
    "# create a pandas df from reviews\n",
    "data = {'Reviews' : reviews_s}\n",
    "\n",
    "df = pd.DataFrame.from_dict(data)\n",
    "df = df[['Reviews']]    "
   ]
  },
  {
   "cell_type": "code",
   "execution_count": 12,
   "metadata": {},
   "outputs": [
    {
     "data": {
      "text/html": [
       "<div>\n",
       "<style>\n",
       "    .dataframe thead tr:only-child th {\n",
       "        text-align: right;\n",
       "    }\n",
       "\n",
       "    .dataframe thead th {\n",
       "        text-align: left;\n",
       "    }\n",
       "\n",
       "    .dataframe tbody tr th {\n",
       "        vertical-align: top;\n",
       "    }\n",
       "</style>\n",
       "<table border=\"1\" class=\"dataframe\">\n",
       "  <thead>\n",
       "    <tr style=\"text-align: right;\">\n",
       "      <th></th>\n",
       "      <th>Reviews</th>\n",
       "    </tr>\n",
       "  </thead>\n",
       "  <tbody>\n",
       "    <tr>\n",
       "      <th>0</th>\n",
       "      <td>1/24/2018\\n    \\n\\nI think I've finally found ...</td>\n",
       "    </tr>\n",
       "    <tr>\n",
       "      <th>1</th>\n",
       "      <td>10/14/2017\\n    \\n\\nI've been a client with Ye...</td>\n",
       "    </tr>\n",
       "    <tr>\n",
       "      <th>2</th>\n",
       "      <td>9/9/2017\\n    \\n\\nA-M-A-Z-I-N-GThis place is s...</td>\n",
       "    </tr>\n",
       "    <tr>\n",
       "      <th>3</th>\n",
       "      <td>2/2/2017\\n    \\n\\n\\n\\n\\n\\n\\n\\n\\n7 check-ins\\n ...</td>\n",
       "    </tr>\n",
       "    <tr>\n",
       "      <th>4</th>\n",
       "      <td>3/3/2017\\n    \\n\\nI've been in Orange County f...</td>\n",
       "    </tr>\n",
       "  </tbody>\n",
       "</table>\n",
       "</div>"
      ],
      "text/plain": [
       "                                             Reviews\n",
       "0  1/24/2018\\n    \\n\\nI think I've finally found ...\n",
       "1  10/14/2017\\n    \\n\\nI've been a client with Ye...\n",
       "2  9/9/2017\\n    \\n\\nA-M-A-Z-I-N-GThis place is s...\n",
       "3  2/2/2017\\n    \\n\\n\\n\\n\\n\\n\\n\\n\\n7 check-ins\\n ...\n",
       "4  3/3/2017\\n    \\n\\nI've been in Orange County f..."
      ]
     },
     "execution_count": 12,
     "metadata": {},
     "output_type": "execute_result"
    }
   ],
   "source": [
    "df.head()"
   ]
  },
  {
   "cell_type": "code",
   "execution_count": 13,
   "metadata": {
    "collapsed": true
   },
   "outputs": [],
   "source": [
    "# split date and reviews\n",
    "df['Date'] = df.Reviews.str.split('\\n').str.get(0)\n",
    "df['Review'] = df.Reviews.str.split('\\n\\n').str.get(1)"
   ]
  },
  {
   "cell_type": "code",
   "execution_count": 14,
   "metadata": {},
   "outputs": [],
   "source": [
    "# drop Reviews column\n",
    "df.drop('Reviews', axis=1, inplace=True)"
   ]
  },
  {
   "cell_type": "code",
   "execution_count": 15,
   "metadata": {},
   "outputs": [
    {
     "data": {
      "text/html": [
       "<div>\n",
       "<style>\n",
       "    .dataframe thead tr:only-child th {\n",
       "        text-align: right;\n",
       "    }\n",
       "\n",
       "    .dataframe thead th {\n",
       "        text-align: left;\n",
       "    }\n",
       "\n",
       "    .dataframe tbody tr th {\n",
       "        vertical-align: top;\n",
       "    }\n",
       "</style>\n",
       "<table border=\"1\" class=\"dataframe\">\n",
       "  <thead>\n",
       "    <tr style=\"text-align: right;\">\n",
       "      <th></th>\n",
       "      <th>Date</th>\n",
       "      <th>Review</th>\n",
       "    </tr>\n",
       "  </thead>\n",
       "  <tbody>\n",
       "    <tr>\n",
       "      <th>0</th>\n",
       "      <td>1/24/2018</td>\n",
       "      <td>I think I've finally found THE best place in O...</td>\n",
       "    </tr>\n",
       "    <tr>\n",
       "      <th>1</th>\n",
       "      <td>10/14/2017</td>\n",
       "      <td>I've been a client with Yelena for almost 12 y...</td>\n",
       "    </tr>\n",
       "    <tr>\n",
       "      <th>2</th>\n",
       "      <td>9/9/2017</td>\n",
       "      <td>A-M-A-Z-I-N-GThis place is simply amazing, Yel...</td>\n",
       "    </tr>\n",
       "    <tr>\n",
       "      <th>3</th>\n",
       "      <td>2/2/2017</td>\n",
       "      <td></td>\n",
       "    </tr>\n",
       "    <tr>\n",
       "      <th>4</th>\n",
       "      <td>3/3/2017</td>\n",
       "      <td>I've been in Orange County for 7 years now and...</td>\n",
       "    </tr>\n",
       "  </tbody>\n",
       "</table>\n",
       "</div>"
      ],
      "text/plain": [
       "         Date                                             Review\n",
       "0   1/24/2018  I think I've finally found THE best place in O...\n",
       "1  10/14/2017  I've been a client with Yelena for almost 12 y...\n",
       "2    9/9/2017  A-M-A-Z-I-N-GThis place is simply amazing, Yel...\n",
       "3    2/2/2017                                                   \n",
       "4    3/3/2017  I've been in Orange County for 7 years now and..."
      ]
     },
     "execution_count": 15,
     "metadata": {},
     "output_type": "execute_result"
    }
   ],
   "source": [
    "df.head()"
   ]
  },
  {
   "cell_type": "code",
   "execution_count": 16,
   "metadata": {},
   "outputs": [
    {
     "data": {
      "text/html": [
       "<div>\n",
       "<style>\n",
       "    .dataframe thead tr:only-child th {\n",
       "        text-align: right;\n",
       "    }\n",
       "\n",
       "    .dataframe thead th {\n",
       "        text-align: left;\n",
       "    }\n",
       "\n",
       "    .dataframe tbody tr th {\n",
       "        vertical-align: top;\n",
       "    }\n",
       "</style>\n",
       "<table border=\"1\" class=\"dataframe\">\n",
       "  <thead>\n",
       "    <tr style=\"text-align: right;\">\n",
       "      <th></th>\n",
       "      <th>Date</th>\n",
       "      <th>Review</th>\n",
       "    </tr>\n",
       "  </thead>\n",
       "  <tbody>\n",
       "    <tr>\n",
       "      <th>18</th>\n",
       "      <td>2/12/2017</td>\n",
       "      <td>Yelena has been my go to stylist for many year...</td>\n",
       "    </tr>\n",
       "    <tr>\n",
       "      <th>19</th>\n",
       "      <td>2/4/2017</td>\n",
       "      <td>I have been going to Yelena for 2 years now, a...</td>\n",
       "    </tr>\n",
       "    <tr>\n",
       "      <th>20</th>\n",
       "      <td>5/6/2017</td>\n",
       "      <td>First visitors. We made it a family event.  My...</td>\n",
       "    </tr>\n",
       "    <tr>\n",
       "      <th>21</th>\n",
       "      <td>4/27/2017</td>\n",
       "      <td>Yelena has been my stylist for nearly a decade...</td>\n",
       "    </tr>\n",
       "    <tr>\n",
       "      <th>22</th>\n",
       "      <td>3/9/2017</td>\n",
       "      <td>Yelena is the best in the business. I've been ...</td>\n",
       "    </tr>\n",
       "  </tbody>\n",
       "</table>\n",
       "</div>"
      ],
      "text/plain": [
       "         Date                                             Review\n",
       "18  2/12/2017  Yelena has been my go to stylist for many year...\n",
       "19   2/4/2017  I have been going to Yelena for 2 years now, a...\n",
       "20   5/6/2017  First visitors. We made it a family event.  My...\n",
       "21  4/27/2017  Yelena has been my stylist for nearly a decade...\n",
       "22   3/9/2017  Yelena is the best in the business. I've been ..."
      ]
     },
     "execution_count": 16,
     "metadata": {},
     "output_type": "execute_result"
    }
   ],
   "source": [
    "# delete NaN rows\n",
    "df2 = df.replace(r\"\", np.nan)\n",
    "df2.tail()"
   ]
  },
  {
   "cell_type": "code",
   "execution_count": 17,
   "metadata": {},
   "outputs": [
    {
     "data": {
      "text/html": [
       "<div>\n",
       "<style>\n",
       "    .dataframe thead tr:only-child th {\n",
       "        text-align: right;\n",
       "    }\n",
       "\n",
       "    .dataframe thead th {\n",
       "        text-align: left;\n",
       "    }\n",
       "\n",
       "    .dataframe tbody tr th {\n",
       "        vertical-align: top;\n",
       "    }\n",
       "</style>\n",
       "<table border=\"1\" class=\"dataframe\">\n",
       "  <thead>\n",
       "    <tr style=\"text-align: right;\">\n",
       "      <th></th>\n",
       "      <th>Date</th>\n",
       "      <th>Review</th>\n",
       "    </tr>\n",
       "  </thead>\n",
       "  <tbody>\n",
       "    <tr>\n",
       "      <th>0</th>\n",
       "      <td>1/24/2018</td>\n",
       "      <td>I think I've finally found THE best place in O...</td>\n",
       "    </tr>\n",
       "    <tr>\n",
       "      <th>1</th>\n",
       "      <td>10/14/2017</td>\n",
       "      <td>I've been a client with Yelena for almost 12 y...</td>\n",
       "    </tr>\n",
       "    <tr>\n",
       "      <th>2</th>\n",
       "      <td>9/9/2017</td>\n",
       "      <td>A-M-A-Z-I-N-GThis place is simply amazing, Yel...</td>\n",
       "    </tr>\n",
       "    <tr>\n",
       "      <th>3</th>\n",
       "      <td>3/3/2017</td>\n",
       "      <td>I've been in Orange County for 7 years now and...</td>\n",
       "    </tr>\n",
       "    <tr>\n",
       "      <th>4</th>\n",
       "      <td>3/3/2017</td>\n",
       "      <td>Yelena has my complete trust when styling my h...</td>\n",
       "    </tr>\n",
       "  </tbody>\n",
       "</table>\n",
       "</div>"
      ],
      "text/plain": [
       "         Date                                             Review\n",
       "0   1/24/2018  I think I've finally found THE best place in O...\n",
       "1  10/14/2017  I've been a client with Yelena for almost 12 y...\n",
       "2    9/9/2017  A-M-A-Z-I-N-GThis place is simply amazing, Yel...\n",
       "3    3/3/2017  I've been in Orange County for 7 years now and...\n",
       "4    3/3/2017  Yelena has my complete trust when styling my h..."
      ]
     },
     "execution_count": 17,
     "metadata": {},
     "output_type": "execute_result"
    },
    {
     "data": {
      "text/plain": [
       "(21, 2)"
      ]
     },
     "execution_count": 17,
     "metadata": {},
     "output_type": "execute_result"
    }
   ],
   "source": [
    "# drop NaN rows\n",
    "df3 = df2.dropna()\n",
    "\n",
    "# reset index\n",
    "df3.reset_index(drop=True, inplace=True)\n",
    "\n",
    "df3.head()\n",
    "df3.shape"
   ]
  },
  {
   "cell_type": "code",
   "execution_count": 18,
   "metadata": {},
   "outputs": [
    {
     "data": {
      "text/plain": [
       "Date      0\n",
       "Review    0\n",
       "dtype: int64"
      ]
     },
     "execution_count": 18,
     "metadata": {},
     "output_type": "execute_result"
    }
   ],
   "source": [
    "# checks to see if there are any null values\n",
    "df3.isnull().sum()"
   ]
  },
  {
   "cell_type": "markdown",
   "metadata": {},
   "source": [
    "# Pandas DF and Sentiment Section"
   ]
  },
  {
   "cell_type": "code",
   "execution_count": 19,
   "metadata": {
    "collapsed": true
   },
   "outputs": [],
   "source": [
    "from textblob import TextBlob"
   ]
  },
  {
   "cell_type": "code",
   "execution_count": 20,
   "metadata": {},
   "outputs": [
    {
     "data": {
      "text/plain": [
       "\"I think I've finally found THE best place in OC to get my hair cut! \\xa0Finally! \\xa0Awesome cut, awesome experience. Normally it takes going to a hair stylist for a while to get it right-- nailed it on my first visit.\""
      ]
     },
     "execution_count": 20,
     "metadata": {},
     "output_type": "execute_result"
    }
   ],
   "source": [
    "# convert Review column in df3 to list\n",
    "review_list = df3['Review'].tolist()\n",
    "review_list[0]"
   ]
  },
  {
   "cell_type": "code",
   "execution_count": 21,
   "metadata": {},
   "outputs": [
    {
     "data": {
      "text/plain": [
       "21"
      ]
     },
     "execution_count": 21,
     "metadata": {},
     "output_type": "execute_result"
    }
   ],
   "source": [
    "len(review_list)"
   ]
  },
  {
   "cell_type": "code",
   "execution_count": 22,
   "metadata": {
    "collapsed": true
   },
   "outputs": [],
   "source": [
    "sentiment_score = []\n",
    "# iterate through review list\n",
    "for r in review_list:\n",
    "    sentiment = TextBlob(r)\n",
    "    sentiment_score.append(sentiment.sentiment.polarity)"
   ]
  },
  {
   "cell_type": "code",
   "execution_count": 23,
   "metadata": {
    "collapsed": true
   },
   "outputs": [],
   "source": [
    "# convert to series\n",
    "sentiment_score_convert = pd.Series(sentiment_score)"
   ]
  },
  {
   "cell_type": "code",
   "execution_count": 24,
   "metadata": {
    "collapsed": true
   },
   "outputs": [],
   "source": [
    "# add sentiment score to sentiment_df\n",
    "df3.insert(loc=1, column='SentimentScore', value=sentiment_score_convert)"
   ]
  },
  {
   "cell_type": "code",
   "execution_count": 25,
   "metadata": {},
   "outputs": [
    {
     "data": {
      "text/html": [
       "<div>\n",
       "<style>\n",
       "    .dataframe thead tr:only-child th {\n",
       "        text-align: right;\n",
       "    }\n",
       "\n",
       "    .dataframe thead th {\n",
       "        text-align: left;\n",
       "    }\n",
       "\n",
       "    .dataframe tbody tr th {\n",
       "        vertical-align: top;\n",
       "    }\n",
       "</style>\n",
       "<table border=\"1\" class=\"dataframe\">\n",
       "  <thead>\n",
       "    <tr style=\"text-align: right;\">\n",
       "      <th></th>\n",
       "      <th>Date</th>\n",
       "      <th>SentimentScore</th>\n",
       "      <th>Review</th>\n",
       "    </tr>\n",
       "  </thead>\n",
       "  <tbody>\n",
       "    <tr>\n",
       "      <th>0</th>\n",
       "      <td>1/24/2018</td>\n",
       "      <td>0.526531</td>\n",
       "      <td>I think I've finally found THE best place in O...</td>\n",
       "    </tr>\n",
       "    <tr>\n",
       "      <th>1</th>\n",
       "      <td>10/14/2017</td>\n",
       "      <td>0.324125</td>\n",
       "      <td>I've been a client with Yelena for almost 12 y...</td>\n",
       "    </tr>\n",
       "    <tr>\n",
       "      <th>2</th>\n",
       "      <td>9/9/2017</td>\n",
       "      <td>0.328022</td>\n",
       "      <td>A-M-A-Z-I-N-GThis place is simply amazing, Yel...</td>\n",
       "    </tr>\n",
       "    <tr>\n",
       "      <th>3</th>\n",
       "      <td>3/3/2017</td>\n",
       "      <td>0.450617</td>\n",
       "      <td>I've been in Orange County for 7 years now and...</td>\n",
       "    </tr>\n",
       "    <tr>\n",
       "      <th>4</th>\n",
       "      <td>3/3/2017</td>\n",
       "      <td>0.360000</td>\n",
       "      <td>Yelena has my complete trust when styling my h...</td>\n",
       "    </tr>\n",
       "  </tbody>\n",
       "</table>\n",
       "</div>"
      ],
      "text/plain": [
       "         Date  SentimentScore                                             Review\n",
       "0   1/24/2018        0.526531  I think I've finally found THE best place in O...\n",
       "1  10/14/2017        0.324125  I've been a client with Yelena for almost 12 y...\n",
       "2    9/9/2017        0.328022  A-M-A-Z-I-N-GThis place is simply amazing, Yel...\n",
       "3    3/3/2017        0.450617  I've been in Orange County for 7 years now and...\n",
       "4    3/3/2017        0.360000  Yelena has my complete trust when styling my h..."
      ]
     },
     "execution_count": 25,
     "metadata": {},
     "output_type": "execute_result"
    }
   ],
   "source": [
    "df3.head()"
   ]
  },
  {
   "cell_type": "code",
   "execution_count": 26,
   "metadata": {
    "collapsed": true
   },
   "outputs": [],
   "source": [
    "sentiment = []\n",
    "# iterate through sentiment_score to assign a pos or neg val\n",
    "for s in sentiment_score:\n",
    "    if s > 0:\n",
    "        sentiment.append('Positive')\n",
    "    else:\n",
    "        sentiment.append('Negative')"
   ]
  },
  {
   "cell_type": "code",
   "execution_count": 27,
   "metadata": {},
   "outputs": [
    {
     "name": "stdout",
     "output_type": "stream",
     "text": [
      "21\n",
      "21\n"
     ]
    }
   ],
   "source": [
    "print(len(sentiment_score))\n",
    "print(len(sentiment))"
   ]
  },
  {
   "cell_type": "code",
   "execution_count": 28,
   "metadata": {},
   "outputs": [
    {
     "data": {
      "text/plain": [
       "Date              0\n",
       "SentimentScore    0\n",
       "Review            0\n",
       "dtype: int64"
      ]
     },
     "execution_count": 28,
     "metadata": {},
     "output_type": "execute_result"
    }
   ],
   "source": [
    "# check for null values\n",
    "df3.isnull().sum()"
   ]
  },
  {
   "cell_type": "code",
   "execution_count": 29,
   "metadata": {
    "collapsed": true
   },
   "outputs": [],
   "source": [
    "# convert sentiment to a pandas series\n",
    "sentiment_2 = pd.Series(sentiment)"
   ]
  },
  {
   "cell_type": "code",
   "execution_count": 30,
   "metadata": {
    "collapsed": true
   },
   "outputs": [],
   "source": [
    "# add sentiment score to sentiment_df\n",
    "df3.insert(loc=2, column='Sentiment', value=sentiment_2)"
   ]
  },
  {
   "cell_type": "code",
   "execution_count": 31,
   "metadata": {},
   "outputs": [
    {
     "data": {
      "text/html": [
       "<div>\n",
       "<style>\n",
       "    .dataframe thead tr:only-child th {\n",
       "        text-align: right;\n",
       "    }\n",
       "\n",
       "    .dataframe thead th {\n",
       "        text-align: left;\n",
       "    }\n",
       "\n",
       "    .dataframe tbody tr th {\n",
       "        vertical-align: top;\n",
       "    }\n",
       "</style>\n",
       "<table border=\"1\" class=\"dataframe\">\n",
       "  <thead>\n",
       "    <tr style=\"text-align: right;\">\n",
       "      <th></th>\n",
       "      <th>Date</th>\n",
       "      <th>SentimentScore</th>\n",
       "      <th>Sentiment</th>\n",
       "      <th>Review</th>\n",
       "    </tr>\n",
       "  </thead>\n",
       "  <tbody>\n",
       "    <tr>\n",
       "      <th>0</th>\n",
       "      <td>1/24/2018</td>\n",
       "      <td>0.526531</td>\n",
       "      <td>Positive</td>\n",
       "      <td>I think I've finally found THE best place in O...</td>\n",
       "    </tr>\n",
       "    <tr>\n",
       "      <th>1</th>\n",
       "      <td>10/14/2017</td>\n",
       "      <td>0.324125</td>\n",
       "      <td>Positive</td>\n",
       "      <td>I've been a client with Yelena for almost 12 y...</td>\n",
       "    </tr>\n",
       "    <tr>\n",
       "      <th>2</th>\n",
       "      <td>9/9/2017</td>\n",
       "      <td>0.328022</td>\n",
       "      <td>Positive</td>\n",
       "      <td>A-M-A-Z-I-N-GThis place is simply amazing, Yel...</td>\n",
       "    </tr>\n",
       "    <tr>\n",
       "      <th>3</th>\n",
       "      <td>3/3/2017</td>\n",
       "      <td>0.450617</td>\n",
       "      <td>Positive</td>\n",
       "      <td>I've been in Orange County for 7 years now and...</td>\n",
       "    </tr>\n",
       "    <tr>\n",
       "      <th>4</th>\n",
       "      <td>3/3/2017</td>\n",
       "      <td>0.360000</td>\n",
       "      <td>Positive</td>\n",
       "      <td>Yelena has my complete trust when styling my h...</td>\n",
       "    </tr>\n",
       "  </tbody>\n",
       "</table>\n",
       "</div>"
      ],
      "text/plain": [
       "         Date  SentimentScore Sentiment                                             Review\n",
       "0   1/24/2018        0.526531  Positive  I think I've finally found THE best place in O...\n",
       "1  10/14/2017        0.324125  Positive  I've been a client with Yelena for almost 12 y...\n",
       "2    9/9/2017        0.328022  Positive  A-M-A-Z-I-N-GThis place is simply amazing, Yel...\n",
       "3    3/3/2017        0.450617  Positive  I've been in Orange County for 7 years now and...\n",
       "4    3/3/2017        0.360000  Positive  Yelena has my complete trust when styling my h..."
      ]
     },
     "execution_count": 31,
     "metadata": {},
     "output_type": "execute_result"
    }
   ],
   "source": [
    "df3.head()"
   ]
  },
  {
   "cell_type": "code",
   "execution_count": 32,
   "metadata": {},
   "outputs": [
    {
     "data": {
      "text/plain": [
       "Positive    21\n",
       "Name: Sentiment, dtype: int64"
      ]
     },
     "execution_count": 32,
     "metadata": {},
     "output_type": "execute_result"
    }
   ],
   "source": [
    "# check value counts for Positive and Negative\n",
    "df3.Sentiment.value_counts()"
   ]
  },
  {
   "cell_type": "code",
   "execution_count": 33,
   "metadata": {
    "collapsed": true
   },
   "outputs": [],
   "source": [
    "# convert Sentiment label to a numerical value\n",
    "df3['SentimentNum'] = df3.Sentiment.map({'Positive': 0,\n",
    "                                                 'Negative': 1})"
   ]
  },
  {
   "cell_type": "code",
   "execution_count": 34,
   "metadata": {},
   "outputs": [
    {
     "data": {
      "text/html": [
       "<div>\n",
       "<style>\n",
       "    .dataframe thead tr:only-child th {\n",
       "        text-align: right;\n",
       "    }\n",
       "\n",
       "    .dataframe thead th {\n",
       "        text-align: left;\n",
       "    }\n",
       "\n",
       "    .dataframe tbody tr th {\n",
       "        vertical-align: top;\n",
       "    }\n",
       "</style>\n",
       "<table border=\"1\" class=\"dataframe\">\n",
       "  <thead>\n",
       "    <tr style=\"text-align: right;\">\n",
       "      <th></th>\n",
       "      <th>Date</th>\n",
       "      <th>SentimentScore</th>\n",
       "      <th>Sentiment</th>\n",
       "      <th>Review</th>\n",
       "      <th>SentimentNum</th>\n",
       "    </tr>\n",
       "  </thead>\n",
       "  <tbody>\n",
       "    <tr>\n",
       "      <th>0</th>\n",
       "      <td>1/24/2018</td>\n",
       "      <td>0.526531</td>\n",
       "      <td>Positive</td>\n",
       "      <td>I think I've finally found THE best place in O...</td>\n",
       "      <td>0</td>\n",
       "    </tr>\n",
       "    <tr>\n",
       "      <th>1</th>\n",
       "      <td>10/14/2017</td>\n",
       "      <td>0.324125</td>\n",
       "      <td>Positive</td>\n",
       "      <td>I've been a client with Yelena for almost 12 y...</td>\n",
       "      <td>0</td>\n",
       "    </tr>\n",
       "    <tr>\n",
       "      <th>2</th>\n",
       "      <td>9/9/2017</td>\n",
       "      <td>0.328022</td>\n",
       "      <td>Positive</td>\n",
       "      <td>A-M-A-Z-I-N-GThis place is simply amazing, Yel...</td>\n",
       "      <td>0</td>\n",
       "    </tr>\n",
       "    <tr>\n",
       "      <th>3</th>\n",
       "      <td>3/3/2017</td>\n",
       "      <td>0.450617</td>\n",
       "      <td>Positive</td>\n",
       "      <td>I've been in Orange County for 7 years now and...</td>\n",
       "      <td>0</td>\n",
       "    </tr>\n",
       "    <tr>\n",
       "      <th>4</th>\n",
       "      <td>3/3/2017</td>\n",
       "      <td>0.360000</td>\n",
       "      <td>Positive</td>\n",
       "      <td>Yelena has my complete trust when styling my h...</td>\n",
       "      <td>0</td>\n",
       "    </tr>\n",
       "  </tbody>\n",
       "</table>\n",
       "</div>"
      ],
      "text/plain": [
       "         Date  SentimentScore Sentiment                                             Review  SentimentNum\n",
       "0   1/24/2018        0.526531  Positive  I think I've finally found THE best place in O...             0\n",
       "1  10/14/2017        0.324125  Positive  I've been a client with Yelena for almost 12 y...             0\n",
       "2    9/9/2017        0.328022  Positive  A-M-A-Z-I-N-GThis place is simply amazing, Yel...             0\n",
       "3    3/3/2017        0.450617  Positive  I've been in Orange County for 7 years now and...             0\n",
       "4    3/3/2017        0.360000  Positive  Yelena has my complete trust when styling my h...             0"
      ]
     },
     "execution_count": 34,
     "metadata": {},
     "output_type": "execute_result"
    },
    {
     "data": {
      "text/html": [
       "<div>\n",
       "<style>\n",
       "    .dataframe thead tr:only-child th {\n",
       "        text-align: right;\n",
       "    }\n",
       "\n",
       "    .dataframe thead th {\n",
       "        text-align: left;\n",
       "    }\n",
       "\n",
       "    .dataframe tbody tr th {\n",
       "        vertical-align: top;\n",
       "    }\n",
       "</style>\n",
       "<table border=\"1\" class=\"dataframe\">\n",
       "  <thead>\n",
       "    <tr style=\"text-align: right;\">\n",
       "      <th></th>\n",
       "      <th>Date</th>\n",
       "      <th>SentimentScore</th>\n",
       "      <th>Sentiment</th>\n",
       "      <th>Review</th>\n",
       "      <th>SentimentNum</th>\n",
       "    </tr>\n",
       "  </thead>\n",
       "  <tbody>\n",
       "    <tr>\n",
       "      <th>16</th>\n",
       "      <td>2/12/2017</td>\n",
       "      <td>0.010417</td>\n",
       "      <td>Positive</td>\n",
       "      <td>Yelena has been my go to stylist for many year...</td>\n",
       "      <td>0</td>\n",
       "    </tr>\n",
       "    <tr>\n",
       "      <th>17</th>\n",
       "      <td>2/4/2017</td>\n",
       "      <td>0.306169</td>\n",
       "      <td>Positive</td>\n",
       "      <td>I have been going to Yelena for 2 years now, a...</td>\n",
       "      <td>0</td>\n",
       "    </tr>\n",
       "    <tr>\n",
       "      <th>18</th>\n",
       "      <td>5/6/2017</td>\n",
       "      <td>0.325000</td>\n",
       "      <td>Positive</td>\n",
       "      <td>First visitors. We made it a family event.  My...</td>\n",
       "      <td>0</td>\n",
       "    </tr>\n",
       "    <tr>\n",
       "      <th>19</th>\n",
       "      <td>4/27/2017</td>\n",
       "      <td>0.137500</td>\n",
       "      <td>Positive</td>\n",
       "      <td>Yelena has been my stylist for nearly a decade...</td>\n",
       "      <td>0</td>\n",
       "    </tr>\n",
       "    <tr>\n",
       "      <th>20</th>\n",
       "      <td>3/9/2017</td>\n",
       "      <td>0.314719</td>\n",
       "      <td>Positive</td>\n",
       "      <td>Yelena is the best in the business. I've been ...</td>\n",
       "      <td>0</td>\n",
       "    </tr>\n",
       "  </tbody>\n",
       "</table>\n",
       "</div>"
      ],
      "text/plain": [
       "         Date  SentimentScore Sentiment                                             Review  SentimentNum\n",
       "16  2/12/2017        0.010417  Positive  Yelena has been my go to stylist for many year...             0\n",
       "17   2/4/2017        0.306169  Positive  I have been going to Yelena for 2 years now, a...             0\n",
       "18   5/6/2017        0.325000  Positive  First visitors. We made it a family event.  My...             0\n",
       "19  4/27/2017        0.137500  Positive  Yelena has been my stylist for nearly a decade...             0\n",
       "20   3/9/2017        0.314719  Positive  Yelena is the best in the business. I've been ...             0"
      ]
     },
     "execution_count": 34,
     "metadata": {},
     "output_type": "execute_result"
    },
    {
     "data": {
      "text/plain": [
       "(21, 5)"
      ]
     },
     "execution_count": 34,
     "metadata": {},
     "output_type": "execute_result"
    }
   ],
   "source": [
    "df3.head()\n",
    "df3.tail()\n",
    "df3.shape"
   ]
  },
  {
   "cell_type": "code",
   "execution_count": 35,
   "metadata": {},
   "outputs": [
    {
     "data": {
      "text/plain": [
       "0    21\n",
       "Name: SentimentNum, dtype: int64"
      ]
     },
     "execution_count": 35,
     "metadata": {},
     "output_type": "execute_result"
    }
   ],
   "source": [
    "df3.SentimentNum.value_counts()"
   ]
  },
  {
   "cell_type": "code",
   "execution_count": 36,
   "metadata": {},
   "outputs": [
    {
     "data": {
      "text/plain": [
       "'made-man-salon-tustin'"
      ]
     },
     "execution_count": 36,
     "metadata": {},
     "output_type": "execute_result"
    }
   ],
   "source": [
    "# extract business name from \"main\" url\n",
    "bizname_split = main.split('https://www.yelp.com/biz/')\n",
    "bizname = bizname_split[1]\n",
    "bizname"
   ]
  },
  {
   "cell_type": "code",
   "execution_count": 37,
   "metadata": {
    "scrolled": true
   },
   "outputs": [],
   "source": [
    "# save csv to reviews folder to use for NLP\n",
    "df3.to_csv(f'reviews/{bizname}.csv', index=False)"
   ]
  },
  {
   "cell_type": "markdown",
   "metadata": {},
   "source": [
    "# Section for NLTK"
   ]
  },
  {
   "cell_type": "markdown",
   "metadata": {},
   "source": [
    "### Import saved csvs from reviews directory"
   ]
  },
  {
   "cell_type": "code",
   "execution_count": null,
   "metadata": {
    "collapsed": true
   },
   "outputs": [],
   "source": [
    "# Define X and y for use with COUNTVECTORIZE\n",
    "X = df3.Review\n",
    "y = df3.SentimentNum\n",
    "print(X.shape)\n",
    "print(y.shape)"
   ]
  }
 ],
 "metadata": {
  "kernelspec": {
   "display_name": "Python 3",
   "language": "python",
   "name": "python3"
  },
  "language_info": {
   "codemirror_mode": {
    "name": "ipython",
    "version": 3
   },
   "file_extension": ".py",
   "mimetype": "text/x-python",
   "name": "python",
   "nbconvert_exporter": "python",
   "pygments_lexer": "ipython3",
   "version": "3.6.4"
  }
 },
 "nbformat": 4,
 "nbformat_minor": 2
}
