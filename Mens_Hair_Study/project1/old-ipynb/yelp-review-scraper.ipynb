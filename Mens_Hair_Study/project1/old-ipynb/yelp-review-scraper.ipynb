{
 "cells": [
  {
   "cell_type": "markdown",
   "metadata": {},
   "source": [
    "# Barber Shops in San Diego\n",
    "\n",
    "1. [Mr Brown's Barber Shop](https://www.yelp.com/biz/mister-browns-barber-shop-san-diego?frvs=True&osq=Barber+Shop+for+Men)\n",
    "\n",
    "2. [Barber Side Shop](https://www.yelp.com/biz/the-barber-side-barber-shop-san-diego-2?frvs=True&osq=Barber+Shop+for+Men)\n",
    "\n",
    "3. [Goodfellas Barber and Shave Parlor](https://www.yelp.com/biz/goodfellas-barbershop-shave-parlor-san-diego?frvs=True&osq=Barber+Shop+for+Men)\n",
    "\n",
    "4. [Dame and Dapper](https://www.yelp.com/biz/dame-and-dapper-barber-shop-san-diego-2?frvs=True&osq=Barber+Shop+for+Men)\n",
    "\n",
    "5. [Brother's Barber](https://www.yelp.com/biz/brothers-barber-shop-san-diego-2?frvs=True&osq=Barber+Shop+for+Men)\n",
    "\n",
    "6. [Classic Cuts](https://www.yelp.com/biz/classic-cuts-barber-shop-san-diego-3?frvs=True&osq=Barber+Shop+for+Men)\n",
    "\n",
    "7. [Pappys](https://www.yelp.com/biz/pappys-barber-shop-san-diego-2?frvs=True&osq=Barber+Shop+for+Men)\n",
    "\n",
    "8. [Debonair](https://www.yelp.com/biz/debonair-barber-and-shave-parlor-san-diego?frvs=True&osq=Barber+Shop+for+Men)\n",
    "\n",
    "9. [BLKHRT](https://www.yelp.com/biz/blkhrt-barbershop-san-diego?frvs=True&osq=Barber+Shop+for+Men)\n",
    "\n",
    "10. [Rawknyz](https://www.yelp.com/biz/rawknykz-barber-shop-san-diego?frvs=True&osq=Barber+Shop+for+Men)"
   ]
  },
  {
   "cell_type": "code",
   "execution_count": 3,
   "metadata": {
    "collapsed": true
   },
   "outputs": [],
   "source": [
    "# set barber shop yelp links to a variable\n",
    "\n",
    "mister_brown = \"https://www.yelp.com/biz/mister-browns-barber-shop-san-diego?\\\n",
    "frvs=True&osq=Barber+Shop+for+Men\"\n",
    "\n",
    "barber_side = \"https://www.yelp.com/biz/the-barber-side-barber-shop-san-diego-2?\\\n",
    "frvs=True&osq=Barber+Shop+for+Men\"\n",
    "\n",
    "# this page doesnt have a website\n",
    "goodfellas = \"https://www.yelp.com/biz/goodfellas-barbershop-shave-parlor-san-diego?\\\n",
    "frvs=True&osq=Barber+Shop+for+Men\"\n",
    "\n",
    "dame_dapp = \"https://www.yelp.com/biz/dame-and-dapper-barber-shop-san-diego-2?frvs=\\\n",
    "True&osq=Barber+Shop+for+Men\"\n",
    "\n",
    "brothers = \"https://www.yelp.com/biz/brothers-barber-shop-san-diego-2?frvs=True&osq=\\\n",
    "Barber+Shop+for+Men\"\n",
    "\n",
    "classic_cuts = \"https://www.yelp.com/biz/classic-cuts-barber-shop-san-diego-3?frvs=\\\n",
    "True&osq=Barber+Shop+for+Men\"\n",
    "\n",
    "pappys = \"https://www.yelp.com/biz/pappys-barber-shop-san-diego-2?frvs=True&osq=Barber\\\n",
    "+Shop+for+Men\"\n",
    "\n",
    "debonair = \"https://www.yelp.com/biz/debonair-barber-and-shave-parlor-san-diego?frvs=\\\n",
    "True&osq=Barber+Shop+for+Men\"\n",
    "\n",
    "blkhrt = \"https://www.yelp.com/biz/blkhrt-barbershop-san-diego?frvs=True&osq=Barber+Shop\\\n",
    "+for+Men\"\n",
    "\n",
    "rawknyz = \"https://www.yelp.com/biz/rawknykz-barber-shop-san-diego?frvs=True&osq=Barber+\\\n",
    "Shop+for+Men\"\n",
    "\n",
    "api_key = \"s2goqCzg76nWow2QQgzy3-e4d2nSgOP9eUNgbF1umrwuzaZ-SY3ui36ZhjC0rvUfR9p1nIjlgAIM9xVfZmw1UjeE_\\\n",
    "clegu3lRdblzlgK2wvRSeCaLRWFEZqwe4m9WnYx\"\n"
   ]
  },
  {
   "cell_type": "code",
   "execution_count": 4,
   "metadata": {
    "collapsed": true
   },
   "outputs": [],
   "source": [
    "from bs4 import BeautifulSoup\n",
    "import requests\n",
    "from splinter import Browser\n",
    "from selenium import webdriver\n",
    "\n",
    "from IPython.core.interactiveshell import InteractiveShell\n",
    "InteractiveShell.ast_node_interactivity = \"all\"\n",
    "\n",
    "import pandas as pd\n",
    "import numpy as np\n",
    "import re"
   ]
  },
  {
   "cell_type": "code",
   "execution_count": 5,
   "metadata": {
    "collapsed": true
   },
   "outputs": [],
   "source": [
    "%matplotlib inline\n",
    "import matplotlib.pyplot as plt\n",
    "plt.style.use('fivethirtyeight')"
   ]
  },
  {
   "cell_type": "code",
   "execution_count": 6,
   "metadata": {
    "collapsed": true
   },
   "outputs": [],
   "source": [
    "# Set up Beautiful Soup to Scrape\n",
    "\n",
    "# script to connect to website on yelp\n",
    "### we're just passing through one url / biz to scrape\n",
    "response = requests.get(rawknyz)\n",
    "\n",
    "# soup object to parse yelp\n",
    "soup = BeautifulSoup(response.text, 'html.parser')"
   ]
  },
  {
   "cell_type": "markdown",
   "metadata": {},
   "source": [
    "### Section to Scrape reviews"
   ]
  },
  {
   "cell_type": "code",
   "execution_count": 7,
   "metadata": {},
   "outputs": [
    {
     "name": "stdout",
     "output_type": "stream",
     "text": [
      "The original length of reviews is: 102 items.\n"
     ]
    }
   ],
   "source": [
    "# create an empty list to append reviews to\n",
    "reviews = []\n",
    "\n",
    "for paragraph in soup.find_all('p'):\n",
    "    # print(paragraph.text)\n",
    "    reviews.append(paragraph.text.strip())\n",
    "\n",
    "print(\"The original length of reviews is: \" + str(len(reviews)) + \" items.\")"
   ]
  },
  {
   "cell_type": "markdown",
   "metadata": {},
   "source": [
    "### NLTK practice section"
   ]
  },
  {
   "cell_type": "markdown",
   "metadata": {},
   "source": [
    "- **Tokenization** is a prcocess of breaking up a piece of **text** into many pieces, such as sentences and words. It works by separating words using spaces and punctuation."
   ]
  },
  {
   "cell_type": "code",
   "execution_count": 8,
   "metadata": {
    "collapsed": true
   },
   "outputs": [],
   "source": [
    "# Let's tokenize some words\n",
    "# word - splits up reviews into words, sent into sentences\n",
    "from nltk.tokenize import word_tokenize, sent_tokenize"
   ]
  },
  {
   "cell_type": "code",
   "execution_count": 19,
   "metadata": {
    "scrolled": false
   },
   "outputs": [
    {
     "data": {
      "text/plain": [
       "{'a',\n",
       " 'about',\n",
       " 'above',\n",
       " 'after',\n",
       " 'again',\n",
       " 'against',\n",
       " 'ain',\n",
       " 'all',\n",
       " 'am',\n",
       " 'an',\n",
       " 'and',\n",
       " 'any',\n",
       " 'are',\n",
       " 'aren',\n",
       " 'as',\n",
       " 'at',\n",
       " 'be',\n",
       " 'because',\n",
       " 'been',\n",
       " 'before',\n",
       " 'being',\n",
       " 'below',\n",
       " 'between',\n",
       " 'both',\n",
       " 'but',\n",
       " 'by',\n",
       " 'can',\n",
       " 'couldn',\n",
       " 'd',\n",
       " 'did',\n",
       " 'didn',\n",
       " 'do',\n",
       " 'does',\n",
       " 'doesn',\n",
       " 'doing',\n",
       " 'don',\n",
       " 'down',\n",
       " 'during',\n",
       " 'each',\n",
       " 'few',\n",
       " 'for',\n",
       " 'from',\n",
       " 'further',\n",
       " 'had',\n",
       " 'hadn',\n",
       " 'has',\n",
       " 'hasn',\n",
       " 'have',\n",
       " 'haven',\n",
       " 'having',\n",
       " 'he',\n",
       " 'her',\n",
       " 'here',\n",
       " 'hers',\n",
       " 'herself',\n",
       " 'him',\n",
       " 'himself',\n",
       " 'his',\n",
       " 'how',\n",
       " 'i',\n",
       " 'if',\n",
       " 'in',\n",
       " 'into',\n",
       " 'is',\n",
       " 'isn',\n",
       " 'it',\n",
       " 'its',\n",
       " 'itself',\n",
       " 'just',\n",
       " 'll',\n",
       " 'm',\n",
       " 'ma',\n",
       " 'me',\n",
       " 'mightn',\n",
       " 'more',\n",
       " 'most',\n",
       " 'mustn',\n",
       " 'my',\n",
       " 'myself',\n",
       " 'needn',\n",
       " 'no',\n",
       " 'nor',\n",
       " 'not',\n",
       " 'now',\n",
       " 'o',\n",
       " 'of',\n",
       " 'off',\n",
       " 'on',\n",
       " 'once',\n",
       " 'only',\n",
       " 'or',\n",
       " 'other',\n",
       " 'our',\n",
       " 'ours',\n",
       " 'ourselves',\n",
       " 'out',\n",
       " 'over',\n",
       " 'own',\n",
       " 're',\n",
       " 's',\n",
       " 'same',\n",
       " 'shan',\n",
       " 'she',\n",
       " 'should',\n",
       " 'shouldn',\n",
       " 'so',\n",
       " 'some',\n",
       " 'such',\n",
       " 't',\n",
       " 'than',\n",
       " 'that',\n",
       " 'the',\n",
       " 'their',\n",
       " 'theirs',\n",
       " 'them',\n",
       " 'themselves',\n",
       " 'then',\n",
       " 'there',\n",
       " 'these',\n",
       " 'they',\n",
       " 'this',\n",
       " 'those',\n",
       " 'through',\n",
       " 'to',\n",
       " 'too',\n",
       " 'under',\n",
       " 'until',\n",
       " 'up',\n",
       " 've',\n",
       " 'very',\n",
       " 'was',\n",
       " 'wasn',\n",
       " 'we',\n",
       " 'were',\n",
       " 'weren',\n",
       " 'what',\n",
       " 'when',\n",
       " 'where',\n",
       " 'which',\n",
       " 'while',\n",
       " 'who',\n",
       " 'whom',\n",
       " 'why',\n",
       " 'will',\n",
       " 'with',\n",
       " 'won',\n",
       " 'wouldn',\n",
       " 'y',\n",
       " 'you',\n",
       " 'your',\n",
       " 'yours',\n",
       " 'yourself',\n",
       " 'yourselves'}"
      ]
     },
     "execution_count": 19,
     "metadata": {},
     "output_type": "execute_result"
    }
   ],
   "source": [
    "# import stopwords to take out stopwords in english\n",
    "from nltk.corpus import stopwords\n",
    "stop_words = set(stopwords.words('english'))\n",
    "stop_words"
   ]
  },
  {
   "cell_type": "code",
   "execution_count": 9,
   "metadata": {},
   "outputs": [
    {
     "data": {
      "text/plain": [
       "102"
      ]
     },
     "execution_count": 9,
     "metadata": {},
     "output_type": "execute_result"
    }
   ],
   "source": [
    "length_of_reviews = (len(reviews))\n",
    "length_of_reviews"
   ]
  },
  {
   "cell_type": "code",
   "execution_count": 10,
   "metadata": {
    "collapsed": true
   },
   "outputs": [],
   "source": [
    "# empty list to append tokenized words\n",
    "tokenized_word = []\n",
    "tokenized_sent = []"
   ]
  },
  {
   "cell_type": "code",
   "execution_count": 11,
   "metadata": {
    "collapsed": true
   },
   "outputs": [],
   "source": [
    "def tokenize_reviews():\n",
    "    for i in range (0, length_of_reviews):\n",
    "        \n",
    "        # tokenize by word, then by sentence\n",
    "        # append to empty lists stored above\n",
    "        tokenized_word.append(word_tokenize(reviews[i]))   \n",
    "        tokenized_sent.append(sent_tokenize(reviews[i]))        "
   ]
  },
  {
   "cell_type": "code",
   "execution_count": 12,
   "metadata": {
    "collapsed": true
   },
   "outputs": [],
   "source": [
    "# runs the function\n",
    "tokenize_reviews()"
   ]
  },
  {
   "cell_type": "code",
   "execution_count": 13,
   "metadata": {},
   "outputs": [
    {
     "data": {
      "text/plain": [
       "['You',\n",
       " 'can',\n",
       " 'also',\n",
       " 'search',\n",
       " 'near',\n",
       " 'a',\n",
       " 'city',\n",
       " ',',\n",
       " 'place',\n",
       " ',',\n",
       " 'or',\n",
       " 'address',\n",
       " 'instead',\n",
       " '.']"
      ]
     },
     "execution_count": 13,
     "metadata": {},
     "output_type": "execute_result"
    }
   ],
   "source": [
    "# prints the tokenized word at index 5\n",
    "tokenized_word[5]"
   ]
  },
  {
   "cell_type": "code",
   "execution_count": 14,
   "metadata": {},
   "outputs": [
    {
     "data": {
      "text/plain": [
       "[\"My son needed a haircut, we stopped here and I'm so glad I did.\",\n",
       " 'When we walked in we were told that a barber would be right with us and within 10 mins my son was in a chair.',\n",
       " \"After telling the barber(I forgot his name) how I wanted it cut he was very informative, he told me how he was cutting it and more importantly he took his time and we didn't feel rushed.\",\n",
       " \"My son wanted a design for the 1st time, he mentioned that he normally doesn't do designs but he felt confident that day, he really he came thru for us bc we LOVE it!\",\n",
       " 'He got us in and out, which I loved.',\n",
       " 'This place is legit, for the time, convenience and definitely the price, THIS IS THE PLACE!',\n",
       " 'We will definitely be back!']"
      ]
     },
     "execution_count": 14,
     "metadata": {},
     "output_type": "execute_result"
    }
   ],
   "source": [
    "# prints the tokenized sentence at index 10\n",
    "tokenized_sent[10]"
   ]
  },
  {
   "cell_type": "code",
   "execution_count": 15,
   "metadata": {},
   "outputs": [
    {
     "name": "stdout",
     "output_type": "stream",
     "text": [
      "102\n",
      "102\n"
     ]
    }
   ],
   "source": [
    "print(len(tokenized_word))\n",
    "print(len(tokenized_sent))"
   ]
  },
  {
   "cell_type": "markdown",
   "metadata": {},
   "source": [
    "### Section to test stop words"
   ]
  },
  {
   "cell_type": "code",
   "execution_count": 16,
   "metadata": {
    "collapsed": true
   },
   "outputs": [],
   "source": [
    "# create an empty list to append reviews less stop words\n",
    "filtered_reviews = []"
   ]
  },
  {
   "cell_type": "code",
   "execution_count": 17,
   "metadata": {
    "collapsed": true
   },
   "outputs": [],
   "source": [
    "def delete_stop_words():\n",
    "    for i in range (0, length_of_reviews):\n",
    "        word_token_holder = word_tokenize(reviews[i])\n",
    "        \n",
    "        for w in word_token_holder:\n",
    "            if w not in stop_words: # stop words is an object we set above in our dependencies\n",
    "                filtered_reviews.append(w)    "
   ]
  },
  {
   "cell_type": "code",
   "execution_count": 20,
   "metadata": {},
   "outputs": [],
   "source": [
    "# run the function\n",
    "delete_stop_words()"
   ]
  },
  {
   "cell_type": "code",
   "execution_count": 21,
   "metadata": {},
   "outputs": [
    {
     "name": "stdout",
     "output_type": "stream",
     "text": [
      "2775\n"
     ]
    }
   ],
   "source": [
    "print(len(filtered_reviews))"
   ]
  },
  {
   "cell_type": "markdown",
   "metadata": {},
   "source": [
    "### Wordcloud section"
   ]
  },
  {
   "cell_type": "code",
   "execution_count": 24,
   "metadata": {
    "collapsed": true
   },
   "outputs": [],
   "source": [
    "# import wordcloud to display filtered_reviews\n",
    "from wordcloud import WordCloud\n",
    "import os"
   ]
  },
  {
   "cell_type": "code",
   "execution_count": 25,
   "metadata": {},
   "outputs": [
    {
     "data": {
      "text/plain": [
       "list"
      ]
     },
     "execution_count": 25,
     "metadata": {},
     "output_type": "execute_result"
    }
   ],
   "source": [
    "# find data type of filtered_reviews\n",
    "type(filtered_reviews)"
   ]
  },
  {
   "cell_type": "code",
   "execution_count": 26,
   "metadata": {
    "collapsed": true
   },
   "outputs": [],
   "source": [
    "# convert filtered reviews to string\n",
    "text = str(filtered_reviews)"
   ]
  },
  {
   "cell_type": "code",
   "execution_count": 27,
   "metadata": {
    "collapsed": true
   },
   "outputs": [],
   "source": [
    "# Generate a word cloud image\n",
    "wordcloud = WordCloud(max_font_size=100).generate(text)"
   ]
  },
  {
   "cell_type": "code",
   "execution_count": 28,
   "metadata": {
    "collapsed": true
   },
   "outputs": [],
   "source": [
    "def make_wordcloud(wordcloud):\n",
    "    plt.imshow(wordcloud, interpolation=\"bilinear\")\n",
    "    plt.axis(\"off\")"
   ]
  },
  {
   "cell_type": "code",
   "execution_count": 29,
   "metadata": {},
   "outputs": [
    {
     "data": {
      "image/png": "[encoded data removed]",
      "text/plain": [
       "<matplotlib.figure.Figure at 0x11d6e13c8>"
      ]
     },
     "metadata": {},
     "output_type": "display_data"
    }
   ],
   "source": [
    "make_wordcloud(wordcloud)"
   ]
  },
  {
   "cell_type": "code",
   "execution_count": null,
   "metadata": {
    "collapsed": true
   },
   "outputs": [],
   "source": []
  }
 ],
 "metadata": {
  "kernelspec": {
   "display_name": "Python 3",
   "language": "python",
   "name": "python3"
  },
  "language_info": {
   "codemirror_mode": {
    "name": "ipython",
    "version": 3
   },
   "file_extension": ".py",
   "mimetype": "text/x-python",
   "name": "python",
   "nbconvert_exporter": "python",
   "pygments_lexer": "ipython3",
   "version": "3.6.4"
  }
 },
 "nbformat": 4,
 "nbformat_minor": 2
}
