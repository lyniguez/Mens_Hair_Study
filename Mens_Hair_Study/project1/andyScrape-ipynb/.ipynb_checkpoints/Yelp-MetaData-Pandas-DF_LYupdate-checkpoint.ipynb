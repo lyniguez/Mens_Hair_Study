{
 "cells": [
  {
   "cell_type": "code",
   "execution_count": 1,
   "metadata": {
    "collapsed": true
   },
   "outputs": [],
   "source": [
    "# yelp scraping project\n",
    "import requests\n",
    "import json\n",
    "import pandas as pd\n",
    "\n",
    "from bs4 import BeautifulSoup\n",
    "import requests\n",
    "from splinter import Browser\n",
    "from selenium import webdriver\n",
    "\n",
    "from IPython.core.interactiveshell import InteractiveShell\n",
    "InteractiveShell.ast_node_interactivity = \"all\"\n",
    "\n",
    "import pandas as pd\n",
    "import re\n",
    "\n",
    "%matplotlib inline\n",
    "import matplotlib.pyplot as plt\n",
    "plt.style.use('fivethirtyeight')"
   ]
  },
  {
   "cell_type": "code",
   "execution_count": 2,
   "metadata": {},
   "outputs": [
    {
     "name": "stdout",
     "output_type": "stream",
     "text": [
      "What would you like to search: Barbers\n",
      "Where would you like to search: 92620\n"
     ]
    }
   ],
   "source": [
    "# create input variables\n",
    "\n",
    "search = input(\"What would you like to search: \")\n",
    "zipcode = input(\"Where would you like to search: \")\n",
    "\n",
    "# changed where to Where\n",
    "# created space after search:\" to search: \""
   ]
  },
  {
   "cell_type": "code",
   "execution_count": 3,
   "metadata": {
    "collapsed": true
   },
   "outputs": [],
   "source": [
    "# default web search to concatenate\n",
    "default = \"https://www.yelp.com/search?find_desc=\"\n",
    "locationUrl = \"&find_loc=\"\n",
    "end = \"&ns=1\"\n",
    "\n",
    "# empty lists to append to\n",
    "url = []\n",
    "business_name = []\n",
    "business_category = []\n",
    "yelp_rating = []\n",
    "review_count = []\n",
    "price_range = []\n",
    "price_category = []\n",
    "\n",
    "address = []\n",
    "phone = []\n",
    "website = []\n",
    "\n",
    "# new data\n",
    "review_content = []"
   ]
  },
  {
   "cell_type": "code",
   "execution_count": 4,
   "metadata": {
    "collapsed": true
   },
   "outputs": [],
   "source": [
    "# function to search input parameters on Yelp\n",
    "def search_yelp(search, zipcode):\n",
    "    \n",
    "    keyword = search;\n",
    "    zipcode = zipcode;\n",
    "    query_url = f\"{default}{search}{locationUrl}{zipcode}{end}\";\n",
    "    response = requests.get(query_url)\n",
    "    soup = BeautifulSoup(response.text, 'html.parser');\n",
    "    for link in soup.find_all('a', class_=\"biz-name\"):\n",
    "        url.append(\"https://www.yelp.com\"+link.get('href'))\n",
    "    url.pop(0)"
   ]
  },
  {
   "cell_type": "code",
   "execution_count": 5,
   "metadata": {
    "collapsed": true
   },
   "outputs": [],
   "source": [
    "# function to scrape yelp data on each page\n",
    "def scrape_yelp(url):\n",
    "    for i in url:\n",
    "        response = requests.get(i)\n",
    "        soup = BeautifulSoup(response.text, 'html.parser')\n",
    "        business_name.append(soup.find('h1', attrs={'class':'biz-page-title'}).text.strip())\n",
    "        business_category.append(soup.find(attrs={'class': 'category-str-list'}).text.strip())\n",
    "        yelp_rating.append(soup.find(attrs={\"class\":\"i-stars\"})[\"title\"])\n",
    "        review_count.append(soup.find(attrs={'class': 'review-count rating-qualifier'}).text.strip())\n",
    "        price_range.append(soup.find(attrs={'class': 'business-attribute price-range'}).text.strip())\n",
    "        price_category.append(soup.find(attrs={'class': 'nowrap price-description'}).text.strip())\n",
    "        address.append(soup.find(attrs={'class': 'street-address'}).text.strip())\n",
    "        phone.append(soup.find(attrs={'class': 'biz-phone'}).text.strip())\n",
    "        \n",
    "        if soup.find(\"a\", href=lambda href: href and \"biz_redir?\" in href) is not None:\n",
    "            website.append(soup.find(\"a\", href=lambda href: href and \"biz_redir?\" in href).text.strip())\n",
    "        else:\n",
    "            website.append('no website')       "
   ]
  },
  {
   "cell_type": "code",
   "execution_count": null,
   "metadata": {
    "collapsed": true
   },
   "outputs": [],
   "source": [
    "# create a dataframe with yelp data from yelp scrape\n",
    "\n",
    "def create_table():\n",
    "    data = {\n",
    "    'BusinessName' : business_name,\n",
    "    'BusinessCategory' : business_category,\n",
    "    'YelpRating' : yelp_rating,\n",
    "    'ReviewCount' : review_count,\n",
    "    'PriceRange($)' : price_range,\n",
    "    'PriceCategory': price_category,\n",
    "    'Address' : address, \n",
    "    'Phone' : phone,\n",
    "    'Website' : website\n",
    "        \n",
    "    }\n",
    "    # return data\n",
    "    df = pd.DataFrame.from_dict(data)\n",
    "    df = df[['BusinessName','BusinessCategory','YelpRating','ReviewCount','PriceRange($)', 'PriceCategory','Address',\n",
    "            'Phone', 'Website']]\n",
    "    df.to_csv(f'data/yelp_{search}{zipcode}.csv')\n",
    "    return df"
   ]
  },
  {
   "cell_type": "code",
   "execution_count": 6,
   "metadata": {
    "collapsed": true
   },
   "outputs": [],
   "source": [
    "# RUN FUNCTION\n",
    "search_yelp(search, zipcode)"
   ]
  },
  {
   "cell_type": "code",
   "execution_count": 7,
   "metadata": {
    "collapsed": true
   },
   "outputs": [],
   "source": [
    "# RUN FUNCTION\n",
    "scrape_yelp(url)"
   ]
  },
  {
   "cell_type": "code",
   "execution_count": null,
   "metadata": {
    "collapsed": true
   },
   "outputs": [],
   "source": [
    "# RUN FUNCTION\n",
    "create_table()"
   ]
  },
  {
   "cell_type": "code",
   "execution_count": 8,
   "metadata": {},
   "outputs": [
    {
     "data": {
      "text/plain": [
       "['https://www.yelp.com/biz/omar-the-barber-irvine?osq=Barbers',\n",
       " 'https://www.yelp.com/biz/danckuts-irvine?osq=Barbers',\n",
       " 'https://www.yelp.com/biz/stonecreek-plaza-barber-shop-irvine-3?osq=Barbers',\n",
       " 'https://www.yelp.com/biz/justins-fades-and-hairstyles-irvine-3?osq=Barbers',\n",
       " 'https://www.yelp.com/biz/roosters-mens-grooming-center-irvine?osq=Barbers',\n",
       " 'https://www.yelp.com/biz/the-sharper-look-irvine?osq=Barbers',\n",
       " 'https://www.yelp.com/biz/hair-days-irvine?osq=Barbers',\n",
       " 'https://www.yelp.com/biz/made-man-salon-tustin?osq=Barbers',\n",
       " 'https://www.yelp.com/biz/sport-clips-haircuts-of-irvine-irvine?osq=Barbers',\n",
       " 'https://www.yelp.com/biz/sand-canyon-barber-irvine?osq=Barbers']"
      ]
     },
     "execution_count": 8,
     "metadata": {},
     "output_type": "execute_result"
    }
   ],
   "source": [
    "url"
   ]
  },
  {
   "cell_type": "code",
   "execution_count": null,
   "metadata": {
    "collapsed": true
   },
   "outputs": [],
   "source": []
  },
  {
   "cell_type": "code",
   "execution_count": null,
   "metadata": {
    "collapsed": true
   },
   "outputs": [],
   "source": []
  },
  {
   "cell_type": "code",
   "execution_count": null,
   "metadata": {
    "collapsed": true
   },
   "outputs": [],
   "source": []
  }
 ],
 "metadata": {
  "kernelspec": {
   "display_name": "Python 3",
   "language": "python",
   "name": "python3"
  },
  "language_info": {
   "codemirror_mode": {
    "name": "ipython",
    "version": 3
   },
   "file_extension": ".py",
   "mimetype": "text/x-python",
   "name": "python",
   "nbconvert_exporter": "python",
   "pygments_lexer": "ipython3",
   "version": "3.6.3"
  }
 },
 "nbformat": 4,
 "nbformat_minor": 2
}
