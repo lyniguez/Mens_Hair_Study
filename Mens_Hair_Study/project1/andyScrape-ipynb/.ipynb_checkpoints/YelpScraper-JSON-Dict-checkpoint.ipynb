{
 "cells": [
  {
   "cell_type": "code",
   "execution_count": 1,
   "metadata": {
    "collapsed": true
   },
   "outputs": [],
   "source": [
    "# yelp scraping project\n",
    "import requests\n",
    "import json\n",
    "import pandas as pd\n",
    "\n",
    "from bs4 import BeautifulSoup\n",
    "import requests\n",
    "from splinter import Browser\n",
    "from selenium import webdriver\n",
    "\n",
    "from IPython.core.interactiveshell import InteractiveShell\n",
    "InteractiveShell.ast_node_interactivity = \"all\"\n",
    "\n",
    "import pandas as pd\n",
    "import re\n",
    "\n",
    "%matplotlib inline\n",
    "import matplotlib.pyplot as plt\n",
    "plt.style.use('fivethirtyeight')\n",
    "import json"
   ]
  },
  {
   "cell_type": "code",
   "execution_count": 2,
   "metadata": {},
   "outputs": [
    {
     "name": "stdout",
     "output_type": "stream",
     "text": [
      "height has been deprecated.\n",
      "\n"
     ]
    }
   ],
   "source": [
    "pd.set_option('display.height', 1000)\n",
    "pd.set_option('display.max_rows', 500)\n",
    "pd.set_option('display.max_columns', 2500)\n",
    "pd.set_option('display.width', 1000)"
   ]
  },
  {
   "cell_type": "code",
   "execution_count": 4,
   "metadata": {
    "collapsed": true
   },
   "outputs": [],
   "source": [
    "url = []"
   ]
  },
  {
   "cell_type": "code",
   "execution_count": 5,
   "metadata": {},
   "outputs": [
    {
     "name": "stdout",
     "output_type": "stream",
     "text": [
      "What would you like to search: Barber\n",
      "Where would you like to search: 90742\n"
     ]
    }
   ],
   "source": [
    "# create input variables\n",
    "\n",
    "search = input(\"What would you like to search: \")\n",
    "zipcode = input(\"Where would you like to search: \")\n",
    "\n",
    "# changed where to Where\n",
    "# created space after search:\" to search: \""
   ]
  },
  {
   "cell_type": "code",
   "execution_count": 6,
   "metadata": {
    "collapsed": true
   },
   "outputs": [],
   "source": [
    "# default web search to concatenate\n",
    "default = \"https://www.yelp.com/search?find_desc=\"\n",
    "locationUrl = \"&find_loc=\"\n",
    "end = \"&ns=1\""
   ]
  },
  {
   "cell_type": "code",
   "execution_count": 7,
   "metadata": {
    "collapsed": true
   },
   "outputs": [],
   "source": [
    "# function to search input parameters on Yelp\n",
    "def search_yelp(search, zipcode):\n",
    "    \n",
    "    keyword = search;\n",
    "    zipcode = zipcode;\n",
    "    query_url = f\"{default}{search}{locationUrl}{zipcode}{end}\";\n",
    "    response = requests.get(query_url)\n",
    "    soup = BeautifulSoup(response.text, 'html.parser');\n",
    "    for link in soup.find_all('a', class_=\"biz-name\"):\n",
    "        url.append(\"https://www.yelp.com\"+link.get('href'))\n",
    "    url.pop(0)"
   ]
  },
  {
   "cell_type": "code",
   "execution_count": 8,
   "metadata": {
    "collapsed": true
   },
   "outputs": [],
   "source": [
    "search_yelp(search, zipcode)"
   ]
  },
  {
   "cell_type": "code",
   "execution_count": 9,
   "metadata": {},
   "outputs": [
    {
     "data": {
      "text/plain": [
       "['https://www.yelp.com/biz/harbor-barber-huntington-beach-3?osq=Barber',\n",
       " 'https://www.yelp.com/biz/main-street-barber-shop-seal-beach?osq=Barber',\n",
       " 'https://www.yelp.com/biz/springdale-barbers-huntington-beach?osq=Barber',\n",
       " 'https://www.yelp.com/biz/hair-safari-huntington-beach?osq=Barber',\n",
       " 'https://www.yelp.com/biz/marina-clipper-barber-shop-seal-beach?osq=Barber',\n",
       " 'https://www.yelp.com/biz/marios-sports-barbershop-huntington-beach?osq=Barber',\n",
       " 'https://www.yelp.com/biz/the-end-result-westminster?osq=Barber',\n",
       " 'https://www.yelp.com/biz/studio-fifty-fifty-huntington-beach?osq=Barber',\n",
       " 'https://www.yelp.com/biz/salon-m-huntington-beach?osq=Barber',\n",
       " 'https://www.yelp.com/biz/salon-meritage-seal-beach-3?osq=Barber']"
      ]
     },
     "execution_count": 9,
     "metadata": {},
     "output_type": "execute_result"
    }
   ],
   "source": [
    "url"
   ]
  },
  {
   "cell_type": "code",
   "execution_count": 10,
   "metadata": {
    "collapsed": true
   },
   "outputs": [],
   "source": [
    "keys = ['BusinessName','BusinessCategory', 'YelpRating',\n",
    "        'ReviewCount', 'PriceRange($)', 'PriceCategory',\n",
    "       'Address','Phone', 'Website']\n",
    "values = []\n",
    "barbers = []"
   ]
  },
  {
   "cell_type": "code",
   "execution_count": 11,
   "metadata": {},
   "outputs": [
    {
     "data": {
      "text/plain": [
       "['BusinessName',\n",
       " 'BusinessCategory',\n",
       " 'YelpRating',\n",
       " 'ReviewCount',\n",
       " 'PriceRange($)',\n",
       " 'PriceCategory',\n",
       " 'Address',\n",
       " 'Phone',\n",
       " 'Website']"
      ]
     },
     "execution_count": 11,
     "metadata": {},
     "output_type": "execute_result"
    },
    {
     "data": {
      "text/plain": [
       "['https://www.yelp.com/biz/harbor-barber-huntington-beach-3?osq=Barber',\n",
       " 'https://www.yelp.com/biz/main-street-barber-shop-seal-beach?osq=Barber',\n",
       " 'https://www.yelp.com/biz/springdale-barbers-huntington-beach?osq=Barber',\n",
       " 'https://www.yelp.com/biz/hair-safari-huntington-beach?osq=Barber',\n",
       " 'https://www.yelp.com/biz/marina-clipper-barber-shop-seal-beach?osq=Barber',\n",
       " 'https://www.yelp.com/biz/marios-sports-barbershop-huntington-beach?osq=Barber',\n",
       " 'https://www.yelp.com/biz/the-end-result-westminster?osq=Barber',\n",
       " 'https://www.yelp.com/biz/studio-fifty-fifty-huntington-beach?osq=Barber',\n",
       " 'https://www.yelp.com/biz/salon-m-huntington-beach?osq=Barber',\n",
       " 'https://www.yelp.com/biz/salon-meritage-seal-beach-3?osq=Barber']"
      ]
     },
     "execution_count": 11,
     "metadata": {},
     "output_type": "execute_result"
    },
    {
     "data": {
      "text/plain": [
       "[]"
      ]
     },
     "execution_count": 11,
     "metadata": {},
     "output_type": "execute_result"
    },
    {
     "data": {
      "text/plain": [
       "[]"
      ]
     },
     "execution_count": 11,
     "metadata": {},
     "output_type": "execute_result"
    }
   ],
   "source": [
    "keys\n",
    "url\n",
    "values\n",
    "barbers"
   ]
  },
  {
   "cell_type": "code",
   "execution_count": 12,
   "metadata": {
    "collapsed": true
   },
   "outputs": [],
   "source": [
    "def scrape_yelp(url):\n",
    "    for i in url:\n",
    "        response = requests.get(i)\n",
    "        soup = BeautifulSoup(response.text, 'html.parser')\n",
    "        values.append(soup.find('h1', attrs={'class':'biz-page-title'}).text.strip())\n",
    "        values.append(soup.find(attrs={'class': 'category-str-list'}).text.strip())\n",
    "        values.append(soup.find(attrs={\"class\":\"i-stars\"})[\"title\"])\n",
    "        values.append(soup.find(attrs={'class': 'review-count rating-qualifier'}).text.strip())\n",
    "        values.append(soup.find(attrs={'class': 'business-attribute price-range'}).text.strip())\n",
    "        values.append(soup.find(attrs={'class': 'nowrap price-description'}).text.strip())\n",
    "        values.append(soup.find(attrs={'class': 'street-address'}).text.strip())\n",
    "        values.append(soup.find(attrs={'class': 'biz-phone'}).text.strip())\n",
    "        \n",
    "        if soup.find(\"a\", href=lambda href: href and \"biz_redir?\" in href) is not None:\n",
    "            values.append(soup.find(\"a\", href=lambda href: href and \"biz_redir?\" in href).text.strip())\n",
    "        else:\n",
    "            values.append('no website')\n",
    "        \n",
    "        # this creates the dictionary\n",
    "        dictionary = dict(zip(keys, values))\n",
    "        barbers.append(dictionary)\n",
    "        \n",
    "        # clear out values, restart loop\n",
    "        values.clear()"
   ]
  },
  {
   "cell_type": "code",
   "execution_count": 13,
   "metadata": {
    "collapsed": true
   },
   "outputs": [],
   "source": [
    "# run the function\n",
    "scrape_yelp(url)"
   ]
  },
  {
   "cell_type": "code",
   "execution_count": 14,
   "metadata": {},
   "outputs": [
    {
     "data": {
      "text/plain": [
       "[]"
      ]
     },
     "execution_count": 14,
     "metadata": {},
     "output_type": "execute_result"
    },
    {
     "data": {
      "text/plain": [
       "[{'Address': '17212 Pacific Coast HwySte BHuntington Beach, CA 92649',\n",
       "  'BusinessCategory': 'Barbers',\n",
       "  'BusinessName': 'Harbor Barber',\n",
       "  'Phone': '(714) 907-0232',\n",
       "  'PriceCategory': 'Moderate',\n",
       "  'PriceRange($)': '$$',\n",
       "  'ReviewCount': '178 reviews',\n",
       "  'Website': 'harborbarberhb.com',\n",
       "  'YelpRating': '5.0 star rating'},\n",
       " {'Address': '317 1/2 Main StSeal Beach, CA 90740',\n",
       "  'BusinessCategory': 'Barbers',\n",
       "  'BusinessName': 'Main Street Barber Shop',\n",
       "  'Phone': '(562) 430-0236',\n",
       "  'PriceCategory': 'Moderate',\n",
       "  'PriceRange($)': '$$',\n",
       "  'ReviewCount': '96 reviews',\n",
       "  'Website': 'no website',\n",
       "  'YelpRating': '4.5 star rating'},\n",
       " {'Address': '15792 Springdale StHuntington Beach, CA 92649',\n",
       "  'BusinessCategory': 'Barbers',\n",
       "  'BusinessName': 'Springdale Barbers',\n",
       "  'Phone': '(714) 901-7110',\n",
       "  'PriceCategory': 'Inexpensive',\n",
       "  'PriceRange($)': '$',\n",
       "  'ReviewCount': '52 reviews',\n",
       "  'Website': 'no website',\n",
       "  'YelpRating': '4.5 star rating'},\n",
       " {'Address': '5931 Warner AveHuntington Beach, CA 92649',\n",
       "  'BusinessCategory': 'Barbers',\n",
       "  'BusinessName': 'Hair Safari',\n",
       "  'Phone': '(714) 840-1877',\n",
       "  'PriceCategory': 'Inexpensive',\n",
       "  'PriceRange($)': '$',\n",
       "  'ReviewCount': '58 reviews',\n",
       "  'Website': 'hairsafari.com',\n",
       "  'YelpRating': '5.0 star rating'},\n",
       " {'Address': '1081 Pacific Coast HwySeal Beach, CA 90740',\n",
       "  'BusinessCategory': 'Barbers',\n",
       "  'BusinessName': 'Marina Clipper Barber Shop',\n",
       "  'Phone': '(562) 431-9369',\n",
       "  'PriceCategory': 'Moderate',\n",
       "  'PriceRange($)': '$$',\n",
       "  'ReviewCount': '1 review',\n",
       "  'Website': 'no website',\n",
       "  'YelpRating': '5.0 star rating'},\n",
       " {'Address': '14900 Springdale StHuntington Beach, CA 92647',\n",
       "  'BusinessCategory': 'Barbers',\n",
       "  'BusinessName': 'Mario’s Sports Barbershop',\n",
       "  'Phone': '(714) 901-2350',\n",
       "  'PriceCategory': 'Inexpensive',\n",
       "  'PriceRange($)': '$',\n",
       "  'ReviewCount': '22 reviews',\n",
       "  'Website': 'mariossportsbarbershop.com',\n",
       "  'YelpRating': '4.0 star rating'},\n",
       " {'Address': '14022 Rancho RdWestminster, CA 92683',\n",
       "  'BusinessCategory': 'Barbers,\\n                    Hair Salons',\n",
       "  'BusinessName': 'The End Result',\n",
       "  'Phone': '(714) 892-0313',\n",
       "  'PriceCategory': 'Moderate',\n",
       "  'PriceRange($)': '$$',\n",
       "  'ReviewCount': '12 reviews',\n",
       "  'Website': 'no website',\n",
       "  'YelpRating': '4.5 star rating'},\n",
       " {'Address': '5050 Heil AveHuntington Beach, CA 92649',\n",
       "  'BusinessCategory': 'Hair Salons,\\n                    Nail Salons,\\n                    Eyelash Service',\n",
       "  'BusinessName': 'Studio Fifty Fifty',\n",
       "  'Phone': '(714) 840-9777',\n",
       "  'PriceCategory': 'Moderate',\n",
       "  'PriceRange($)': '$$',\n",
       "  'ReviewCount': '390 reviews',\n",
       "  'Website': 'studiofiftyfifty.com',\n",
       "  'YelpRating': '4.5 star rating'},\n",
       " {'Address': '16561 Bolsa Chica StSte 203Huntington Beach, CA 92649',\n",
       "  'BusinessCategory': 'Hair Salons',\n",
       "  'BusinessName': 'Salon M',\n",
       "  'Phone': '(714) 377-1000',\n",
       "  'PriceCategory': 'Moderate',\n",
       "  'PriceRange($)': '$$',\n",
       "  'ReviewCount': '129 reviews',\n",
       "  'Website': 'salon-m.net',\n",
       "  'YelpRating': '4.5 star rating'},\n",
       " {'Address': '500 E Pacific Coast HwySte 100Seal Beach, CA 90740',\n",
       "  'BusinessCategory': 'Hair Salons,\\n                    Eyebrow Services,\\n                    Waxing',\n",
       "  'BusinessName': 'Salon Meritage',\n",
       "  'Phone': '(562) 493-2639',\n",
       "  'PriceCategory': 'Moderate',\n",
       "  'PriceRange($)': '$$',\n",
       "  'ReviewCount': '49 reviews',\n",
       "  'Website': 'salonmeritage.com',\n",
       "  'YelpRating': '5.0 star rating'}]"
      ]
     },
     "execution_count": 14,
     "metadata": {},
     "output_type": "execute_result"
    }
   ],
   "source": [
    "values # should be empty\n",
    "barbers"
   ]
  },
  {
   "cell_type": "code",
   "execution_count": 15,
   "metadata": {},
   "outputs": [
    {
     "data": {
      "text/plain": [
       "'90742'"
      ]
     },
     "execution_count": 15,
     "metadata": {},
     "output_type": "execute_result"
    }
   ],
   "source": [
    "zipcode"
   ]
  },
  {
   "cell_type": "code",
   "execution_count": 16,
   "metadata": {
    "collapsed": true
   },
   "outputs": [],
   "source": [
    "# save barbers dict to json file\n",
    "with open(f'data/{zipcode}.json', 'w') as outfile:  \n",
    "    json.dump(barbers, outfile)"
   ]
  },
  {
   "cell_type": "code",
   "execution_count": null,
   "metadata": {
    "collapsed": true
   },
   "outputs": [],
   "source": []
  }
 ],
 "metadata": {
  "kernelspec": {
   "display_name": "Python 3",
   "language": "python",
   "name": "python3"
  },
  "language_info": {
   "codemirror_mode": {
    "name": "ipython",
    "version": 3
   },
   "file_extension": ".py",
   "mimetype": "text/x-python",
   "name": "python",
   "nbconvert_exporter": "python",
   "pygments_lexer": "ipython3",
   "version": "3.6.3"
  }
 },
 "nbformat": 4,
 "nbformat_minor": 2
}
