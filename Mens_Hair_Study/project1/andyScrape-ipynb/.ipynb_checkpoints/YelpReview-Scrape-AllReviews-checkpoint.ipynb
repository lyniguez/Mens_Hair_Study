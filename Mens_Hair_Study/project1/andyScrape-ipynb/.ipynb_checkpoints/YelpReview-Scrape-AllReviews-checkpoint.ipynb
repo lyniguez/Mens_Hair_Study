{
 "cells": [
  {
   "cell_type": "code",
   "execution_count": 1,
   "metadata": {
    "collapsed": true
   },
   "outputs": [],
   "source": [
    "# yelp scraping project\n",
    "import requests\n",
    "import json\n",
    "import pandas as pd\n",
    "import numpy as np\n",
    "\n",
    "from bs4 import BeautifulSoup\n",
    "import requests\n",
    "\n",
    "from IPython.core.interactiveshell import InteractiveShell\n",
    "InteractiveShell.ast_node_interactivity = \"all\"\n",
    "\n",
    "import pandas as pd\n",
    "import re\n",
    "\n",
    "%matplotlib inline\n",
    "import matplotlib.pyplot as plt\n",
    "plt.style.use('fivethirtyeight')\n",
    "\n",
    "import warnings\n",
    "warnings.filterwarnings('ignore')"
   ]
  },
  {
   "cell_type": "code",
   "execution_count": 2,
   "metadata": {},
   "outputs": [
    {
     "name": "stdout",
     "output_type": "stream",
     "text": [
      "height has been deprecated.\n",
      "\n"
     ]
    }
   ],
   "source": [
    "pd.set_option('display.height', 1000)\n",
    "pd.set_option('display.max_rows', 500)\n",
    "pd.set_option('display.max_columns', 2500)\n",
    "pd.set_option('display.width', 1000)"
   ]
  },
  {
   "cell_type": "code",
   "execution_count": 3,
   "metadata": {
    "collapsed": true
   },
   "outputs": [],
   "source": [
    "# hard code this section to scrape multiple pages for reviews\n",
    "main = 'https://www.yelp.com/biz/sand-canyon-barber-irvine'\n",
    "url = [main,\n",
    "       main + '?start=20',\n",
    "       main + '?start=40',\n",
    "       main + '?start=60',\n",
    "       main + '?start=80',]\n",
    "#        main + '?start=100',\n",
    "#        main + '?start=120',\n",
    "#        main + '?start=140',\n",
    "#        main + '?start=160',\n",
    "#        main + '?start=180',\n",
    "#        main + '?start=200',\n",
    "#        main + '?start=220',\n",
    "#        main + '?start=240',\n",
    "#        main + '?start=260',\n",
    "#        main + '?start=280',\n",
    "#        main + '?start=300',\n",
    "#        main + '?start=320',]\n",
    "#        main + '?start=340',\n",
    "#        main + '?start=360',\n",
    "#        main + '?start=380',]"
   ]
  },
  {
   "cell_type": "code",
   "execution_count": 4,
   "metadata": {},
   "outputs": [
    {
     "name": "stdout",
     "output_type": "stream",
     "text": [
      "https://www.yelp.com/biz/sand-canyon-barber-irvine\n",
      "https://www.yelp.com/biz/sand-canyon-barber-irvine?start=20\n",
      "https://www.yelp.com/biz/sand-canyon-barber-irvine?start=40\n",
      "https://www.yelp.com/biz/sand-canyon-barber-irvine?start=60\n",
      "https://www.yelp.com/biz/sand-canyon-barber-irvine?start=80\n"
     ]
    }
   ],
   "source": [
    "for i in url:\n",
    "    print (i)"
   ]
  },
  {
   "cell_type": "markdown",
   "metadata": {},
   "source": [
    "# Start Review Section"
   ]
  },
  {
   "cell_type": "code",
   "execution_count": 5,
   "metadata": {
    "collapsed": true
   },
   "outputs": [],
   "source": [
    "reviews = []\n",
    "star_rating = []"
   ]
  },
  {
   "cell_type": "code",
   "execution_count": 6,
   "metadata": {
    "collapsed": true
   },
   "outputs": [],
   "source": [
    "def get_review_content(url):\n",
    "    for i in url:\n",
    "        response = requests.get(i)\n",
    "        soup = BeautifulSoup(response.text, 'html.parser')\n",
    "        \n",
    "        rc_unstripped = soup.find_all(attrs={'class': 'review-content'})\n",
    "        rc_length = (len(rc_unstripped))\n",
    "        \n",
    "        for i in range (0, rc_length):\n",
    "            reviews.append(rc_unstripped[i].text.strip()) \n",
    "        \n",
    "        for rating in soup.select(\".rating-large\"):\n",
    "            star_rating.append(rating.get(\"title\"))"
   ]
  },
  {
   "cell_type": "code",
   "execution_count": 7,
   "metadata": {
    "collapsed": true
   },
   "outputs": [],
   "source": [
    "# Run the function\n",
    "get_review_content(url)"
   ]
  },
  {
   "cell_type": "code",
   "execution_count": 8,
   "metadata": {},
   "outputs": [
    {
     "name": "stdout",
     "output_type": "stream",
     "text": [
      "91\n",
      "103\n"
     ]
    }
   ],
   "source": [
    "print(len(reviews))\n",
    "print(len(star_rating))"
   ]
  },
  {
   "cell_type": "code",
   "execution_count": 9,
   "metadata": {
    "scrolled": false
   },
   "outputs": [
    {
     "name": "stdout",
     "output_type": "stream",
     "text": [
      "10/1/2017\n",
      "    \n",
      "\n",
      "\n",
      "\n",
      "\n",
      "\n",
      "\n",
      "\n",
      "\n",
      "5 check-ins\n",
      "        \n",
      "\n",
      "\n",
      "If you go, ask for Tiffany...she is the owner and works the chair on the right as you enter.I've been a flat top guy forever and had a hard time finding anyone in the area.Tried about six different places with no luck. The last guy messed my hair up so bad I had to try and get it evened out.Stopped in here and Tiffany fixed it up in like five minutes FOR FREE. Who does that nowadays? She just said to come back when I needed another cut.I've been going here for a year or so now. They have about four or five other barbers that do regular cuts.Great barber shop!\n",
      "5.0 star rating\n"
     ]
    }
   ],
   "source": [
    "print(reviews[0])\n",
    "print(star_rating[0])"
   ]
  },
  {
   "cell_type": "code",
   "execution_count": 10,
   "metadata": {},
   "outputs": [
    {
     "data": {
      "text/plain": [
       "86    7/20/2011\\n    \\n\\nLove going to the Sand Cany...\n",
       "87    8/18/2008\\n    \\n\\n\\n\\n\\n\\n\\n\\n\\n2 check-ins\\n...\n",
       "88    9/26/2011\\n    \\n\\nThey have lots of staff, wh...\n",
       "89    8/15/2009\\n    \\n\\nJeff L who wrote a review b...\n",
       "90    7/2/2009\\n    \\n\\nJust OK. Not a typical barbe...\n",
       "dtype: object"
      ]
     },
     "execution_count": 10,
     "metadata": {},
     "output_type": "execute_result"
    }
   ],
   "source": [
    "# convert reviews to pd series\n",
    "reviews_s = pd.Series(reviews)\n",
    "reviews_s.tail()"
   ]
  },
  {
   "cell_type": "code",
   "execution_count": 11,
   "metadata": {},
   "outputs": [
    {
     "data": {
      "text/plain": [
       "98     3.0 star rating\n",
       "99     4.0 star rating\n",
       "100    4.0 star rating\n",
       "101    3.0 star rating\n",
       "102    3.5 star rating\n",
       "dtype: object"
      ]
     },
     "execution_count": 11,
     "metadata": {},
     "output_type": "execute_result"
    }
   ],
   "source": [
    "# convert ratings to pd series\n",
    "ratings_s = pd.Series(star_rating)\n",
    "ratings_s.tail()"
   ]
  },
  {
   "cell_type": "code",
   "execution_count": 12,
   "metadata": {
    "collapsed": true
   },
   "outputs": [],
   "source": [
    "# create a pandas df from reviews\n",
    "data = {'Reviews' : reviews_s,\n",
    "       'StarRating': ratings_s}\n",
    "\n",
    "df = pd.DataFrame.from_dict(data)\n",
    "df = df[['Reviews', 'StarRating']]    "
   ]
  },
  {
   "cell_type": "code",
   "execution_count": 13,
   "metadata": {},
   "outputs": [
    {
     "data": {
      "text/html": [
       "<div>\n",
       "<style>\n",
       "    .dataframe thead tr:only-child th {\n",
       "        text-align: right;\n",
       "    }\n",
       "\n",
       "    .dataframe thead th {\n",
       "        text-align: left;\n",
       "    }\n",
       "\n",
       "    .dataframe tbody tr th {\n",
       "        vertical-align: top;\n",
       "    }\n",
       "</style>\n",
       "<table border=\"1\" class=\"dataframe\">\n",
       "  <thead>\n",
       "    <tr style=\"text-align: right;\">\n",
       "      <th></th>\n",
       "      <th>Reviews</th>\n",
       "      <th>StarRating</th>\n",
       "    </tr>\n",
       "  </thead>\n",
       "  <tbody>\n",
       "    <tr>\n",
       "      <th>0</th>\n",
       "      <td>10/1/2017\\n    \\n\\n\\n\\n\\n\\n\\n\\n\\n5 check-ins\\n...</td>\n",
       "      <td>5.0 star rating</td>\n",
       "    </tr>\n",
       "    <tr>\n",
       "      <th>1</th>\n",
       "      <td>6/19/2017\\n    \\n\\nI went to Sand Canyon Barbe...</td>\n",
       "      <td>5.0 star rating</td>\n",
       "    </tr>\n",
       "    <tr>\n",
       "      <th>2</th>\n",
       "      <td>8/24/2017\\n    \\n\\nIf there was a Zero rating,...</td>\n",
       "      <td>1.0 star rating</td>\n",
       "    </tr>\n",
       "    <tr>\n",
       "      <th>3</th>\n",
       "      <td>6/23/2017\\n    \\n\\nI got Chi Tiffany as my bar...</td>\n",
       "      <td>5.0 star rating</td>\n",
       "    </tr>\n",
       "    <tr>\n",
       "      <th>4</th>\n",
       "      <td>6/9/2017\\n    \\n\\nBEST HAIRDRESSER!!!  So glad...</td>\n",
       "      <td>5.0 star rating</td>\n",
       "    </tr>\n",
       "  </tbody>\n",
       "</table>\n",
       "</div>"
      ],
      "text/plain": [
       "                                             Reviews       StarRating\n",
       "0  10/1/2017\\n    \\n\\n\\n\\n\\n\\n\\n\\n\\n5 check-ins\\n...  5.0 star rating\n",
       "1  6/19/2017\\n    \\n\\nI went to Sand Canyon Barbe...  5.0 star rating\n",
       "2  8/24/2017\\n    \\n\\nIf there was a Zero rating,...  1.0 star rating\n",
       "3  6/23/2017\\n    \\n\\nI got Chi Tiffany as my bar...  5.0 star rating\n",
       "4  6/9/2017\\n    \\n\\nBEST HAIRDRESSER!!!  So glad...  5.0 star rating"
      ]
     },
     "execution_count": 13,
     "metadata": {},
     "output_type": "execute_result"
    },
    {
     "data": {
      "text/html": [
       "<div>\n",
       "<style>\n",
       "    .dataframe thead tr:only-child th {\n",
       "        text-align: right;\n",
       "    }\n",
       "\n",
       "    .dataframe thead th {\n",
       "        text-align: left;\n",
       "    }\n",
       "\n",
       "    .dataframe tbody tr th {\n",
       "        vertical-align: top;\n",
       "    }\n",
       "</style>\n",
       "<table border=\"1\" class=\"dataframe\">\n",
       "  <thead>\n",
       "    <tr style=\"text-align: right;\">\n",
       "      <th></th>\n",
       "      <th>Reviews</th>\n",
       "      <th>StarRating</th>\n",
       "    </tr>\n",
       "  </thead>\n",
       "  <tbody>\n",
       "    <tr>\n",
       "      <th>98</th>\n",
       "      <td>NaN</td>\n",
       "      <td>3.0 star rating</td>\n",
       "    </tr>\n",
       "    <tr>\n",
       "      <th>99</th>\n",
       "      <td>NaN</td>\n",
       "      <td>4.0 star rating</td>\n",
       "    </tr>\n",
       "    <tr>\n",
       "      <th>100</th>\n",
       "      <td>NaN</td>\n",
       "      <td>4.0 star rating</td>\n",
       "    </tr>\n",
       "    <tr>\n",
       "      <th>101</th>\n",
       "      <td>NaN</td>\n",
       "      <td>3.0 star rating</td>\n",
       "    </tr>\n",
       "    <tr>\n",
       "      <th>102</th>\n",
       "      <td>NaN</td>\n",
       "      <td>3.5 star rating</td>\n",
       "    </tr>\n",
       "  </tbody>\n",
       "</table>\n",
       "</div>"
      ],
      "text/plain": [
       "    Reviews       StarRating\n",
       "98      NaN  3.0 star rating\n",
       "99      NaN  4.0 star rating\n",
       "100     NaN  4.0 star rating\n",
       "101     NaN  3.0 star rating\n",
       "102     NaN  3.5 star rating"
      ]
     },
     "execution_count": 13,
     "metadata": {},
     "output_type": "execute_result"
    },
    {
     "data": {
      "text/plain": [
       "(103, 2)"
      ]
     },
     "execution_count": 13,
     "metadata": {},
     "output_type": "execute_result"
    }
   ],
   "source": [
    "df.head()\n",
    "df.tail()\n",
    "df.shape"
   ]
  },
  {
   "cell_type": "code",
   "execution_count": 14,
   "metadata": {
    "collapsed": true
   },
   "outputs": [],
   "source": [
    "# split date and reviews\n",
    "df['Date'] = df.Reviews.str.split('\\n').str.get(0)\n",
    "df['Review'] = df.Reviews.str.split('\\n\\n').str.get(1)"
   ]
  },
  {
   "cell_type": "code",
   "execution_count": 15,
   "metadata": {
    "collapsed": true
   },
   "outputs": [],
   "source": [
    "# drop Reviews column\n",
    "df.drop('Reviews', axis=1, inplace=True)"
   ]
  },
  {
   "cell_type": "code",
   "execution_count": 16,
   "metadata": {},
   "outputs": [
    {
     "data": {
      "text/html": [
       "<div>\n",
       "<style>\n",
       "    .dataframe thead tr:only-child th {\n",
       "        text-align: right;\n",
       "    }\n",
       "\n",
       "    .dataframe thead th {\n",
       "        text-align: left;\n",
       "    }\n",
       "\n",
       "    .dataframe tbody tr th {\n",
       "        vertical-align: top;\n",
       "    }\n",
       "</style>\n",
       "<table border=\"1\" class=\"dataframe\">\n",
       "  <thead>\n",
       "    <tr style=\"text-align: right;\">\n",
       "      <th></th>\n",
       "      <th>StarRating</th>\n",
       "      <th>Date</th>\n",
       "      <th>Review</th>\n",
       "    </tr>\n",
       "  </thead>\n",
       "  <tbody>\n",
       "    <tr>\n",
       "      <th>0</th>\n",
       "      <td>5.0 star rating</td>\n",
       "      <td>10/1/2017</td>\n",
       "      <td></td>\n",
       "    </tr>\n",
       "    <tr>\n",
       "      <th>1</th>\n",
       "      <td>5.0 star rating</td>\n",
       "      <td>6/19/2017</td>\n",
       "      <td>I went to Sand Canyon Barber on 6/18 and was h...</td>\n",
       "    </tr>\n",
       "    <tr>\n",
       "      <th>2</th>\n",
       "      <td>1.0 star rating</td>\n",
       "      <td>8/24/2017</td>\n",
       "      <td>If there was a Zero rating, I would've given t...</td>\n",
       "    </tr>\n",
       "    <tr>\n",
       "      <th>3</th>\n",
       "      <td>5.0 star rating</td>\n",
       "      <td>6/23/2017</td>\n",
       "      <td>I got Chi Tiffany as my barber today. She was ...</td>\n",
       "    </tr>\n",
       "    <tr>\n",
       "      <th>4</th>\n",
       "      <td>5.0 star rating</td>\n",
       "      <td>6/9/2017</td>\n",
       "      <td>BEST HAIRDRESSER!!!  So glad Xuan is back in a...</td>\n",
       "    </tr>\n",
       "  </tbody>\n",
       "</table>\n",
       "</div>"
      ],
      "text/plain": [
       "        StarRating       Date                                             Review\n",
       "0  5.0 star rating  10/1/2017                                                   \n",
       "1  5.0 star rating  6/19/2017  I went to Sand Canyon Barber on 6/18 and was h...\n",
       "2  1.0 star rating  8/24/2017  If there was a Zero rating, I would've given t...\n",
       "3  5.0 star rating  6/23/2017  I got Chi Tiffany as my barber today. She was ...\n",
       "4  5.0 star rating   6/9/2017  BEST HAIRDRESSER!!!  So glad Xuan is back in a..."
      ]
     },
     "execution_count": 16,
     "metadata": {},
     "output_type": "execute_result"
    }
   ],
   "source": [
    "df.head()"
   ]
  },
  {
   "cell_type": "code",
   "execution_count": 17,
   "metadata": {},
   "outputs": [
    {
     "data": {
      "text/html": [
       "<div>\n",
       "<style>\n",
       "    .dataframe thead tr:only-child th {\n",
       "        text-align: right;\n",
       "    }\n",
       "\n",
       "    .dataframe thead th {\n",
       "        text-align: left;\n",
       "    }\n",
       "\n",
       "    .dataframe tbody tr th {\n",
       "        vertical-align: top;\n",
       "    }\n",
       "</style>\n",
       "<table border=\"1\" class=\"dataframe\">\n",
       "  <thead>\n",
       "    <tr style=\"text-align: right;\">\n",
       "      <th></th>\n",
       "      <th>StarRating</th>\n",
       "      <th>Date</th>\n",
       "      <th>Review</th>\n",
       "    </tr>\n",
       "  </thead>\n",
       "  <tbody>\n",
       "    <tr>\n",
       "      <th>98</th>\n",
       "      <td>3.0 star rating</td>\n",
       "      <td>NaN</td>\n",
       "      <td>NaN</td>\n",
       "    </tr>\n",
       "    <tr>\n",
       "      <th>99</th>\n",
       "      <td>4.0 star rating</td>\n",
       "      <td>NaN</td>\n",
       "      <td>NaN</td>\n",
       "    </tr>\n",
       "    <tr>\n",
       "      <th>100</th>\n",
       "      <td>4.0 star rating</td>\n",
       "      <td>NaN</td>\n",
       "      <td>NaN</td>\n",
       "    </tr>\n",
       "    <tr>\n",
       "      <th>101</th>\n",
       "      <td>3.0 star rating</td>\n",
       "      <td>NaN</td>\n",
       "      <td>NaN</td>\n",
       "    </tr>\n",
       "    <tr>\n",
       "      <th>102</th>\n",
       "      <td>3.5 star rating</td>\n",
       "      <td>NaN</td>\n",
       "      <td>NaN</td>\n",
       "    </tr>\n",
       "  </tbody>\n",
       "</table>\n",
       "</div>"
      ],
      "text/plain": [
       "          StarRating Date Review\n",
       "98   3.0 star rating  NaN    NaN\n",
       "99   4.0 star rating  NaN    NaN\n",
       "100  4.0 star rating  NaN    NaN\n",
       "101  3.0 star rating  NaN    NaN\n",
       "102  3.5 star rating  NaN    NaN"
      ]
     },
     "execution_count": 17,
     "metadata": {},
     "output_type": "execute_result"
    }
   ],
   "source": [
    "# delete NaN rows\n",
    "df2 = df.replace(r\"\", np.nan)\n",
    "df2.tail()"
   ]
  },
  {
   "cell_type": "code",
   "execution_count": 18,
   "metadata": {},
   "outputs": [
    {
     "data": {
      "text/html": [
       "<div>\n",
       "<style>\n",
       "    .dataframe thead tr:only-child th {\n",
       "        text-align: right;\n",
       "    }\n",
       "\n",
       "    .dataframe thead th {\n",
       "        text-align: left;\n",
       "    }\n",
       "\n",
       "    .dataframe tbody tr th {\n",
       "        vertical-align: top;\n",
       "    }\n",
       "</style>\n",
       "<table border=\"1\" class=\"dataframe\">\n",
       "  <thead>\n",
       "    <tr style=\"text-align: right;\">\n",
       "      <th></th>\n",
       "      <th>StarRating</th>\n",
       "      <th>Date</th>\n",
       "      <th>Review</th>\n",
       "    </tr>\n",
       "  </thead>\n",
       "  <tbody>\n",
       "    <tr>\n",
       "      <th>0</th>\n",
       "      <td>5.0 star rating</td>\n",
       "      <td>6/19/2017</td>\n",
       "      <td>I went to Sand Canyon Barber on 6/18 and was h...</td>\n",
       "    </tr>\n",
       "    <tr>\n",
       "      <th>1</th>\n",
       "      <td>1.0 star rating</td>\n",
       "      <td>8/24/2017</td>\n",
       "      <td>If there was a Zero rating, I would've given t...</td>\n",
       "    </tr>\n",
       "    <tr>\n",
       "      <th>2</th>\n",
       "      <td>5.0 star rating</td>\n",
       "      <td>6/23/2017</td>\n",
       "      <td>I got Chi Tiffany as my barber today. She was ...</td>\n",
       "    </tr>\n",
       "    <tr>\n",
       "      <th>3</th>\n",
       "      <td>5.0 star rating</td>\n",
       "      <td>6/9/2017</td>\n",
       "      <td>BEST HAIRDRESSER!!!  So glad Xuan is back in a...</td>\n",
       "    </tr>\n",
       "    <tr>\n",
       "      <th>4</th>\n",
       "      <td>5.0 star rating</td>\n",
       "      <td>6/11/2017</td>\n",
       "      <td>I used to go to SportClips in Woodbury but hav...</td>\n",
       "    </tr>\n",
       "  </tbody>\n",
       "</table>\n",
       "</div>"
      ],
      "text/plain": [
       "        StarRating       Date                                             Review\n",
       "0  5.0 star rating  6/19/2017  I went to Sand Canyon Barber on 6/18 and was h...\n",
       "1  1.0 star rating  8/24/2017  If there was a Zero rating, I would've given t...\n",
       "2  5.0 star rating  6/23/2017  I got Chi Tiffany as my barber today. She was ...\n",
       "3  5.0 star rating   6/9/2017  BEST HAIRDRESSER!!!  So glad Xuan is back in a...\n",
       "4  5.0 star rating  6/11/2017  I used to go to SportClips in Woodbury but hav..."
      ]
     },
     "execution_count": 18,
     "metadata": {},
     "output_type": "execute_result"
    },
    {
     "data": {
      "text/plain": [
       "(73, 3)"
      ]
     },
     "execution_count": 18,
     "metadata": {},
     "output_type": "execute_result"
    }
   ],
   "source": [
    "# drop NaN rows\n",
    "df3 = df2.dropna()\n",
    "\n",
    "# reset index\n",
    "df3.reset_index(drop=True, inplace=True)\n",
    "\n",
    "df3.head()\n",
    "df3.shape"
   ]
  },
  {
   "cell_type": "code",
   "execution_count": 19,
   "metadata": {},
   "outputs": [
    {
     "data": {
      "text/plain": [
       "StarRating    0\n",
       "Date          0\n",
       "Review        0\n",
       "dtype: int64"
      ]
     },
     "execution_count": 19,
     "metadata": {},
     "output_type": "execute_result"
    }
   ],
   "source": [
    "# checks to see if there are any null values\n",
    "df3.isnull().sum()"
   ]
  },
  {
   "cell_type": "markdown",
   "metadata": {},
   "source": [
    "# Pandas DF and Sentiment Section"
   ]
  },
  {
   "cell_type": "code",
   "execution_count": 20,
   "metadata": {
    "collapsed": true
   },
   "outputs": [],
   "source": [
    "from textblob import TextBlob"
   ]
  },
  {
   "cell_type": "code",
   "execution_count": 21,
   "metadata": {},
   "outputs": [
    {
     "data": {
      "text/plain": [
       "'I went to Sand Canyon Barber on 6/18 and was helped by \\xa0a nice lady named Xuan. She asked me how I liked my haircut and if I wanted a shampoo after. It was a great experience, I knew instantly that Xuan was an experienced barber, she even cleaned up my beard and shaved the back of my neck line with a special trimmer. I came out refreshed and looking clean! 5 Stars! Will be back!!'"
      ]
     },
     "execution_count": 21,
     "metadata": {},
     "output_type": "execute_result"
    }
   ],
   "source": [
    "# convert Review column in df3 to list\n",
    "review_list = df3['Review'].tolist()\n",
    "review_list[0]"
   ]
  },
  {
   "cell_type": "code",
   "execution_count": 22,
   "metadata": {},
   "outputs": [
    {
     "data": {
      "text/plain": [
       "73"
      ]
     },
     "execution_count": 22,
     "metadata": {},
     "output_type": "execute_result"
    }
   ],
   "source": [
    "len(review_list)"
   ]
  },
  {
   "cell_type": "code",
   "execution_count": 23,
   "metadata": {
    "collapsed": true
   },
   "outputs": [],
   "source": [
    "sentiment_score = []\n",
    "# iterate through review list\n",
    "for r in review_list:\n",
    "    sentiment = TextBlob(r)\n",
    "    sentiment_score.append(sentiment.sentiment.polarity)"
   ]
  },
  {
   "cell_type": "code",
   "execution_count": 24,
   "metadata": {
    "collapsed": true
   },
   "outputs": [],
   "source": [
    "# convert to series\n",
    "sentiment_score_convert = pd.Series(sentiment_score)"
   ]
  },
  {
   "cell_type": "code",
   "execution_count": 25,
   "metadata": {
    "collapsed": true
   },
   "outputs": [],
   "source": [
    "# add sentiment score to sentiment_df\n",
    "df3.insert(loc=1, column='SentimentScore', value=sentiment_score_convert)"
   ]
  },
  {
   "cell_type": "code",
   "execution_count": 26,
   "metadata": {},
   "outputs": [
    {
     "data": {
      "text/html": [
       "<div>\n",
       "<style>\n",
       "    .dataframe thead tr:only-child th {\n",
       "        text-align: right;\n",
       "    }\n",
       "\n",
       "    .dataframe thead th {\n",
       "        text-align: left;\n",
       "    }\n",
       "\n",
       "    .dataframe tbody tr th {\n",
       "        vertical-align: top;\n",
       "    }\n",
       "</style>\n",
       "<table border=\"1\" class=\"dataframe\">\n",
       "  <thead>\n",
       "    <tr style=\"text-align: right;\">\n",
       "      <th></th>\n",
       "      <th>StarRating</th>\n",
       "      <th>SentimentScore</th>\n",
       "      <th>Date</th>\n",
       "      <th>Review</th>\n",
       "    </tr>\n",
       "  </thead>\n",
       "  <tbody>\n",
       "    <tr>\n",
       "      <th>0</th>\n",
       "      <td>5.0 star rating</td>\n",
       "      <td>0.414451</td>\n",
       "      <td>6/19/2017</td>\n",
       "      <td>I went to Sand Canyon Barber on 6/18 and was h...</td>\n",
       "    </tr>\n",
       "    <tr>\n",
       "      <th>1</th>\n",
       "      <td>1.0 star rating</td>\n",
       "      <td>0.140833</td>\n",
       "      <td>8/24/2017</td>\n",
       "      <td>If there was a Zero rating, I would've given t...</td>\n",
       "    </tr>\n",
       "    <tr>\n",
       "      <th>2</th>\n",
       "      <td>5.0 star rating</td>\n",
       "      <td>0.015952</td>\n",
       "      <td>6/23/2017</td>\n",
       "      <td>I got Chi Tiffany as my barber today. She was ...</td>\n",
       "    </tr>\n",
       "    <tr>\n",
       "      <th>3</th>\n",
       "      <td>5.0 star rating</td>\n",
       "      <td>0.267262</td>\n",
       "      <td>6/9/2017</td>\n",
       "      <td>BEST HAIRDRESSER!!!  So glad Xuan is back in a...</td>\n",
       "    </tr>\n",
       "    <tr>\n",
       "      <th>4</th>\n",
       "      <td>5.0 star rating</td>\n",
       "      <td>0.450000</td>\n",
       "      <td>6/11/2017</td>\n",
       "      <td>I used to go to SportClips in Woodbury but hav...</td>\n",
       "    </tr>\n",
       "  </tbody>\n",
       "</table>\n",
       "</div>"
      ],
      "text/plain": [
       "        StarRating  SentimentScore       Date                                             Review\n",
       "0  5.0 star rating        0.414451  6/19/2017  I went to Sand Canyon Barber on 6/18 and was h...\n",
       "1  1.0 star rating        0.140833  8/24/2017  If there was a Zero rating, I would've given t...\n",
       "2  5.0 star rating        0.015952  6/23/2017  I got Chi Tiffany as my barber today. She was ...\n",
       "3  5.0 star rating        0.267262   6/9/2017  BEST HAIRDRESSER!!!  So glad Xuan is back in a...\n",
       "4  5.0 star rating        0.450000  6/11/2017  I used to go to SportClips in Woodbury but hav..."
      ]
     },
     "execution_count": 26,
     "metadata": {},
     "output_type": "execute_result"
    }
   ],
   "source": [
    "df3.head()"
   ]
  },
  {
   "cell_type": "code",
   "execution_count": 27,
   "metadata": {
    "collapsed": true
   },
   "outputs": [],
   "source": [
    "sentiment = []\n",
    "# iterate through sentiment_score to assign a pos or neg val\n",
    "for s in sentiment_score:\n",
    "    if s > 0:\n",
    "        sentiment.append('Positive')\n",
    "    else:\n",
    "        sentiment.append('Negative')"
   ]
  },
  {
   "cell_type": "code",
   "execution_count": 28,
   "metadata": {},
   "outputs": [
    {
     "name": "stdout",
     "output_type": "stream",
     "text": [
      "73\n",
      "73\n"
     ]
    }
   ],
   "source": [
    "print(len(sentiment_score))\n",
    "print(len(sentiment))"
   ]
  },
  {
   "cell_type": "code",
   "execution_count": 29,
   "metadata": {},
   "outputs": [
    {
     "data": {
      "text/plain": [
       "StarRating        0\n",
       "SentimentScore    0\n",
       "Date              0\n",
       "Review            0\n",
       "dtype: int64"
      ]
     },
     "execution_count": 29,
     "metadata": {},
     "output_type": "execute_result"
    }
   ],
   "source": [
    "# check for null values\n",
    "df3.isnull().sum()"
   ]
  },
  {
   "cell_type": "code",
   "execution_count": 30,
   "metadata": {
    "collapsed": true
   },
   "outputs": [],
   "source": [
    "# convert sentiment to a pandas series\n",
    "sentiment_2 = pd.Series(sentiment)"
   ]
  },
  {
   "cell_type": "code",
   "execution_count": 31,
   "metadata": {
    "collapsed": true
   },
   "outputs": [],
   "source": [
    "# add sentiment score to sentiment_df\n",
    "df3.insert(loc=2, column='Sentiment', value=sentiment_2)"
   ]
  },
  {
   "cell_type": "code",
   "execution_count": 32,
   "metadata": {},
   "outputs": [
    {
     "data": {
      "text/html": [
       "<div>\n",
       "<style>\n",
       "    .dataframe thead tr:only-child th {\n",
       "        text-align: right;\n",
       "    }\n",
       "\n",
       "    .dataframe thead th {\n",
       "        text-align: left;\n",
       "    }\n",
       "\n",
       "    .dataframe tbody tr th {\n",
       "        vertical-align: top;\n",
       "    }\n",
       "</style>\n",
       "<table border=\"1\" class=\"dataframe\">\n",
       "  <thead>\n",
       "    <tr style=\"text-align: right;\">\n",
       "      <th></th>\n",
       "      <th>StarRating</th>\n",
       "      <th>SentimentScore</th>\n",
       "      <th>Sentiment</th>\n",
       "      <th>Date</th>\n",
       "      <th>Review</th>\n",
       "    </tr>\n",
       "  </thead>\n",
       "  <tbody>\n",
       "    <tr>\n",
       "      <th>0</th>\n",
       "      <td>5.0 star rating</td>\n",
       "      <td>0.414451</td>\n",
       "      <td>Positive</td>\n",
       "      <td>6/19/2017</td>\n",
       "      <td>I went to Sand Canyon Barber on 6/18 and was h...</td>\n",
       "    </tr>\n",
       "    <tr>\n",
       "      <th>1</th>\n",
       "      <td>1.0 star rating</td>\n",
       "      <td>0.140833</td>\n",
       "      <td>Positive</td>\n",
       "      <td>8/24/2017</td>\n",
       "      <td>If there was a Zero rating, I would've given t...</td>\n",
       "    </tr>\n",
       "    <tr>\n",
       "      <th>2</th>\n",
       "      <td>5.0 star rating</td>\n",
       "      <td>0.015952</td>\n",
       "      <td>Positive</td>\n",
       "      <td>6/23/2017</td>\n",
       "      <td>I got Chi Tiffany as my barber today. She was ...</td>\n",
       "    </tr>\n",
       "    <tr>\n",
       "      <th>3</th>\n",
       "      <td>5.0 star rating</td>\n",
       "      <td>0.267262</td>\n",
       "      <td>Positive</td>\n",
       "      <td>6/9/2017</td>\n",
       "      <td>BEST HAIRDRESSER!!!  So glad Xuan is back in a...</td>\n",
       "    </tr>\n",
       "    <tr>\n",
       "      <th>4</th>\n",
       "      <td>5.0 star rating</td>\n",
       "      <td>0.450000</td>\n",
       "      <td>Positive</td>\n",
       "      <td>6/11/2017</td>\n",
       "      <td>I used to go to SportClips in Woodbury but hav...</td>\n",
       "    </tr>\n",
       "  </tbody>\n",
       "</table>\n",
       "</div>"
      ],
      "text/plain": [
       "        StarRating  SentimentScore Sentiment       Date                                             Review\n",
       "0  5.0 star rating        0.414451  Positive  6/19/2017  I went to Sand Canyon Barber on 6/18 and was h...\n",
       "1  1.0 star rating        0.140833  Positive  8/24/2017  If there was a Zero rating, I would've given t...\n",
       "2  5.0 star rating        0.015952  Positive  6/23/2017  I got Chi Tiffany as my barber today. She was ...\n",
       "3  5.0 star rating        0.267262  Positive   6/9/2017  BEST HAIRDRESSER!!!  So glad Xuan is back in a...\n",
       "4  5.0 star rating        0.450000  Positive  6/11/2017  I used to go to SportClips in Woodbury but hav..."
      ]
     },
     "execution_count": 32,
     "metadata": {},
     "output_type": "execute_result"
    }
   ],
   "source": [
    "df3.head()"
   ]
  },
  {
   "cell_type": "code",
   "execution_count": 33,
   "metadata": {},
   "outputs": [
    {
     "data": {
      "text/plain": [
       "Positive    56\n",
       "Negative    17\n",
       "Name: Sentiment, dtype: int64"
      ]
     },
     "execution_count": 33,
     "metadata": {},
     "output_type": "execute_result"
    }
   ],
   "source": [
    "# check value counts for Positive and Negative\n",
    "df3.Sentiment.value_counts()"
   ]
  },
  {
   "cell_type": "code",
   "execution_count": 34,
   "metadata": {
    "collapsed": true
   },
   "outputs": [],
   "source": [
    "# convert Sentiment label to a numerical value\n",
    "df3['SentimentNum'] = df3.Sentiment.map({'Positive': 0,\n",
    "                                                 'Negative': 1})"
   ]
  },
  {
   "cell_type": "code",
   "execution_count": 35,
   "metadata": {},
   "outputs": [
    {
     "data": {
      "text/html": [
       "<div>\n",
       "<style>\n",
       "    .dataframe thead tr:only-child th {\n",
       "        text-align: right;\n",
       "    }\n",
       "\n",
       "    .dataframe thead th {\n",
       "        text-align: left;\n",
       "    }\n",
       "\n",
       "    .dataframe tbody tr th {\n",
       "        vertical-align: top;\n",
       "    }\n",
       "</style>\n",
       "<table border=\"1\" class=\"dataframe\">\n",
       "  <thead>\n",
       "    <tr style=\"text-align: right;\">\n",
       "      <th></th>\n",
       "      <th>StarRating</th>\n",
       "      <th>SentimentScore</th>\n",
       "      <th>Sentiment</th>\n",
       "      <th>Date</th>\n",
       "      <th>Review</th>\n",
       "      <th>SentimentNum</th>\n",
       "    </tr>\n",
       "  </thead>\n",
       "  <tbody>\n",
       "    <tr>\n",
       "      <th>0</th>\n",
       "      <td>5.0 star rating</td>\n",
       "      <td>0.414451</td>\n",
       "      <td>Positive</td>\n",
       "      <td>6/19/2017</td>\n",
       "      <td>I went to Sand Canyon Barber on 6/18 and was h...</td>\n",
       "      <td>0</td>\n",
       "    </tr>\n",
       "    <tr>\n",
       "      <th>1</th>\n",
       "      <td>1.0 star rating</td>\n",
       "      <td>0.140833</td>\n",
       "      <td>Positive</td>\n",
       "      <td>8/24/2017</td>\n",
       "      <td>If there was a Zero rating, I would've given t...</td>\n",
       "      <td>0</td>\n",
       "    </tr>\n",
       "    <tr>\n",
       "      <th>2</th>\n",
       "      <td>5.0 star rating</td>\n",
       "      <td>0.015952</td>\n",
       "      <td>Positive</td>\n",
       "      <td>6/23/2017</td>\n",
       "      <td>I got Chi Tiffany as my barber today. She was ...</td>\n",
       "      <td>0</td>\n",
       "    </tr>\n",
       "    <tr>\n",
       "      <th>3</th>\n",
       "      <td>5.0 star rating</td>\n",
       "      <td>0.267262</td>\n",
       "      <td>Positive</td>\n",
       "      <td>6/9/2017</td>\n",
       "      <td>BEST HAIRDRESSER!!!  So glad Xuan is back in a...</td>\n",
       "      <td>0</td>\n",
       "    </tr>\n",
       "    <tr>\n",
       "      <th>4</th>\n",
       "      <td>5.0 star rating</td>\n",
       "      <td>0.450000</td>\n",
       "      <td>Positive</td>\n",
       "      <td>6/11/2017</td>\n",
       "      <td>I used to go to SportClips in Woodbury but hav...</td>\n",
       "      <td>0</td>\n",
       "    </tr>\n",
       "  </tbody>\n",
       "</table>\n",
       "</div>"
      ],
      "text/plain": [
       "        StarRating  SentimentScore Sentiment       Date                                             Review  SentimentNum\n",
       "0  5.0 star rating        0.414451  Positive  6/19/2017  I went to Sand Canyon Barber on 6/18 and was h...             0\n",
       "1  1.0 star rating        0.140833  Positive  8/24/2017  If there was a Zero rating, I would've given t...             0\n",
       "2  5.0 star rating        0.015952  Positive  6/23/2017  I got Chi Tiffany as my barber today. She was ...             0\n",
       "3  5.0 star rating        0.267262  Positive   6/9/2017  BEST HAIRDRESSER!!!  So glad Xuan is back in a...             0\n",
       "4  5.0 star rating        0.450000  Positive  6/11/2017  I used to go to SportClips in Woodbury but hav...             0"
      ]
     },
     "execution_count": 35,
     "metadata": {},
     "output_type": "execute_result"
    },
    {
     "data": {
      "text/html": [
       "<div>\n",
       "<style>\n",
       "    .dataframe thead tr:only-child th {\n",
       "        text-align: right;\n",
       "    }\n",
       "\n",
       "    .dataframe thead th {\n",
       "        text-align: left;\n",
       "    }\n",
       "\n",
       "    .dataframe tbody tr th {\n",
       "        vertical-align: top;\n",
       "    }\n",
       "</style>\n",
       "<table border=\"1\" class=\"dataframe\">\n",
       "  <thead>\n",
       "    <tr style=\"text-align: right;\">\n",
       "      <th></th>\n",
       "      <th>StarRating</th>\n",
       "      <th>SentimentScore</th>\n",
       "      <th>Sentiment</th>\n",
       "      <th>Date</th>\n",
       "      <th>Review</th>\n",
       "      <th>SentimentNum</th>\n",
       "    </tr>\n",
       "  </thead>\n",
       "  <tbody>\n",
       "    <tr>\n",
       "      <th>68</th>\n",
       "      <td>5.0 star rating</td>\n",
       "      <td>0.312500</td>\n",
       "      <td>Positive</td>\n",
       "      <td>12/19/2011</td>\n",
       "      <td>We really enjoyed this place, me and my 2 year...</td>\n",
       "      <td>0</td>\n",
       "    </tr>\n",
       "    <tr>\n",
       "      <th>69</th>\n",
       "      <td>4.0 star rating</td>\n",
       "      <td>0.406250</td>\n",
       "      <td>Positive</td>\n",
       "      <td>7/20/2011</td>\n",
       "      <td>Love going to the Sand Canyon Barber shop! Tif...</td>\n",
       "      <td>0</td>\n",
       "    </tr>\n",
       "    <tr>\n",
       "      <th>70</th>\n",
       "      <td>4.0 star rating</td>\n",
       "      <td>0.850000</td>\n",
       "      <td>Positive</td>\n",
       "      <td>9/26/2011</td>\n",
       "      <td>They have lots of staff, which means no wait. ...</td>\n",
       "      <td>0</td>\n",
       "    </tr>\n",
       "    <tr>\n",
       "      <th>71</th>\n",
       "      <td>3.5 star rating</td>\n",
       "      <td>0.278571</td>\n",
       "      <td>Positive</td>\n",
       "      <td>8/15/2009</td>\n",
       "      <td>Jeff L who wrote a review below is absolutely ...</td>\n",
       "      <td>0</td>\n",
       "    </tr>\n",
       "    <tr>\n",
       "      <th>72</th>\n",
       "      <td>5.0 star rating</td>\n",
       "      <td>0.275159</td>\n",
       "      <td>Positive</td>\n",
       "      <td>7/2/2009</td>\n",
       "      <td>Just OK. Not a typical barbershop - this place...</td>\n",
       "      <td>0</td>\n",
       "    </tr>\n",
       "  </tbody>\n",
       "</table>\n",
       "</div>"
      ],
      "text/plain": [
       "         StarRating  SentimentScore Sentiment        Date                                             Review  SentimentNum\n",
       "68  5.0 star rating        0.312500  Positive  12/19/2011  We really enjoyed this place, me and my 2 year...             0\n",
       "69  4.0 star rating        0.406250  Positive   7/20/2011  Love going to the Sand Canyon Barber shop! Tif...             0\n",
       "70  4.0 star rating        0.850000  Positive   9/26/2011  They have lots of staff, which means no wait. ...             0\n",
       "71  3.5 star rating        0.278571  Positive   8/15/2009  Jeff L who wrote a review below is absolutely ...             0\n",
       "72  5.0 star rating        0.275159  Positive    7/2/2009  Just OK. Not a typical barbershop - this place...             0"
      ]
     },
     "execution_count": 35,
     "metadata": {},
     "output_type": "execute_result"
    },
    {
     "data": {
      "text/plain": [
       "(73, 6)"
      ]
     },
     "execution_count": 35,
     "metadata": {},
     "output_type": "execute_result"
    }
   ],
   "source": [
    "df3.head()\n",
    "df3.tail()\n",
    "df3.shape"
   ]
  },
  {
   "cell_type": "code",
   "execution_count": 36,
   "metadata": {},
   "outputs": [
    {
     "data": {
      "text/plain": [
       "0    56\n",
       "1    17\n",
       "Name: SentimentNum, dtype: int64"
      ]
     },
     "execution_count": 36,
     "metadata": {},
     "output_type": "execute_result"
    }
   ],
   "source": [
    "df3.SentimentNum.value_counts()"
   ]
  },
  {
   "cell_type": "code",
   "execution_count": 37,
   "metadata": {},
   "outputs": [
    {
     "data": {
      "text/plain": [
       "'sand-canyon-barber-irvine'"
      ]
     },
     "execution_count": 37,
     "metadata": {},
     "output_type": "execute_result"
    }
   ],
   "source": [
    "# extract business name from \"main\" url\n",
    "bizname_split = main.split('https://www.yelp.com/biz/')\n",
    "bizname = bizname_split[1]\n",
    "bizname"
   ]
  },
  {
   "cell_type": "code",
   "execution_count": 38,
   "metadata": {},
   "outputs": [
    {
     "data": {
      "text/html": [
       "<div>\n",
       "<style>\n",
       "    .dataframe thead tr:only-child th {\n",
       "        text-align: right;\n",
       "    }\n",
       "\n",
       "    .dataframe thead th {\n",
       "        text-align: left;\n",
       "    }\n",
       "\n",
       "    .dataframe tbody tr th {\n",
       "        vertical-align: top;\n",
       "    }\n",
       "</style>\n",
       "<table border=\"1\" class=\"dataframe\">\n",
       "  <thead>\n",
       "    <tr style=\"text-align: right;\">\n",
       "      <th></th>\n",
       "      <th>Date</th>\n",
       "      <th>SentimentScore</th>\n",
       "      <th>Sentiment</th>\n",
       "      <th>SentimentNum</th>\n",
       "      <th>StarRating</th>\n",
       "      <th>Review</th>\n",
       "    </tr>\n",
       "  </thead>\n",
       "  <tbody>\n",
       "    <tr>\n",
       "      <th>0</th>\n",
       "      <td>6/19/2017</td>\n",
       "      <td>0.414451</td>\n",
       "      <td>Positive</td>\n",
       "      <td>0</td>\n",
       "      <td>5.0 star rating</td>\n",
       "      <td>I went to Sand Canyon Barber on 6/18 and was h...</td>\n",
       "    </tr>\n",
       "    <tr>\n",
       "      <th>1</th>\n",
       "      <td>8/24/2017</td>\n",
       "      <td>0.140833</td>\n",
       "      <td>Positive</td>\n",
       "      <td>0</td>\n",
       "      <td>1.0 star rating</td>\n",
       "      <td>If there was a Zero rating, I would've given t...</td>\n",
       "    </tr>\n",
       "    <tr>\n",
       "      <th>2</th>\n",
       "      <td>6/23/2017</td>\n",
       "      <td>0.015952</td>\n",
       "      <td>Positive</td>\n",
       "      <td>0</td>\n",
       "      <td>5.0 star rating</td>\n",
       "      <td>I got Chi Tiffany as my barber today. She was ...</td>\n",
       "    </tr>\n",
       "    <tr>\n",
       "      <th>3</th>\n",
       "      <td>6/9/2017</td>\n",
       "      <td>0.267262</td>\n",
       "      <td>Positive</td>\n",
       "      <td>0</td>\n",
       "      <td>5.0 star rating</td>\n",
       "      <td>BEST HAIRDRESSER!!!  So glad Xuan is back in a...</td>\n",
       "    </tr>\n",
       "    <tr>\n",
       "      <th>4</th>\n",
       "      <td>6/11/2017</td>\n",
       "      <td>0.450000</td>\n",
       "      <td>Positive</td>\n",
       "      <td>0</td>\n",
       "      <td>5.0 star rating</td>\n",
       "      <td>I used to go to SportClips in Woodbury but hav...</td>\n",
       "    </tr>\n",
       "  </tbody>\n",
       "</table>\n",
       "</div>"
      ],
      "text/plain": [
       "        Date  SentimentScore Sentiment  SentimentNum       StarRating                                             Review\n",
       "0  6/19/2017        0.414451  Positive             0  5.0 star rating  I went to Sand Canyon Barber on 6/18 and was h...\n",
       "1  8/24/2017        0.140833  Positive             0  1.0 star rating  If there was a Zero rating, I would've given t...\n",
       "2  6/23/2017        0.015952  Positive             0  5.0 star rating  I got Chi Tiffany as my barber today. She was ...\n",
       "3   6/9/2017        0.267262  Positive             0  5.0 star rating  BEST HAIRDRESSER!!!  So glad Xuan is back in a...\n",
       "4  6/11/2017        0.450000  Positive             0  5.0 star rating  I used to go to SportClips in Woodbury but hav..."
      ]
     },
     "execution_count": 38,
     "metadata": {},
     "output_type": "execute_result"
    }
   ],
   "source": [
    "# reorder columns\n",
    "df3 = df3[['Date', 'SentimentScore', 'Sentiment', 'SentimentNum', 'StarRating', 'Review']]\n",
    "df3.head()"
   ]
  },
  {
   "cell_type": "code",
   "execution_count": 39,
   "metadata": {
    "collapsed": true,
    "scrolled": true
   },
   "outputs": [],
   "source": [
    "# save csv to reviews folder to use for NLP\n",
    "df3.to_csv(f'reviews/{bizname}.csv', index=False)"
   ]
  },
  {
   "cell_type": "markdown",
   "metadata": {},
   "source": [
    "# Section for NLTK"
   ]
  },
  {
   "cell_type": "markdown",
   "metadata": {},
   "source": [
    "### Import saved csvs from reviews directory"
   ]
  },
  {
   "cell_type": "code",
   "execution_count": null,
   "metadata": {
    "collapsed": true
   },
   "outputs": [],
   "source": [
    "# Define X and y for use with COUNTVECTORIZE\n",
    "X = df3.Review\n",
    "y = df3.SentimentNum\n",
    "print(X.shape)\n",
    "print(y.shape)"
   ]
  }
 ],
 "metadata": {
  "kernelspec": {
   "display_name": "Python 3",
   "language": "python",
   "name": "python3"
  },
  "language_info": {
   "codemirror_mode": {
    "name": "ipython",
    "version": 3
   },
   "file_extension": ".py",
   "mimetype": "text/x-python",
   "name": "python",
   "nbconvert_exporter": "python",
   "pygments_lexer": "ipython3",
   "version": "3.6.3"
  }
 },
 "nbformat": 4,
 "nbformat_minor": 2
}
