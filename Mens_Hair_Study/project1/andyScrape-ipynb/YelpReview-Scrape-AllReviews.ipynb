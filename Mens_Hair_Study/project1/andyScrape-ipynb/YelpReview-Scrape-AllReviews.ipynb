{
 "cells": [
  {
   "cell_type": "code",
   "execution_count": 1,
   "metadata": {
    "collapsed": true
   },
   "outputs": [],
   "source": [
    "# yelp scraping project\n",
    "import requests\n",
    "import json\n",
    "import pandas as pd\n",
    "import numpy as np\n",
    "\n",
    "from bs4 import BeautifulSoup\n",
    "import requests\n",
    "\n",
    "from IPython.core.interactiveshell import InteractiveShell\n",
    "InteractiveShell.ast_node_interactivity = \"all\"\n",
    "\n",
    "import pandas as pd\n",
    "import re\n",
    "\n",
    "%matplotlib inline\n",
    "import matplotlib.pyplot as plt\n",
    "plt.style.use('fivethirtyeight')\n",
    "\n",
    "import warnings\n",
    "warnings.filterwarnings('ignore')"
   ]
  },
  {
   "cell_type": "code",
   "execution_count": 2,
   "metadata": {},
   "outputs": [
    {
     "name": "stdout",
     "output_type": "stream",
     "text": [
      "height has been deprecated.\n",
      "\n"
     ]
    }
   ],
   "source": [
    "pd.set_option('display.height', 1000)\n",
    "pd.set_option('display.max_rows', 500)\n",
    "pd.set_option('display.max_columns', 2500)\n",
    "pd.set_option('display.width', 1000)"
   ]
  },
  {
   "cell_type": "code",
   "execution_count": 3,
   "metadata": {},
   "outputs": [],
   "source": [
    "# hard code this section to scrape multiple pages for reviews\n",
    "main = 'https://www.yelp.com/biz/fresh-cuts-daly-city'\n",
    "url = [main,\n",
    "       main + '?start=20',\n",
    "       main + '?start=40',\n",
    "       main + '?start=60',]\n",
    "#        main + '?start=80',\n",
    "#        main + '?start=100',]\n",
    "#        main + '?start=120',\n",
    "#        main + '?start=140',\n",
    "#        main + '?start=160',\n",
    "#        main + '?start=180',\n",
    "#        main + '?start=200',\n",
    "#        main + '?start=220',\n",
    "#        main + '?start=240',\n",
    "#        main + '?start=260',\n",
    "#        main + '?start=280',\n",
    "#        main + '?start=300',\n",
    "#        main + '?start=320',]\n",
    "#        main + '?start=340',\n",
    "#        main + '?start=360',\n",
    "#        main + '?start=380',]"
   ]
  },
  {
   "cell_type": "code",
   "execution_count": 4,
   "metadata": {},
   "outputs": [
    {
     "name": "stdout",
     "output_type": "stream",
     "text": [
      "https://www.yelp.com/biz/fresh-cuts-daly-city\n",
      "https://www.yelp.com/biz/fresh-cuts-daly-city?start=20\n",
      "https://www.yelp.com/biz/fresh-cuts-daly-city?start=40\n",
      "https://www.yelp.com/biz/fresh-cuts-daly-city?start=60\n"
     ]
    }
   ],
   "source": [
    "for i in url:\n",
    "    print (i)"
   ]
  },
  {
   "cell_type": "markdown",
   "metadata": {},
   "source": [
    "# Start Review Section"
   ]
  },
  {
   "cell_type": "code",
   "execution_count": 5,
   "metadata": {
    "collapsed": true
   },
   "outputs": [],
   "source": [
    "reviews = []\n",
    "star_rating = []"
   ]
  },
  {
   "cell_type": "code",
   "execution_count": 6,
   "metadata": {
    "collapsed": true
   },
   "outputs": [],
   "source": [
    "def get_review_content(url):\n",
    "    for i in url:\n",
    "        response = requests.get(i)\n",
    "        soup = BeautifulSoup(response.text, 'html.parser')\n",
    "        \n",
    "        rc_unstripped = soup.find_all(attrs={'class': 'review-content'})\n",
    "        rc_length = (len(rc_unstripped))\n",
    "        \n",
    "        for i in range (0, rc_length):\n",
    "            reviews.append(rc_unstripped[i].text.strip()) \n",
    "        \n",
    "        for rating in soup.select(\".rating-large\"):\n",
    "            star_rating.append(rating.get(\"title\"))"
   ]
  },
  {
   "cell_type": "code",
   "execution_count": 7,
   "metadata": {
    "collapsed": true
   },
   "outputs": [],
   "source": [
    "# Run the function\n",
    "get_review_content(url)"
   ]
  },
  {
   "cell_type": "code",
   "execution_count": 8,
   "metadata": {},
   "outputs": [
    {
     "name": "stdout",
     "output_type": "stream",
     "text": [
      "62\n",
      "68\n"
     ]
    }
   ],
   "source": [
    "print(len(reviews))\n",
    "print(len(star_rating))"
   ]
  },
  {
   "cell_type": "code",
   "execution_count": 9,
   "metadata": {
    "scrolled": false
   },
   "outputs": [
    {
     "name": "stdout",
     "output_type": "stream",
     "text": [
      "3/9/2018\n",
      "    \n",
      "\n",
      "I have been going here for just over a year now. Have found few shops and people that can not just cut my hair but my two sons. I look for convenience but quality and Fresh Cuts And Omar are that for me! He is able to get me in most the times I need and gives 3 of us quality cuts!\n",
      "5.0 star rating\n"
     ]
    }
   ],
   "source": [
    "print(reviews[0])\n",
    "print(star_rating[0])"
   ]
  },
  {
   "cell_type": "code",
   "execution_count": 10,
   "metadata": {},
   "outputs": [
    {
     "data": {
      "text/plain": [
       "57    1/26/2011\\n    \\n\\nBest haircuts in the bay ar...\n",
       "58    4/3/2010\\n    \\n\\n5 STARS for the Shop-nice cl...\n",
       "59    5/13/2010\\n    \\n\\nBeen to alot of barber shop...\n",
       "60    12/2/2010\\n    \\n\\nit  dont even matter who yo...\n",
       "61    9/20/2009\\n    \\n\\n\\n\\n\\n\\n\\n\\n\\nFirst to Revi...\n",
       "dtype: object"
      ]
     },
     "execution_count": 10,
     "metadata": {},
     "output_type": "execute_result"
    }
   ],
   "source": [
    "# convert reviews to pd series\n",
    "reviews_s = pd.Series(reviews)\n",
    "reviews_s.tail()"
   ]
  },
  {
   "cell_type": "code",
   "execution_count": 11,
   "metadata": {},
   "outputs": [
    {
     "data": {
      "text/plain": [
       "63    5.0 star rating\n",
       "64    4.0 star rating\n",
       "65    5.0 star rating\n",
       "66    5.0 star rating\n",
       "67    4.0 star rating\n",
       "dtype: object"
      ]
     },
     "execution_count": 11,
     "metadata": {},
     "output_type": "execute_result"
    }
   ],
   "source": [
    "# convert ratings to pd series\n",
    "ratings_s = pd.Series(star_rating)\n",
    "ratings_s.tail()"
   ]
  },
  {
   "cell_type": "code",
   "execution_count": 12,
   "metadata": {
    "collapsed": true
   },
   "outputs": [],
   "source": [
    "# create a pandas df from reviews\n",
    "data = {'Reviews' : reviews_s,\n",
    "       'StarRating': ratings_s}\n",
    "\n",
    "df = pd.DataFrame.from_dict(data)\n",
    "df = df[['Reviews', 'StarRating']]    "
   ]
  },
  {
   "cell_type": "code",
   "execution_count": 13,
   "metadata": {},
   "outputs": [
    {
     "data": {
      "text/html": [
       "<div>\n",
       "<style>\n",
       "    .dataframe thead tr:only-child th {\n",
       "        text-align: right;\n",
       "    }\n",
       "\n",
       "    .dataframe thead th {\n",
       "        text-align: left;\n",
       "    }\n",
       "\n",
       "    .dataframe tbody tr th {\n",
       "        vertical-align: top;\n",
       "    }\n",
       "</style>\n",
       "<table border=\"1\" class=\"dataframe\">\n",
       "  <thead>\n",
       "    <tr style=\"text-align: right;\">\n",
       "      <th></th>\n",
       "      <th>Reviews</th>\n",
       "      <th>StarRating</th>\n",
       "    </tr>\n",
       "  </thead>\n",
       "  <tbody>\n",
       "    <tr>\n",
       "      <th>0</th>\n",
       "      <td>3/9/2018\\n    \\n\\nI have been going here for j...</td>\n",
       "      <td>5.0 star rating</td>\n",
       "    </tr>\n",
       "    <tr>\n",
       "      <th>1</th>\n",
       "      <td>3/8/2018\\n    \\n\\nI made an appointment with O...</td>\n",
       "      <td>1.0 star rating</td>\n",
       "    </tr>\n",
       "    <tr>\n",
       "      <th>2</th>\n",
       "      <td>3/11/2018\\n    \\n\\nIf you're gonna take appoin...</td>\n",
       "      <td>1.0 star rating</td>\n",
       "    </tr>\n",
       "    <tr>\n",
       "      <th>3</th>\n",
       "      <td>3/9/2018\\n    \\n\\nLast second haircut for a we...</td>\n",
       "      <td>5.0 star rating</td>\n",
       "    </tr>\n",
       "    <tr>\n",
       "      <th>4</th>\n",
       "      <td>11/25/2017\\n    \\n\\nBarber: OmarService: FHair...</td>\n",
       "      <td>1.0 star rating</td>\n",
       "    </tr>\n",
       "  </tbody>\n",
       "</table>\n",
       "</div>"
      ],
      "text/plain": [
       "                                             Reviews       StarRating\n",
       "0  3/9/2018\\n    \\n\\nI have been going here for j...  5.0 star rating\n",
       "1  3/8/2018\\n    \\n\\nI made an appointment with O...  1.0 star rating\n",
       "2  3/11/2018\\n    \\n\\nIf you're gonna take appoin...  1.0 star rating\n",
       "3  3/9/2018\\n    \\n\\nLast second haircut for a we...  5.0 star rating\n",
       "4  11/25/2017\\n    \\n\\nBarber: OmarService: FHair...  1.0 star rating"
      ]
     },
     "execution_count": 13,
     "metadata": {},
     "output_type": "execute_result"
    },
    {
     "data": {
      "text/html": [
       "<div>\n",
       "<style>\n",
       "    .dataframe thead tr:only-child th {\n",
       "        text-align: right;\n",
       "    }\n",
       "\n",
       "    .dataframe thead th {\n",
       "        text-align: left;\n",
       "    }\n",
       "\n",
       "    .dataframe tbody tr th {\n",
       "        vertical-align: top;\n",
       "    }\n",
       "</style>\n",
       "<table border=\"1\" class=\"dataframe\">\n",
       "  <thead>\n",
       "    <tr style=\"text-align: right;\">\n",
       "      <th></th>\n",
       "      <th>Reviews</th>\n",
       "      <th>StarRating</th>\n",
       "    </tr>\n",
       "  </thead>\n",
       "  <tbody>\n",
       "    <tr>\n",
       "      <th>63</th>\n",
       "      <td>NaN</td>\n",
       "      <td>5.0 star rating</td>\n",
       "    </tr>\n",
       "    <tr>\n",
       "      <th>64</th>\n",
       "      <td>NaN</td>\n",
       "      <td>4.0 star rating</td>\n",
       "    </tr>\n",
       "    <tr>\n",
       "      <th>65</th>\n",
       "      <td>NaN</td>\n",
       "      <td>5.0 star rating</td>\n",
       "    </tr>\n",
       "    <tr>\n",
       "      <th>66</th>\n",
       "      <td>NaN</td>\n",
       "      <td>5.0 star rating</td>\n",
       "    </tr>\n",
       "    <tr>\n",
       "      <th>67</th>\n",
       "      <td>NaN</td>\n",
       "      <td>4.0 star rating</td>\n",
       "    </tr>\n",
       "  </tbody>\n",
       "</table>\n",
       "</div>"
      ],
      "text/plain": [
       "   Reviews       StarRating\n",
       "63     NaN  5.0 star rating\n",
       "64     NaN  4.0 star rating\n",
       "65     NaN  5.0 star rating\n",
       "66     NaN  5.0 star rating\n",
       "67     NaN  4.0 star rating"
      ]
     },
     "execution_count": 13,
     "metadata": {},
     "output_type": "execute_result"
    },
    {
     "data": {
      "text/plain": [
       "(68, 2)"
      ]
     },
     "execution_count": 13,
     "metadata": {},
     "output_type": "execute_result"
    }
   ],
   "source": [
    "df.head()\n",
    "df.tail()\n",
    "df.shape"
   ]
  },
  {
   "cell_type": "code",
   "execution_count": 14,
   "metadata": {
    "collapsed": true
   },
   "outputs": [],
   "source": [
    "# split date and reviews\n",
    "df['Date'] = df.Reviews.str.split('\\n').str.get(0)\n",
    "df['Review'] = df.Reviews.str.split('\\n\\n').str.get(1)"
   ]
  },
  {
   "cell_type": "code",
   "execution_count": 15,
   "metadata": {
    "collapsed": true
   },
   "outputs": [],
   "source": [
    "# drop Reviews column\n",
    "df.drop('Reviews', axis=1, inplace=True)"
   ]
  },
  {
   "cell_type": "code",
   "execution_count": 16,
   "metadata": {},
   "outputs": [
    {
     "data": {
      "text/html": [
       "<div>\n",
       "<style>\n",
       "    .dataframe thead tr:only-child th {\n",
       "        text-align: right;\n",
       "    }\n",
       "\n",
       "    .dataframe thead th {\n",
       "        text-align: left;\n",
       "    }\n",
       "\n",
       "    .dataframe tbody tr th {\n",
       "        vertical-align: top;\n",
       "    }\n",
       "</style>\n",
       "<table border=\"1\" class=\"dataframe\">\n",
       "  <thead>\n",
       "    <tr style=\"text-align: right;\">\n",
       "      <th></th>\n",
       "      <th>StarRating</th>\n",
       "      <th>Date</th>\n",
       "      <th>Review</th>\n",
       "    </tr>\n",
       "  </thead>\n",
       "  <tbody>\n",
       "    <tr>\n",
       "      <th>0</th>\n",
       "      <td>5.0 star rating</td>\n",
       "      <td>3/9/2018</td>\n",
       "      <td>I have been going here for just over a year no...</td>\n",
       "    </tr>\n",
       "    <tr>\n",
       "      <th>1</th>\n",
       "      <td>1.0 star rating</td>\n",
       "      <td>3/8/2018</td>\n",
       "      <td>I made an appointment with Omar.  When I arriv...</td>\n",
       "    </tr>\n",
       "    <tr>\n",
       "      <th>2</th>\n",
       "      <td>1.0 star rating</td>\n",
       "      <td>3/11/2018</td>\n",
       "      <td>If you're gonna take appointments, keep them. ...</td>\n",
       "    </tr>\n",
       "    <tr>\n",
       "      <th>3</th>\n",
       "      <td>5.0 star rating</td>\n",
       "      <td>3/9/2018</td>\n",
       "      <td>Last second haircut for a wedding Omar saved m...</td>\n",
       "    </tr>\n",
       "    <tr>\n",
       "      <th>4</th>\n",
       "      <td>1.0 star rating</td>\n",
       "      <td>11/25/2017</td>\n",
       "      <td>Barber: OmarService: FHaircut: FOverall Grade:...</td>\n",
       "    </tr>\n",
       "  </tbody>\n",
       "</table>\n",
       "</div>"
      ],
      "text/plain": [
       "        StarRating        Date                                             Review\n",
       "0  5.0 star rating    3/9/2018  I have been going here for just over a year no...\n",
       "1  1.0 star rating    3/8/2018  I made an appointment with Omar.  When I arriv...\n",
       "2  1.0 star rating   3/11/2018  If you're gonna take appointments, keep them. ...\n",
       "3  5.0 star rating    3/9/2018  Last second haircut for a wedding Omar saved m...\n",
       "4  1.0 star rating  11/25/2017  Barber: OmarService: FHaircut: FOverall Grade:..."
      ]
     },
     "execution_count": 16,
     "metadata": {},
     "output_type": "execute_result"
    }
   ],
   "source": [
    "df.head()"
   ]
  },
  {
   "cell_type": "code",
   "execution_count": 17,
   "metadata": {},
   "outputs": [
    {
     "data": {
      "text/html": [
       "<div>\n",
       "<style>\n",
       "    .dataframe thead tr:only-child th {\n",
       "        text-align: right;\n",
       "    }\n",
       "\n",
       "    .dataframe thead th {\n",
       "        text-align: left;\n",
       "    }\n",
       "\n",
       "    .dataframe tbody tr th {\n",
       "        vertical-align: top;\n",
       "    }\n",
       "</style>\n",
       "<table border=\"1\" class=\"dataframe\">\n",
       "  <thead>\n",
       "    <tr style=\"text-align: right;\">\n",
       "      <th></th>\n",
       "      <th>StarRating</th>\n",
       "      <th>Date</th>\n",
       "      <th>Review</th>\n",
       "    </tr>\n",
       "  </thead>\n",
       "  <tbody>\n",
       "    <tr>\n",
       "      <th>63</th>\n",
       "      <td>5.0 star rating</td>\n",
       "      <td>NaN</td>\n",
       "      <td>NaN</td>\n",
       "    </tr>\n",
       "    <tr>\n",
       "      <th>64</th>\n",
       "      <td>4.0 star rating</td>\n",
       "      <td>NaN</td>\n",
       "      <td>NaN</td>\n",
       "    </tr>\n",
       "    <tr>\n",
       "      <th>65</th>\n",
       "      <td>5.0 star rating</td>\n",
       "      <td>NaN</td>\n",
       "      <td>NaN</td>\n",
       "    </tr>\n",
       "    <tr>\n",
       "      <th>66</th>\n",
       "      <td>5.0 star rating</td>\n",
       "      <td>NaN</td>\n",
       "      <td>NaN</td>\n",
       "    </tr>\n",
       "    <tr>\n",
       "      <th>67</th>\n",
       "      <td>4.0 star rating</td>\n",
       "      <td>NaN</td>\n",
       "      <td>NaN</td>\n",
       "    </tr>\n",
       "  </tbody>\n",
       "</table>\n",
       "</div>"
      ],
      "text/plain": [
       "         StarRating Date Review\n",
       "63  5.0 star rating  NaN    NaN\n",
       "64  4.0 star rating  NaN    NaN\n",
       "65  5.0 star rating  NaN    NaN\n",
       "66  5.0 star rating  NaN    NaN\n",
       "67  4.0 star rating  NaN    NaN"
      ]
     },
     "execution_count": 17,
     "metadata": {},
     "output_type": "execute_result"
    }
   ],
   "source": [
    "# delete NaN rows\n",
    "df2 = df.replace(r\"\", np.nan)\n",
    "df2.tail()"
   ]
  },
  {
   "cell_type": "code",
   "execution_count": 18,
   "metadata": {},
   "outputs": [
    {
     "data": {
      "text/html": [
       "<div>\n",
       "<style>\n",
       "    .dataframe thead tr:only-child th {\n",
       "        text-align: right;\n",
       "    }\n",
       "\n",
       "    .dataframe thead th {\n",
       "        text-align: left;\n",
       "    }\n",
       "\n",
       "    .dataframe tbody tr th {\n",
       "        vertical-align: top;\n",
       "    }\n",
       "</style>\n",
       "<table border=\"1\" class=\"dataframe\">\n",
       "  <thead>\n",
       "    <tr style=\"text-align: right;\">\n",
       "      <th></th>\n",
       "      <th>StarRating</th>\n",
       "      <th>Date</th>\n",
       "      <th>Review</th>\n",
       "    </tr>\n",
       "  </thead>\n",
       "  <tbody>\n",
       "    <tr>\n",
       "      <th>0</th>\n",
       "      <td>5.0 star rating</td>\n",
       "      <td>3/9/2018</td>\n",
       "      <td>I have been going here for just over a year no...</td>\n",
       "    </tr>\n",
       "    <tr>\n",
       "      <th>1</th>\n",
       "      <td>1.0 star rating</td>\n",
       "      <td>3/8/2018</td>\n",
       "      <td>I made an appointment with Omar.  When I arriv...</td>\n",
       "    </tr>\n",
       "    <tr>\n",
       "      <th>2</th>\n",
       "      <td>1.0 star rating</td>\n",
       "      <td>3/11/2018</td>\n",
       "      <td>If you're gonna take appointments, keep them. ...</td>\n",
       "    </tr>\n",
       "    <tr>\n",
       "      <th>3</th>\n",
       "      <td>5.0 star rating</td>\n",
       "      <td>3/9/2018</td>\n",
       "      <td>Last second haircut for a wedding Omar saved m...</td>\n",
       "    </tr>\n",
       "    <tr>\n",
       "      <th>4</th>\n",
       "      <td>1.0 star rating</td>\n",
       "      <td>11/25/2017</td>\n",
       "      <td>Barber: OmarService: FHaircut: FOverall Grade:...</td>\n",
       "    </tr>\n",
       "  </tbody>\n",
       "</table>\n",
       "</div>"
      ],
      "text/plain": [
       "        StarRating        Date                                             Review\n",
       "0  5.0 star rating    3/9/2018  I have been going here for just over a year no...\n",
       "1  1.0 star rating    3/8/2018  I made an appointment with Omar.  When I arriv...\n",
       "2  1.0 star rating   3/11/2018  If you're gonna take appointments, keep them. ...\n",
       "3  5.0 star rating    3/9/2018  Last second haircut for a wedding Omar saved m...\n",
       "4  1.0 star rating  11/25/2017  Barber: OmarService: FHaircut: FOverall Grade:..."
      ]
     },
     "execution_count": 18,
     "metadata": {},
     "output_type": "execute_result"
    },
    {
     "data": {
      "text/plain": [
       "(45, 3)"
      ]
     },
     "execution_count": 18,
     "metadata": {},
     "output_type": "execute_result"
    }
   ],
   "source": [
    "# drop NaN rows\n",
    "df3 = df2.dropna()\n",
    "\n",
    "# reset index\n",
    "df3.reset_index(drop=True, inplace=True)\n",
    "\n",
    "df3.head()\n",
    "df3.shape"
   ]
  },
  {
   "cell_type": "code",
   "execution_count": 19,
   "metadata": {},
   "outputs": [
    {
     "data": {
      "text/plain": [
       "StarRating    0\n",
       "Date          0\n",
       "Review        0\n",
       "dtype: int64"
      ]
     },
     "execution_count": 19,
     "metadata": {},
     "output_type": "execute_result"
    }
   ],
   "source": [
    "# checks to see if there are any null values\n",
    "df3.isnull().sum()"
   ]
  },
  {
   "cell_type": "markdown",
   "metadata": {},
   "source": [
    "# Pandas DF and Sentiment Section"
   ]
  },
  {
   "cell_type": "code",
   "execution_count": 20,
   "metadata": {
    "collapsed": true
   },
   "outputs": [],
   "source": [
    "from textblob import TextBlob"
   ]
  },
  {
   "cell_type": "code",
   "execution_count": 21,
   "metadata": {},
   "outputs": [
    {
     "data": {
      "text/plain": [
       "'I have been going here for just over a year now. Have found few shops and people that can not just cut my hair but my two sons. I look for convenience but quality and Fresh Cuts And Omar are that for me! He is able to get me in most the times I need and gives 3 of us quality cuts!'"
      ]
     },
     "execution_count": 21,
     "metadata": {},
     "output_type": "execute_result"
    }
   ],
   "source": [
    "# convert Review column in df3 to list\n",
    "review_list = df3['Review'].tolist()\n",
    "review_list[0]"
   ]
  },
  {
   "cell_type": "code",
   "execution_count": 22,
   "metadata": {},
   "outputs": [
    {
     "data": {
      "text/plain": [
       "45"
      ]
     },
     "execution_count": 22,
     "metadata": {},
     "output_type": "execute_result"
    }
   ],
   "source": [
    "len(review_list)"
   ]
  },
  {
   "cell_type": "code",
   "execution_count": 23,
   "metadata": {
    "collapsed": true
   },
   "outputs": [],
   "source": [
    "sentiment_score = []\n",
    "# iterate through review list\n",
    "for r in review_list:\n",
    "    sentiment = TextBlob(r)\n",
    "    sentiment_score.append(sentiment.sentiment.polarity)"
   ]
  },
  {
   "cell_type": "code",
   "execution_count": 24,
   "metadata": {
    "collapsed": true
   },
   "outputs": [],
   "source": [
    "# convert to series\n",
    "sentiment_score_convert = pd.Series(sentiment_score)"
   ]
  },
  {
   "cell_type": "code",
   "execution_count": 25,
   "metadata": {
    "collapsed": true
   },
   "outputs": [],
   "source": [
    "# add sentiment score to sentiment_df\n",
    "df3.insert(loc=1, column='SentimentScore', value=sentiment_score_convert)"
   ]
  },
  {
   "cell_type": "code",
   "execution_count": 26,
   "metadata": {},
   "outputs": [
    {
     "data": {
      "text/html": [
       "<div>\n",
       "<style>\n",
       "    .dataframe thead tr:only-child th {\n",
       "        text-align: right;\n",
       "    }\n",
       "\n",
       "    .dataframe thead th {\n",
       "        text-align: left;\n",
       "    }\n",
       "\n",
       "    .dataframe tbody tr th {\n",
       "        vertical-align: top;\n",
       "    }\n",
       "</style>\n",
       "<table border=\"1\" class=\"dataframe\">\n",
       "  <thead>\n",
       "    <tr style=\"text-align: right;\">\n",
       "      <th></th>\n",
       "      <th>StarRating</th>\n",
       "      <th>SentimentScore</th>\n",
       "      <th>Date</th>\n",
       "      <th>Review</th>\n",
       "    </tr>\n",
       "  </thead>\n",
       "  <tbody>\n",
       "    <tr>\n",
       "      <th>0</th>\n",
       "      <td>5.0 star rating</td>\n",
       "      <td>0.325000</td>\n",
       "      <td>3/9/2018</td>\n",
       "      <td>I have been going here for just over a year no...</td>\n",
       "    </tr>\n",
       "    <tr>\n",
       "      <th>1</th>\n",
       "      <td>1.0 star rating</td>\n",
       "      <td>-0.001491</td>\n",
       "      <td>3/8/2018</td>\n",
       "      <td>I made an appointment with Omar.  When I arriv...</td>\n",
       "    </tr>\n",
       "    <tr>\n",
       "      <th>2</th>\n",
       "      <td>1.0 star rating</td>\n",
       "      <td>0.162500</td>\n",
       "      <td>3/11/2018</td>\n",
       "      <td>If you're gonna take appointments, keep them. ...</td>\n",
       "    </tr>\n",
       "    <tr>\n",
       "      <th>3</th>\n",
       "      <td>5.0 star rating</td>\n",
       "      <td>0.200000</td>\n",
       "      <td>3/9/2018</td>\n",
       "      <td>Last second haircut for a wedding Omar saved m...</td>\n",
       "    </tr>\n",
       "    <tr>\n",
       "      <th>4</th>\n",
       "      <td>1.0 star rating</td>\n",
       "      <td>0.019002</td>\n",
       "      <td>11/25/2017</td>\n",
       "      <td>Barber: OmarService: FHaircut: FOverall Grade:...</td>\n",
       "    </tr>\n",
       "  </tbody>\n",
       "</table>\n",
       "</div>"
      ],
      "text/plain": [
       "        StarRating  SentimentScore        Date                                             Review\n",
       "0  5.0 star rating        0.325000    3/9/2018  I have been going here for just over a year no...\n",
       "1  1.0 star rating       -0.001491    3/8/2018  I made an appointment with Omar.  When I arriv...\n",
       "2  1.0 star rating        0.162500   3/11/2018  If you're gonna take appointments, keep them. ...\n",
       "3  5.0 star rating        0.200000    3/9/2018  Last second haircut for a wedding Omar saved m...\n",
       "4  1.0 star rating        0.019002  11/25/2017  Barber: OmarService: FHaircut: FOverall Grade:..."
      ]
     },
     "execution_count": 26,
     "metadata": {},
     "output_type": "execute_result"
    }
   ],
   "source": [
    "df3.head()"
   ]
  },
  {
   "cell_type": "code",
   "execution_count": 27,
   "metadata": {
    "collapsed": true
   },
   "outputs": [],
   "source": [
    "sentiment = []\n",
    "# iterate through sentiment_score to assign a pos or neg val\n",
    "for s in sentiment_score:\n",
    "    if s > 0:\n",
    "        sentiment.append('Positive')\n",
    "    else:\n",
    "        sentiment.append('Negative')"
   ]
  },
  {
   "cell_type": "code",
   "execution_count": 28,
   "metadata": {},
   "outputs": [
    {
     "name": "stdout",
     "output_type": "stream",
     "text": [
      "45\n",
      "45\n"
     ]
    }
   ],
   "source": [
    "print(len(sentiment_score))\n",
    "print(len(sentiment))"
   ]
  },
  {
   "cell_type": "code",
   "execution_count": 29,
   "metadata": {},
   "outputs": [
    {
     "data": {
      "text/plain": [
       "StarRating        0\n",
       "SentimentScore    0\n",
       "Date              0\n",
       "Review            0\n",
       "dtype: int64"
      ]
     },
     "execution_count": 29,
     "metadata": {},
     "output_type": "execute_result"
    }
   ],
   "source": [
    "# check for null values\n",
    "df3.isnull().sum()"
   ]
  },
  {
   "cell_type": "code",
   "execution_count": 30,
   "metadata": {
    "collapsed": true
   },
   "outputs": [],
   "source": [
    "# convert sentiment to a pandas series\n",
    "sentiment_2 = pd.Series(sentiment)"
   ]
  },
  {
   "cell_type": "code",
   "execution_count": 31,
   "metadata": {
    "collapsed": true
   },
   "outputs": [],
   "source": [
    "# add sentiment score to sentiment_df\n",
    "df3.insert(loc=2, column='Sentiment', value=sentiment_2)"
   ]
  },
  {
   "cell_type": "code",
   "execution_count": 32,
   "metadata": {},
   "outputs": [
    {
     "data": {
      "text/html": [
       "<div>\n",
       "<style>\n",
       "    .dataframe thead tr:only-child th {\n",
       "        text-align: right;\n",
       "    }\n",
       "\n",
       "    .dataframe thead th {\n",
       "        text-align: left;\n",
       "    }\n",
       "\n",
       "    .dataframe tbody tr th {\n",
       "        vertical-align: top;\n",
       "    }\n",
       "</style>\n",
       "<table border=\"1\" class=\"dataframe\">\n",
       "  <thead>\n",
       "    <tr style=\"text-align: right;\">\n",
       "      <th></th>\n",
       "      <th>StarRating</th>\n",
       "      <th>SentimentScore</th>\n",
       "      <th>Sentiment</th>\n",
       "      <th>Date</th>\n",
       "      <th>Review</th>\n",
       "    </tr>\n",
       "  </thead>\n",
       "  <tbody>\n",
       "    <tr>\n",
       "      <th>0</th>\n",
       "      <td>5.0 star rating</td>\n",
       "      <td>0.325000</td>\n",
       "      <td>Positive</td>\n",
       "      <td>3/9/2018</td>\n",
       "      <td>I have been going here for just over a year no...</td>\n",
       "    </tr>\n",
       "    <tr>\n",
       "      <th>1</th>\n",
       "      <td>1.0 star rating</td>\n",
       "      <td>-0.001491</td>\n",
       "      <td>Negative</td>\n",
       "      <td>3/8/2018</td>\n",
       "      <td>I made an appointment with Omar.  When I arriv...</td>\n",
       "    </tr>\n",
       "    <tr>\n",
       "      <th>2</th>\n",
       "      <td>1.0 star rating</td>\n",
       "      <td>0.162500</td>\n",
       "      <td>Positive</td>\n",
       "      <td>3/11/2018</td>\n",
       "      <td>If you're gonna take appointments, keep them. ...</td>\n",
       "    </tr>\n",
       "    <tr>\n",
       "      <th>3</th>\n",
       "      <td>5.0 star rating</td>\n",
       "      <td>0.200000</td>\n",
       "      <td>Positive</td>\n",
       "      <td>3/9/2018</td>\n",
       "      <td>Last second haircut for a wedding Omar saved m...</td>\n",
       "    </tr>\n",
       "    <tr>\n",
       "      <th>4</th>\n",
       "      <td>1.0 star rating</td>\n",
       "      <td>0.019002</td>\n",
       "      <td>Positive</td>\n",
       "      <td>11/25/2017</td>\n",
       "      <td>Barber: OmarService: FHaircut: FOverall Grade:...</td>\n",
       "    </tr>\n",
       "  </tbody>\n",
       "</table>\n",
       "</div>"
      ],
      "text/plain": [
       "        StarRating  SentimentScore Sentiment        Date                                             Review\n",
       "0  5.0 star rating        0.325000  Positive    3/9/2018  I have been going here for just over a year no...\n",
       "1  1.0 star rating       -0.001491  Negative    3/8/2018  I made an appointment with Omar.  When I arriv...\n",
       "2  1.0 star rating        0.162500  Positive   3/11/2018  If you're gonna take appointments, keep them. ...\n",
       "3  5.0 star rating        0.200000  Positive    3/9/2018  Last second haircut for a wedding Omar saved m...\n",
       "4  1.0 star rating        0.019002  Positive  11/25/2017  Barber: OmarService: FHaircut: FOverall Grade:..."
      ]
     },
     "execution_count": 32,
     "metadata": {},
     "output_type": "execute_result"
    }
   ],
   "source": [
    "df3.head()"
   ]
  },
  {
   "cell_type": "code",
   "execution_count": 33,
   "metadata": {},
   "outputs": [
    {
     "data": {
      "text/plain": [
       "Positive    38\n",
       "Negative     7\n",
       "Name: Sentiment, dtype: int64"
      ]
     },
     "execution_count": 33,
     "metadata": {},
     "output_type": "execute_result"
    }
   ],
   "source": [
    "# check value counts for Positive and Negative\n",
    "df3.Sentiment.value_counts()"
   ]
  },
  {
   "cell_type": "code",
   "execution_count": 34,
   "metadata": {
    "collapsed": true
   },
   "outputs": [],
   "source": [
    "# convert Sentiment label to a numerical value\n",
    "df3['SentimentNum'] = df3.Sentiment.map({'Positive': 0,\n",
    "                                                 'Negative': 1})"
   ]
  },
  {
   "cell_type": "code",
   "execution_count": 35,
   "metadata": {},
   "outputs": [
    {
     "data": {
      "text/html": [
       "<div>\n",
       "<style>\n",
       "    .dataframe thead tr:only-child th {\n",
       "        text-align: right;\n",
       "    }\n",
       "\n",
       "    .dataframe thead th {\n",
       "        text-align: left;\n",
       "    }\n",
       "\n",
       "    .dataframe tbody tr th {\n",
       "        vertical-align: top;\n",
       "    }\n",
       "</style>\n",
       "<table border=\"1\" class=\"dataframe\">\n",
       "  <thead>\n",
       "    <tr style=\"text-align: right;\">\n",
       "      <th></th>\n",
       "      <th>StarRating</th>\n",
       "      <th>SentimentScore</th>\n",
       "      <th>Sentiment</th>\n",
       "      <th>Date</th>\n",
       "      <th>Review</th>\n",
       "      <th>SentimentNum</th>\n",
       "    </tr>\n",
       "  </thead>\n",
       "  <tbody>\n",
       "    <tr>\n",
       "      <th>0</th>\n",
       "      <td>5.0 star rating</td>\n",
       "      <td>0.325000</td>\n",
       "      <td>Positive</td>\n",
       "      <td>3/9/2018</td>\n",
       "      <td>I have been going here for just over a year no...</td>\n",
       "      <td>0</td>\n",
       "    </tr>\n",
       "    <tr>\n",
       "      <th>1</th>\n",
       "      <td>1.0 star rating</td>\n",
       "      <td>-0.001491</td>\n",
       "      <td>Negative</td>\n",
       "      <td>3/8/2018</td>\n",
       "      <td>I made an appointment with Omar.  When I arriv...</td>\n",
       "      <td>1</td>\n",
       "    </tr>\n",
       "    <tr>\n",
       "      <th>2</th>\n",
       "      <td>1.0 star rating</td>\n",
       "      <td>0.162500</td>\n",
       "      <td>Positive</td>\n",
       "      <td>3/11/2018</td>\n",
       "      <td>If you're gonna take appointments, keep them. ...</td>\n",
       "      <td>0</td>\n",
       "    </tr>\n",
       "    <tr>\n",
       "      <th>3</th>\n",
       "      <td>5.0 star rating</td>\n",
       "      <td>0.200000</td>\n",
       "      <td>Positive</td>\n",
       "      <td>3/9/2018</td>\n",
       "      <td>Last second haircut for a wedding Omar saved m...</td>\n",
       "      <td>0</td>\n",
       "    </tr>\n",
       "    <tr>\n",
       "      <th>4</th>\n",
       "      <td>1.0 star rating</td>\n",
       "      <td>0.019002</td>\n",
       "      <td>Positive</td>\n",
       "      <td>11/25/2017</td>\n",
       "      <td>Barber: OmarService: FHaircut: FOverall Grade:...</td>\n",
       "      <td>0</td>\n",
       "    </tr>\n",
       "  </tbody>\n",
       "</table>\n",
       "</div>"
      ],
      "text/plain": [
       "        StarRating  SentimentScore Sentiment        Date                                             Review  SentimentNum\n",
       "0  5.0 star rating        0.325000  Positive    3/9/2018  I have been going here for just over a year no...             0\n",
       "1  1.0 star rating       -0.001491  Negative    3/8/2018  I made an appointment with Omar.  When I arriv...             1\n",
       "2  1.0 star rating        0.162500  Positive   3/11/2018  If you're gonna take appointments, keep them. ...             0\n",
       "3  5.0 star rating        0.200000  Positive    3/9/2018  Last second haircut for a wedding Omar saved m...             0\n",
       "4  1.0 star rating        0.019002  Positive  11/25/2017  Barber: OmarService: FHaircut: FOverall Grade:...             0"
      ]
     },
     "execution_count": 35,
     "metadata": {},
     "output_type": "execute_result"
    },
    {
     "data": {
      "text/html": [
       "<div>\n",
       "<style>\n",
       "    .dataframe thead tr:only-child th {\n",
       "        text-align: right;\n",
       "    }\n",
       "\n",
       "    .dataframe thead th {\n",
       "        text-align: left;\n",
       "    }\n",
       "\n",
       "    .dataframe tbody tr th {\n",
       "        vertical-align: top;\n",
       "    }\n",
       "</style>\n",
       "<table border=\"1\" class=\"dataframe\">\n",
       "  <thead>\n",
       "    <tr style=\"text-align: right;\">\n",
       "      <th></th>\n",
       "      <th>StarRating</th>\n",
       "      <th>SentimentScore</th>\n",
       "      <th>Sentiment</th>\n",
       "      <th>Date</th>\n",
       "      <th>Review</th>\n",
       "      <th>SentimentNum</th>\n",
       "    </tr>\n",
       "  </thead>\n",
       "  <tbody>\n",
       "    <tr>\n",
       "      <th>40</th>\n",
       "      <td>5.0 star rating</td>\n",
       "      <td>0.125924</td>\n",
       "      <td>Positive</td>\n",
       "      <td>3/22/2013</td>\n",
       "      <td>Out of every barbershop I've ever been too, th...</td>\n",
       "      <td>0</td>\n",
       "    </tr>\n",
       "    <tr>\n",
       "      <th>41</th>\n",
       "      <td>1.0 star rating</td>\n",
       "      <td>0.011843</td>\n",
       "      <td>Positive</td>\n",
       "      <td>1/26/2011</td>\n",
       "      <td>Best haircuts in the bay area, ive lived all o...</td>\n",
       "      <td>0</td>\n",
       "    </tr>\n",
       "    <tr>\n",
       "      <th>42</th>\n",
       "      <td>1.0 star rating</td>\n",
       "      <td>0.128742</td>\n",
       "      <td>Positive</td>\n",
       "      <td>4/3/2010</td>\n",
       "      <td>5 STARS for the Shop-nice clean look0 STARS (i...</td>\n",
       "      <td>0</td>\n",
       "    </tr>\n",
       "    <tr>\n",
       "      <th>43</th>\n",
       "      <td>2.0 star rating</td>\n",
       "      <td>0.257407</td>\n",
       "      <td>Positive</td>\n",
       "      <td>5/13/2010</td>\n",
       "      <td>Been to alot of barber shops in the city and t...</td>\n",
       "      <td>0</td>\n",
       "    </tr>\n",
       "    <tr>\n",
       "      <th>44</th>\n",
       "      <td>5.0 star rating</td>\n",
       "      <td>0.300000</td>\n",
       "      <td>Positive</td>\n",
       "      <td>12/2/2010</td>\n",
       "      <td>it  dont even matter who you go to at this sho...</td>\n",
       "      <td>0</td>\n",
       "    </tr>\n",
       "  </tbody>\n",
       "</table>\n",
       "</div>"
      ],
      "text/plain": [
       "         StarRating  SentimentScore Sentiment       Date                                             Review  SentimentNum\n",
       "40  5.0 star rating        0.125924  Positive  3/22/2013  Out of every barbershop I've ever been too, th...             0\n",
       "41  1.0 star rating        0.011843  Positive  1/26/2011  Best haircuts in the bay area, ive lived all o...             0\n",
       "42  1.0 star rating        0.128742  Positive   4/3/2010  5 STARS for the Shop-nice clean look0 STARS (i...             0\n",
       "43  2.0 star rating        0.257407  Positive  5/13/2010  Been to alot of barber shops in the city and t...             0\n",
       "44  5.0 star rating        0.300000  Positive  12/2/2010  it  dont even matter who you go to at this sho...             0"
      ]
     },
     "execution_count": 35,
     "metadata": {},
     "output_type": "execute_result"
    },
    {
     "data": {
      "text/plain": [
       "(45, 6)"
      ]
     },
     "execution_count": 35,
     "metadata": {},
     "output_type": "execute_result"
    }
   ],
   "source": [
    "df3.head()\n",
    "df3.tail()\n",
    "df3.shape"
   ]
  },
  {
   "cell_type": "code",
   "execution_count": 36,
   "metadata": {},
   "outputs": [
    {
     "data": {
      "text/plain": [
       "0    38\n",
       "1     7\n",
       "Name: SentimentNum, dtype: int64"
      ]
     },
     "execution_count": 36,
     "metadata": {},
     "output_type": "execute_result"
    }
   ],
   "source": [
    "df3.SentimentNum.value_counts()"
   ]
  },
  {
   "cell_type": "code",
   "execution_count": 37,
   "metadata": {},
   "outputs": [
    {
     "data": {
      "text/plain": [
       "'fresh-cuts-daly-city'"
      ]
     },
     "execution_count": 37,
     "metadata": {},
     "output_type": "execute_result"
    }
   ],
   "source": [
    "# extract business name from \"main\" url\n",
    "bizname_split = main.split('https://www.yelp.com/biz/')\n",
    "bizname = bizname_split[1]\n",
    "bizname"
   ]
  },
  {
   "cell_type": "code",
   "execution_count": 38,
   "metadata": {},
   "outputs": [],
   "source": [
    "# split Star Rating and create a new column\n",
    "df3['Rating'] = df3.StarRating.str.split('star rating').str.get(0)"
   ]
  },
  {
   "cell_type": "code",
   "execution_count": 39,
   "metadata": {},
   "outputs": [
    {
     "data": {
      "text/html": [
       "<div>\n",
       "<style>\n",
       "    .dataframe thead tr:only-child th {\n",
       "        text-align: right;\n",
       "    }\n",
       "\n",
       "    .dataframe thead th {\n",
       "        text-align: left;\n",
       "    }\n",
       "\n",
       "    .dataframe tbody tr th {\n",
       "        vertical-align: top;\n",
       "    }\n",
       "</style>\n",
       "<table border=\"1\" class=\"dataframe\">\n",
       "  <thead>\n",
       "    <tr style=\"text-align: right;\">\n",
       "      <th></th>\n",
       "      <th>Date</th>\n",
       "      <th>SentimentScore</th>\n",
       "      <th>Sentiment</th>\n",
       "      <th>SentimentNum</th>\n",
       "      <th>StarRating</th>\n",
       "      <th>Rating</th>\n",
       "      <th>Review</th>\n",
       "    </tr>\n",
       "  </thead>\n",
       "  <tbody>\n",
       "    <tr>\n",
       "      <th>0</th>\n",
       "      <td>3/9/2018</td>\n",
       "      <td>0.325000</td>\n",
       "      <td>Positive</td>\n",
       "      <td>0</td>\n",
       "      <td>5.0 star rating</td>\n",
       "      <td>5.0</td>\n",
       "      <td>I have been going here for just over a year no...</td>\n",
       "    </tr>\n",
       "    <tr>\n",
       "      <th>1</th>\n",
       "      <td>3/8/2018</td>\n",
       "      <td>-0.001491</td>\n",
       "      <td>Negative</td>\n",
       "      <td>1</td>\n",
       "      <td>1.0 star rating</td>\n",
       "      <td>1.0</td>\n",
       "      <td>I made an appointment with Omar.  When I arriv...</td>\n",
       "    </tr>\n",
       "    <tr>\n",
       "      <th>2</th>\n",
       "      <td>3/11/2018</td>\n",
       "      <td>0.162500</td>\n",
       "      <td>Positive</td>\n",
       "      <td>0</td>\n",
       "      <td>1.0 star rating</td>\n",
       "      <td>1.0</td>\n",
       "      <td>If you're gonna take appointments, keep them. ...</td>\n",
       "    </tr>\n",
       "    <tr>\n",
       "      <th>3</th>\n",
       "      <td>3/9/2018</td>\n",
       "      <td>0.200000</td>\n",
       "      <td>Positive</td>\n",
       "      <td>0</td>\n",
       "      <td>5.0 star rating</td>\n",
       "      <td>5.0</td>\n",
       "      <td>Last second haircut for a wedding Omar saved m...</td>\n",
       "    </tr>\n",
       "    <tr>\n",
       "      <th>4</th>\n",
       "      <td>11/25/2017</td>\n",
       "      <td>0.019002</td>\n",
       "      <td>Positive</td>\n",
       "      <td>0</td>\n",
       "      <td>1.0 star rating</td>\n",
       "      <td>1.0</td>\n",
       "      <td>Barber: OmarService: FHaircut: FOverall Grade:...</td>\n",
       "    </tr>\n",
       "  </tbody>\n",
       "</table>\n",
       "</div>"
      ],
      "text/plain": [
       "         Date  SentimentScore Sentiment  SentimentNum       StarRating Rating                                             Review\n",
       "0    3/9/2018        0.325000  Positive             0  5.0 star rating   5.0   I have been going here for just over a year no...\n",
       "1    3/8/2018       -0.001491  Negative             1  1.0 star rating   1.0   I made an appointment with Omar.  When I arriv...\n",
       "2   3/11/2018        0.162500  Positive             0  1.0 star rating   1.0   If you're gonna take appointments, keep them. ...\n",
       "3    3/9/2018        0.200000  Positive             0  5.0 star rating   5.0   Last second haircut for a wedding Omar saved m...\n",
       "4  11/25/2017        0.019002  Positive             0  1.0 star rating   1.0   Barber: OmarService: FHaircut: FOverall Grade:..."
      ]
     },
     "execution_count": 39,
     "metadata": {},
     "output_type": "execute_result"
    }
   ],
   "source": [
    "# reorder columns\n",
    "df3 = df3[['Date', 'SentimentScore', 'Sentiment', 'SentimentNum', 'StarRating', 'Rating','Review']]\n",
    "df3.head()"
   ]
  },
  {
   "cell_type": "code",
   "execution_count": 40,
   "metadata": {
    "collapsed": true,
    "scrolled": true
   },
   "outputs": [],
   "source": [
    "# save csv to reviews folder to use for NLP\n",
    "df3.to_csv(f'reviews/{bizname}.csv', index=False)"
   ]
  },
  {
   "cell_type": "markdown",
   "metadata": {},
   "source": [
    "# Section for NLTK"
   ]
  },
  {
   "cell_type": "markdown",
   "metadata": {},
   "source": [
    "### Import saved csvs from reviews directory"
   ]
  },
  {
   "cell_type": "code",
   "execution_count": null,
   "metadata": {
    "collapsed": true
   },
   "outputs": [],
   "source": [
    "# Define X and y for use with COUNTVECTORIZE\n",
    "X = df3.Review\n",
    "y = df3.SentimentNum\n",
    "print(X.shape)\n",
    "print(y.shape)"
   ]
  },
  {
   "cell_type": "markdown",
   "metadata": {},
   "source": [
    "### section to concat metadata dfs"
   ]
  },
  {
   "cell_type": "code",
   "execution_count": null,
   "metadata": {},
   "outputs": [],
   "source": [
    "df1 = pd.read_csv('data/yelp_Barbers90742.csv')"
   ]
  },
  {
   "cell_type": "code",
   "execution_count": null,
   "metadata": {
    "collapsed": true
   },
   "outputs": [],
   "source": [
    "df2 = pd.read_csv('data/yelp_Barber92620.csv')"
   ]
  },
  {
   "cell_type": "code",
   "execution_count": null,
   "metadata": {},
   "outputs": [],
   "source": [
    "df3 = pd.read_csv('data/yelp_Barbers94016.csv')"
   ]
  },
  {
   "cell_type": "code",
   "execution_count": null,
   "metadata": {},
   "outputs": [],
   "source": [
    "df_merge = pd.concat([df1, df2, df3])"
   ]
  },
  {
   "cell_type": "code",
   "execution_count": null,
   "metadata": {},
   "outputs": [],
   "source": [
    "df_merge.reset_index(drop=True, inplace=True)"
   ]
  },
  {
   "cell_type": "code",
   "execution_count": null,
   "metadata": {},
   "outputs": [],
   "source": [
    "df_merge.drop('Unnamed: 0', axis=1, inplace=True)"
   ]
  },
  {
   "cell_type": "code",
   "execution_count": null,
   "metadata": {},
   "outputs": [],
   "source": [
    "df_merge"
   ]
  },
  {
   "cell_type": "code",
   "execution_count": null,
   "metadata": {
    "collapsed": true
   },
   "outputs": [],
   "source": []
  }
 ],
 "metadata": {
  "kernelspec": {
   "display_name": "Python 3",
   "language": "python",
   "name": "python3"
  },
  "language_info": {
   "codemirror_mode": {
    "name": "ipython",
    "version": 3
   },
   "file_extension": ".py",
   "mimetype": "text/x-python",
   "name": "python",
   "nbconvert_exporter": "python",
   "pygments_lexer": "ipython3",
   "version": "3.6.3"
  }
 },
 "nbformat": 4,
 "nbformat_minor": 2
}
