{
 "cells": [
  {
   "cell_type": "code",
   "execution_count": 2,
   "metadata": {
    "collapsed": true,
    "slideshow": {
     "slide_type": "subslide"
    }
   },
   "outputs": [],
   "source": [
    "import numpy as np\n",
    "import pandas as pd"
   ]
  },
  {
   "cell_type": "markdown",
   "metadata": {},
   "source": [
    "# Voice Gender\n",
    "Gender Recognition by Voice and Speech Analysis\n",
    "\n",
    "This database was created to identify a voice as male or female, based upon acoustic properties of the voice and speech. The dataset consists of 3,168 recorded voice samples, collected from male and female speakers. The voice samples are pre-processed by acoustic analysis in R using the seewave and tuneR packages, with an analyzed frequency range of 0hz-280hz (human vocal range).\n",
    "\n",
    "## The Dataset\n",
    "The following acoustic properties of each voice are measured and included within the CSV:\n",
    "\n",
    "* meanfreq: mean frequency (in kHz)\n",
    "* sd: standard deviation of frequency\n",
    "* median: median frequency (in kHz)\n",
    "* Q25: first quantile (in kHz)\n",
    "* Q75: third quantile (in kHz)\n",
    "* IQR: interquantile range (in kHz)\n",
    "* skew: skewness (see note in specprop description)\n",
    "* kurt: kurtosis (see note in specprop description)\n",
    "* sp.ent: spectral entropy\n",
    "* sfm: spectral flatness\n",
    "* mode: mode frequency\n",
    "* centroid: frequency centroid (see specprop)\n",
    "* peakf: peak frequency (frequency with highest energy)\n",
    "* meanfun: average of fundamental frequency measured across acoustic signal\n",
    "* minfun: minimum fundamental frequency measured across acoustic signal\n",
    "* maxfun: maximum fundamental frequency measured across acoustic signal\n",
    "* meandom: average of dominant frequency measured across acoustic signal\n",
    "* mindom: minimum of dominant frequency measured across acoustic signal\n",
    "* maxdom: maximum of dominant frequency measured across acoustic signal\n",
    "* dfrange: range of dominant frequency measured across acoustic signal\n",
    "* modindx: modulation index. Calculated as the accumulated absolute difference between adjacent measurements of fundamental frequencies divided by the frequency range\n",
    "* label: male or female"
   ]
  },
  {
   "cell_type": "code",
   "execution_count": 3,
   "metadata": {
    "slideshow": {
     "slide_type": "fragment"
    }
   },
   "outputs": [
    {
     "data": {
      "text/html": [
       "<div>\n",
       "<style>\n",
       "    .dataframe thead tr:only-child th {\n",
       "        text-align: right;\n",
       "    }\n",
       "\n",
       "    .dataframe thead th {\n",
       "        text-align: left;\n",
       "    }\n",
       "\n",
       "    .dataframe tbody tr th {\n",
       "        vertical-align: top;\n",
       "    }\n",
       "</style>\n",
       "<table border=\"1\" class=\"dataframe\">\n",
       "  <thead>\n",
       "    <tr style=\"text-align: right;\">\n",
       "      <th></th>\n",
       "      <th>Timestamp</th>\n",
       "      <th>Enter your e-mail address below and take this 1 minute survey for a chance to win a $50 Visa Gift Card (optional)</th>\n",
       "      <th>What is your work zip code?</th>\n",
       "      <th>What is your home zip code?</th>\n",
       "      <th>What establishment did you get your last haircut?</th>\n",
       "      <th>What city, state did you get your last haircut?</th>\n",
       "      <th>Gender</th>\n",
       "      <th>Age</th>\n",
       "      <th>Race</th>\n",
       "      <th>Income</th>\n",
       "      <th>...</th>\n",
       "      <th>would_spend</th>\n",
       "      <th>How did you find your current barber?</th>\n",
       "      <th>how_find_barber</th>\n",
       "      <th>Do you leave reviews on Yelp, Google, Etc?</th>\n",
       "      <th>Leave_reviews</th>\n",
       "      <th>How important is Price ( 1 = not important, 5 = very important)</th>\n",
       "      <th>How important is Convenience( 1 = not important, 5 = very important)</th>\n",
       "      <th>How important is Atmosphere( 1 = not important, 5 = very important)</th>\n",
       "      <th>How important are Additional Services ( 1 = not important, 5 = very important)</th>\n",
       "      <th>Any other comments</th>\n",
       "    </tr>\n",
       "  </thead>\n",
       "  <tbody>\n",
       "    <tr>\n",
       "      <th>0</th>\n",
       "      <td>4/10/2018 22:20</td>\n",
       "      <td>fsalvador79@gmail.com</td>\n",
       "      <td>92614</td>\n",
       "      <td>92614</td>\n",
       "      <td>Dankcuts</td>\n",
       "      <td>Laguna Hills</td>\n",
       "      <td>Male</td>\n",
       "      <td>38.0</td>\n",
       "      <td>Asian / Pacific Islander</td>\n",
       "      <td>Less than $25,000</td>\n",
       "      <td>...</td>\n",
       "      <td>7</td>\n",
       "      <td>Yelp</td>\n",
       "      <td>1</td>\n",
       "      <td>Yes</td>\n",
       "      <td>1</td>\n",
       "      <td>4</td>\n",
       "      <td>4</td>\n",
       "      <td>4</td>\n",
       "      <td>1</td>\n",
       "      <td>NaN</td>\n",
       "    </tr>\n",
       "    <tr>\n",
       "      <th>1</th>\n",
       "      <td>4/11/2018 11:53</td>\n",
       "      <td>NaN</td>\n",
       "      <td>92660</td>\n",
       "      <td>92677</td>\n",
       "      <td>Salon</td>\n",
       "      <td>Mission Viejo</td>\n",
       "      <td>Male</td>\n",
       "      <td>34.0</td>\n",
       "      <td>White</td>\n",
       "      <td>$75,000 to $99,999</td>\n",
       "      <td>...</td>\n",
       "      <td>6</td>\n",
       "      <td>Referral</td>\n",
       "      <td>2</td>\n",
       "      <td>No</td>\n",
       "      <td>2</td>\n",
       "      <td>5</td>\n",
       "      <td>3</td>\n",
       "      <td>3</td>\n",
       "      <td>1</td>\n",
       "      <td>Ability of the stylist is very important.</td>\n",
       "    </tr>\n",
       "    <tr>\n",
       "      <th>2</th>\n",
       "      <td>4/10/2018 20:48</td>\n",
       "      <td>NaN</td>\n",
       "      <td>92612</td>\n",
       "      <td>92602</td>\n",
       "      <td>Sheer Bliss</td>\n",
       "      <td>Tustin</td>\n",
       "      <td>Female</td>\n",
       "      <td>35.0</td>\n",
       "      <td>White</td>\n",
       "      <td>$50,000 to $74,999</td>\n",
       "      <td>...</td>\n",
       "      <td>8</td>\n",
       "      <td>Yelp</td>\n",
       "      <td>1</td>\n",
       "      <td>No</td>\n",
       "      <td>2</td>\n",
       "      <td>5</td>\n",
       "      <td>5</td>\n",
       "      <td>4</td>\n",
       "      <td>4</td>\n",
       "      <td>NaN</td>\n",
       "    </tr>\n",
       "    <tr>\n",
       "      <th>3</th>\n",
       "      <td>4/10/2018 22:22</td>\n",
       "      <td>NaN</td>\n",
       "      <td>92620</td>\n",
       "      <td>92780</td>\n",
       "      <td>18/8</td>\n",
       "      <td>Irvine, ca</td>\n",
       "      <td>Male</td>\n",
       "      <td>35.0</td>\n",
       "      <td>Asian / Pacific Islander</td>\n",
       "      <td>$50,000 to $74,999</td>\n",
       "      <td>...</td>\n",
       "      <td>5</td>\n",
       "      <td>Yelp</td>\n",
       "      <td>1</td>\n",
       "      <td>Sometimes</td>\n",
       "      <td>3</td>\n",
       "      <td>3</td>\n",
       "      <td>5</td>\n",
       "      <td>4</td>\n",
       "      <td>4</td>\n",
       "      <td>NaN</td>\n",
       "    </tr>\n",
       "    <tr>\n",
       "      <th>4</th>\n",
       "      <td>4/11/2018 15:00</td>\n",
       "      <td>rlpeterson@gmail.com</td>\n",
       "      <td>97205</td>\n",
       "      <td>97205</td>\n",
       "      <td>Rudy's</td>\n",
       "      <td>Portland, OR</td>\n",
       "      <td>Male</td>\n",
       "      <td>38.0</td>\n",
       "      <td>White</td>\n",
       "      <td>$50,000 to $74,999</td>\n",
       "      <td>...</td>\n",
       "      <td>7</td>\n",
       "      <td>Google</td>\n",
       "      <td>3</td>\n",
       "      <td>Sometimes</td>\n",
       "      <td>3</td>\n",
       "      <td>4</td>\n",
       "      <td>2</td>\n",
       "      <td>3</td>\n",
       "      <td>2</td>\n",
       "      <td>NaN</td>\n",
       "    </tr>\n",
       "  </tbody>\n",
       "</table>\n",
       "<p>5 rows × 34 columns</p>\n",
       "</div>"
      ],
      "text/plain": [
       "         Timestamp  \\\n",
       "0  4/10/2018 22:20   \n",
       "1  4/11/2018 11:53   \n",
       "2  4/10/2018 20:48   \n",
       "3  4/10/2018 22:22   \n",
       "4  4/11/2018 15:00   \n",
       "\n",
       "  Enter your e-mail address below and take this 1 minute survey for a chance to win a $50 Visa Gift Card (optional)  \\\n",
       "0                              fsalvador79@gmail.com                                                                  \n",
       "1                                                NaN                                                                  \n",
       "2                                                NaN                                                                  \n",
       "3                                                NaN                                                                  \n",
       "4                               rlpeterson@gmail.com                                                                  \n",
       "\n",
       "   What is your work zip code?  What is your home zip code?  \\\n",
       "0                        92614                        92614   \n",
       "1                        92660                        92677   \n",
       "2                        92612                        92602   \n",
       "3                        92620                        92780   \n",
       "4                        97205                        97205   \n",
       "\n",
       "  What establishment did you get your last haircut?  \\\n",
       "0                                          Dankcuts   \n",
       "1                                             Salon   \n",
       "2                                       Sheer Bliss   \n",
       "3                                              18/8   \n",
       "4                                            Rudy's   \n",
       "\n",
       "  What city, state did you get your last haircut?  Gender   Age  \\\n",
       "0                                    Laguna Hills    Male  38.0   \n",
       "1                                   Mission Viejo    Male  34.0   \n",
       "2                                          Tustin  Female  35.0   \n",
       "3                                      Irvine, ca    Male  35.0   \n",
       "4                                    Portland, OR    Male  38.0   \n",
       "\n",
       "                       Race              Income  \\\n",
       "0  Asian / Pacific Islander   Less than $25,000   \n",
       "1                     White  $75,000 to $99,999   \n",
       "2                     White  $50,000 to $74,999   \n",
       "3  Asian / Pacific Islander  $50,000 to $74,999   \n",
       "4                     White  $50,000 to $74,999   \n",
       "\n",
       "                     ...                      would_spend  \\\n",
       "0                    ...                                7   \n",
       "1                    ...                                6   \n",
       "2                    ...                                8   \n",
       "3                    ...                                5   \n",
       "4                    ...                                7   \n",
       "\n",
       "   How did you find your current barber? how_find_barber  \\\n",
       "0                                   Yelp               1   \n",
       "1                               Referral               2   \n",
       "2                                   Yelp               1   \n",
       "3                                   Yelp               1   \n",
       "4                                 Google               3   \n",
       "\n",
       "   Do you leave reviews on Yelp, Google, Etc?   Leave_reviews  \\\n",
       "0                                          Yes              1   \n",
       "1                                           No              2   \n",
       "2                                           No              2   \n",
       "3                                    Sometimes              3   \n",
       "4                                    Sometimes              3   \n",
       "\n",
       "  How important is Price ( 1 = not important, 5 = very important)  \\\n",
       "0                                                  4                \n",
       "1                                                  5                \n",
       "2                                                  5                \n",
       "3                                                  3                \n",
       "4                                                  4                \n",
       "\n",
       "   How important is Convenience( 1 = not important, 5 = very important)  \\\n",
       "0                                                  4                      \n",
       "1                                                  3                      \n",
       "2                                                  5                      \n",
       "3                                                  5                      \n",
       "4                                                  2                      \n",
       "\n",
       "   How important is Atmosphere( 1 = not important, 5 = very important)  \\\n",
       "0                                                  4                     \n",
       "1                                                  3                     \n",
       "2                                                  4                     \n",
       "3                                                  4                     \n",
       "4                                                  3                     \n",
       "\n",
       "  How important are Additional Services ( 1 = not important, 5 = very important)  \\\n",
       "0                                                  1                               \n",
       "1                                                  1                               \n",
       "2                                                  4                               \n",
       "3                                                  4                               \n",
       "4                                                  2                               \n",
       "\n",
       "                         Any other comments   \n",
       "0                                        NaN  \n",
       "1  Ability of the stylist is very important.  \n",
       "2                                        NaN  \n",
       "3                                        NaN  \n",
       "4                                        NaN  \n",
       "\n",
       "[5 rows x 34 columns]"
      ]
     },
     "execution_count": 3,
     "metadata": {},
     "output_type": "execute_result"
    }
   ],
   "source": [
    "voice = pd.read_csv('../data/survey_responses_041218v2.csv')\n",
    "voice.head()"
   ]
  },
  {
   "cell_type": "markdown",
   "metadata": {
    "slideshow": {
     "slide_type": "subslide"
    }
   },
   "source": [
    "## Data Pre-Processing"
   ]
  },
  {
   "cell_type": "code",
   "execution_count": 5,
   "metadata": {
    "nbgrader": {
     "grade": false,
     "grade_id": "cell-86a9e3212f200d21",
     "locked": false,
     "schema_version": 1,
     "solution": true
    },
    "slideshow": {
     "slide_type": "subslide"
    }
   },
   "outputs": [
    {
     "ename": "ValueError",
     "evalue": "labels ['Any Other Comments'] not contained in axis",
     "output_type": "error",
     "traceback": [
      "\u001b[1;31m---------------------------------------------------------------------------\u001b[0m",
      "\u001b[1;31mValueError\u001b[0m                                Traceback (most recent call last)",
      "\u001b[1;32m<ipython-input-5-1dd5a229b548>\u001b[0m in \u001b[0;36m<module>\u001b[1;34m()\u001b[0m\n\u001b[1;32m----> 1\u001b[1;33m \u001b[0mX\u001b[0m \u001b[1;33m=\u001b[0m \u001b[0mvoice\u001b[0m\u001b[1;33m.\u001b[0m\u001b[0mdrop\u001b[0m\u001b[1;33m(\u001b[0m\u001b[1;34m\"Any Other Comments\"\u001b[0m\u001b[1;33m,\u001b[0m \u001b[0maxis\u001b[0m\u001b[1;33m=\u001b[0m\u001b[1;36m1\u001b[0m\u001b[1;33m)\u001b[0m\u001b[1;33m\u001b[0m\u001b[0m\n\u001b[0m\u001b[0;32m      2\u001b[0m \u001b[0my\u001b[0m \u001b[1;33m=\u001b[0m \u001b[0mvoice\u001b[0m\u001b[1;33m[\u001b[0m\u001b[1;34m\"Any Other Comments\"\u001b[0m\u001b[1;33m]\u001b[0m\u001b[1;33m\u001b[0m\u001b[0m\n\u001b[0;32m      3\u001b[0m \u001b[0mprint\u001b[0m\u001b[1;33m(\u001b[0m\u001b[0mX\u001b[0m\u001b[1;33m.\u001b[0m\u001b[0mshape\u001b[0m\u001b[1;33m,\u001b[0m \u001b[0my\u001b[0m\u001b[1;33m.\u001b[0m\u001b[0mshape\u001b[0m\u001b[1;33m)\u001b[0m\u001b[1;33m\u001b[0m\u001b[0m\n",
      "\u001b[1;32m~\\Anaconda3\\lib\\site-packages\\pandas\\core\\generic.py\u001b[0m in \u001b[0;36mdrop\u001b[1;34m(self, labels, axis, level, inplace, errors)\u001b[0m\n\u001b[0;32m   2159\u001b[0m                 \u001b[0mnew_axis\u001b[0m \u001b[1;33m=\u001b[0m \u001b[0maxis\u001b[0m\u001b[1;33m.\u001b[0m\u001b[0mdrop\u001b[0m\u001b[1;33m(\u001b[0m\u001b[0mlabels\u001b[0m\u001b[1;33m,\u001b[0m \u001b[0mlevel\u001b[0m\u001b[1;33m=\u001b[0m\u001b[0mlevel\u001b[0m\u001b[1;33m,\u001b[0m \u001b[0merrors\u001b[0m\u001b[1;33m=\u001b[0m\u001b[0merrors\u001b[0m\u001b[1;33m)\u001b[0m\u001b[1;33m\u001b[0m\u001b[0m\n\u001b[0;32m   2160\u001b[0m             \u001b[1;32melse\u001b[0m\u001b[1;33m:\u001b[0m\u001b[1;33m\u001b[0m\u001b[0m\n\u001b[1;32m-> 2161\u001b[1;33m                 \u001b[0mnew_axis\u001b[0m \u001b[1;33m=\u001b[0m \u001b[0maxis\u001b[0m\u001b[1;33m.\u001b[0m\u001b[0mdrop\u001b[0m\u001b[1;33m(\u001b[0m\u001b[0mlabels\u001b[0m\u001b[1;33m,\u001b[0m \u001b[0merrors\u001b[0m\u001b[1;33m=\u001b[0m\u001b[0merrors\u001b[0m\u001b[1;33m)\u001b[0m\u001b[1;33m\u001b[0m\u001b[0m\n\u001b[0m\u001b[0;32m   2162\u001b[0m             \u001b[0mdropped\u001b[0m \u001b[1;33m=\u001b[0m \u001b[0mself\u001b[0m\u001b[1;33m.\u001b[0m\u001b[0mreindex\u001b[0m\u001b[1;33m(\u001b[0m\u001b[1;33m**\u001b[0m\u001b[1;33m{\u001b[0m\u001b[0maxis_name\u001b[0m\u001b[1;33m:\u001b[0m \u001b[0mnew_axis\u001b[0m\u001b[1;33m}\u001b[0m\u001b[1;33m)\u001b[0m\u001b[1;33m\u001b[0m\u001b[0m\n\u001b[0;32m   2163\u001b[0m             \u001b[1;32mtry\u001b[0m\u001b[1;33m:\u001b[0m\u001b[1;33m\u001b[0m\u001b[0m\n",
      "\u001b[1;32m~\\Anaconda3\\lib\\site-packages\\pandas\\core\\indexes\\base.py\u001b[0m in \u001b[0;36mdrop\u001b[1;34m(self, labels, errors)\u001b[0m\n\u001b[0;32m   3622\u001b[0m             \u001b[1;32mif\u001b[0m \u001b[0merrors\u001b[0m \u001b[1;33m!=\u001b[0m \u001b[1;34m'ignore'\u001b[0m\u001b[1;33m:\u001b[0m\u001b[1;33m\u001b[0m\u001b[0m\n\u001b[0;32m   3623\u001b[0m                 raise ValueError('labels %s not contained in axis' %\n\u001b[1;32m-> 3624\u001b[1;33m                                  labels[mask])\n\u001b[0m\u001b[0;32m   3625\u001b[0m             \u001b[0mindexer\u001b[0m \u001b[1;33m=\u001b[0m \u001b[0mindexer\u001b[0m\u001b[1;33m[\u001b[0m\u001b[1;33m~\u001b[0m\u001b[0mmask\u001b[0m\u001b[1;33m]\u001b[0m\u001b[1;33m\u001b[0m\u001b[0m\n\u001b[0;32m   3626\u001b[0m         \u001b[1;32mreturn\u001b[0m \u001b[0mself\u001b[0m\u001b[1;33m.\u001b[0m\u001b[0mdelete\u001b[0m\u001b[1;33m(\u001b[0m\u001b[0mindexer\u001b[0m\u001b[1;33m)\u001b[0m\u001b[1;33m\u001b[0m\u001b[0m\n",
      "\u001b[1;31mValueError\u001b[0m: labels ['Any Other Comments'] not contained in axis"
     ]
    }
   ],
   "source": [
    "X = voice.drop(\"Any Other Comments\", axis=1)\n",
    "y = voice[\"Any Other Comments\"]\n",
    "print(X.shape, y.shape)"
   ]
  },
  {
   "cell_type": "code",
   "execution_count": 4,
   "metadata": {
    "nbgrader": {
     "grade": false,
     "grade_id": "cell-711a82d9b32c83ff",
     "locked": false,
     "schema_version": 1,
     "solution": true
    },
    "slideshow": {
     "slide_type": "fragment"
    }
   },
   "outputs": [
    {
     "name": "stderr",
     "output_type": "stream",
     "text": [
      "Using TensorFlow backend.\n"
     ]
    }
   ],
   "source": [
    "from sklearn.model_selection import train_test_split\n",
    "from sklearn.preprocessing import LabelEncoder, StandardScaler\n",
    "from keras.utils import to_categorical\n",
    "\n",
    "X_train, X_test, y_train, y_test = train_test_split(X, y, random_state=1, stratify=y)\n",
    "X_scaler = StandardScaler().fit(X_train)\n",
    "X_train_scaled = X_scaler.transform(X_train)\n",
    "X_test_scaled = X_scaler.transform(X_test)\n",
    "\n",
    "\n",
    "# Step 1: Label-encode data set\n",
    "label_encoder = LabelEncoder()\n",
    "label_encoder.fit(y_train)\n",
    "encoded_y_train = label_encoder.transform(y_train)\n",
    "encoded_y_test = label_encoder.transform(y_test)\n",
    "\n",
    "# Step 2: Convert encoded labels to one-hot-encoding\n",
    "y_train_categorical = to_categorical(encoded_y_train)\n",
    "y_test_categorical = to_categorical(encoded_y_test)"
   ]
  },
  {
   "cell_type": "markdown",
   "metadata": {},
   "source": [
    "# Create a Deep Learning Model"
   ]
  },
  {
   "cell_type": "code",
   "execution_count": 5,
   "metadata": {
    "collapsed": true
   },
   "outputs": [],
   "source": [
    "from keras.models import Sequential\n",
    "from keras.layers import Dense\n",
    "\n",
    "model = Sequential()\n",
    "model.add(Dense(units=100, activation='relu', input_dim=20))\n",
    "model.add(Dense(units=100, activation='relu'))\n",
    "model.add(Dense(units=2, activation='softmax'))"
   ]
  },
  {
   "cell_type": "code",
   "execution_count": 6,
   "metadata": {},
   "outputs": [
    {
     "name": "stdout",
     "output_type": "stream",
     "text": [
      "Epoch 1/60\n",
      " - 0s - loss: 0.2272 - acc: 0.9234\n",
      "Epoch 2/60\n",
      " - 0s - loss: 0.0857 - acc: 0.9710\n",
      "Epoch 3/60\n",
      " - 0s - loss: 0.0693 - acc: 0.9798\n",
      "Epoch 4/60\n",
      " - 0s - loss: 0.0633 - acc: 0.9764\n",
      "Epoch 5/60\n",
      " - 0s - loss: 0.0574 - acc: 0.9798\n",
      "Epoch 6/60\n",
      " - 0s - loss: 0.0548 - acc: 0.9806\n",
      "Epoch 7/60\n",
      " - 0s - loss: 0.0467 - acc: 0.9832\n",
      "Epoch 8/60\n",
      " - 0s - loss: 0.0464 - acc: 0.9840\n",
      "Epoch 9/60\n",
      " - 0s - loss: 0.0425 - acc: 0.9836\n",
      "Epoch 10/60\n",
      " - 0s - loss: 0.0422 - acc: 0.9853\n",
      "Epoch 11/60\n",
      " - 0s - loss: 0.0377 - acc: 0.9870\n",
      "Epoch 12/60\n",
      " - 0s - loss: 0.0366 - acc: 0.9861\n",
      "Epoch 13/60\n",
      " - 0s - loss: 0.0324 - acc: 0.9870\n",
      "Epoch 14/60\n",
      " - 0s - loss: 0.0312 - acc: 0.9895\n",
      "Epoch 15/60\n",
      " - 0s - loss: 0.0340 - acc: 0.9882\n",
      "Epoch 16/60\n",
      " - 0s - loss: 0.0266 - acc: 0.9903\n",
      "Epoch 17/60\n",
      " - 0s - loss: 0.0245 - acc: 0.9903\n",
      "Epoch 18/60\n",
      " - 0s - loss: 0.0240 - acc: 0.9907\n",
      "Epoch 19/60\n",
      " - 0s - loss: 0.0226 - acc: 0.9912\n",
      "Epoch 20/60\n",
      " - 0s - loss: 0.0224 - acc: 0.9916\n",
      "Epoch 21/60\n",
      " - 0s - loss: 0.0210 - acc: 0.9920\n",
      "Epoch 22/60\n",
      " - 0s - loss: 0.0191 - acc: 0.9941\n",
      "Epoch 23/60\n",
      " - 0s - loss: 0.0163 - acc: 0.9941\n",
      "Epoch 24/60\n",
      " - 0s - loss: 0.0156 - acc: 0.9962\n",
      "Epoch 25/60\n",
      " - 0s - loss: 0.0237 - acc: 0.9924\n",
      "Epoch 26/60\n",
      " - 0s - loss: 0.0264 - acc: 0.9899\n",
      "Epoch 27/60\n",
      " - 0s - loss: 0.0121 - acc: 0.9962\n",
      "Epoch 28/60\n",
      " - 0s - loss: 0.0111 - acc: 0.9975\n",
      "Epoch 29/60\n",
      " - 0s - loss: 0.0101 - acc: 0.9983\n",
      "Epoch 30/60\n",
      " - 0s - loss: 0.0109 - acc: 0.9962\n",
      "Epoch 31/60\n",
      " - 0s - loss: 0.0081 - acc: 0.9992\n",
      "Epoch 32/60\n",
      " - 0s - loss: 0.0091 - acc: 0.9971\n",
      "Epoch 33/60\n",
      " - 0s - loss: 0.0161 - acc: 0.9949\n",
      "Epoch 34/60\n",
      " - 0s - loss: 0.0080 - acc: 0.9979\n",
      "Epoch 35/60\n",
      " - 0s - loss: 0.0081 - acc: 0.9979\n",
      "Epoch 36/60\n",
      " - 0s - loss: 0.0057 - acc: 0.9992\n",
      "Epoch 37/60\n",
      " - 0s - loss: 0.0051 - acc: 0.9987\n",
      "Epoch 38/60\n",
      " - 0s - loss: 0.0052 - acc: 0.9996\n",
      "Epoch 39/60\n",
      " - 0s - loss: 0.0037 - acc: 0.9996\n",
      "Epoch 40/60\n",
      " - 0s - loss: 0.0044 - acc: 0.9992\n",
      "Epoch 41/60\n",
      " - 0s - loss: 0.0040 - acc: 0.9992\n",
      "Epoch 42/60\n",
      " - 0s - loss: 0.0035 - acc: 0.9992\n",
      "Epoch 43/60\n",
      " - 0s - loss: 0.0031 - acc: 0.9992\n",
      "Epoch 44/60\n",
      " - 0s - loss: 0.0026 - acc: 0.9996\n",
      "Epoch 45/60\n",
      " - 0s - loss: 0.0024 - acc: 0.9996\n",
      "Epoch 46/60\n",
      " - 0s - loss: 0.0028 - acc: 0.9996\n",
      "Epoch 47/60\n",
      " - 0s - loss: 0.0111 - acc: 0.9962\n",
      "Epoch 48/60\n",
      " - 0s - loss: 0.0236 - acc: 0.9920\n",
      "Epoch 49/60\n",
      " - 0s - loss: 0.0285 - acc: 0.9916\n",
      "Epoch 50/60\n",
      " - 0s - loss: 0.0193 - acc: 0.9954\n",
      "Epoch 51/60\n",
      " - 0s - loss: 0.0082 - acc: 0.9979\n",
      "Epoch 52/60\n",
      " - 0s - loss: 0.0054 - acc: 0.9983\n",
      "Epoch 53/60\n",
      " - 0s - loss: 0.0026 - acc: 1.0000\n",
      "Epoch 54/60\n",
      " - 0s - loss: 0.0023 - acc: 1.0000\n",
      "Epoch 55/60\n",
      " - 0s - loss: 0.0019 - acc: 1.0000\n",
      "Epoch 56/60\n",
      " - 0s - loss: 0.0019 - acc: 1.0000\n",
      "Epoch 57/60\n",
      " - 0s - loss: 0.0016 - acc: 1.0000\n",
      "Epoch 58/60\n",
      " - 0s - loss: 0.0014 - acc: 1.0000\n",
      "Epoch 59/60\n",
      " - 0s - loss: 0.0012 - acc: 1.0000\n",
      "Epoch 60/60\n",
      " - 0s - loss: 0.0013 - acc: 1.0000\n"
     ]
    },
    {
     "data": {
      "text/plain": [
       "<keras.callbacks.History at 0x11c256160>"
      ]
     },
     "execution_count": 6,
     "metadata": {},
     "output_type": "execute_result"
    }
   ],
   "source": [
    "model.compile(optimizer='adam', \n",
    "              loss='categorical_crossentropy', \n",
    "              metrics=['accuracy'])\n",
    "model.fit(\n",
    "    X_train_scaled,\n",
    "    y_train_categorical,\n",
    "    epochs=60,\n",
    "    shuffle=True,\n",
    "    verbose=2\n",
    ")"
   ]
  },
  {
   "cell_type": "markdown",
   "metadata": {},
   "source": [
    "## Quantify our Trained Model"
   ]
  },
  {
   "cell_type": "code",
   "execution_count": 7,
   "metadata": {},
   "outputs": [
    {
     "name": "stdout",
     "output_type": "stream",
     "text": [
      "Normal Neural Network - Loss: 0.06122647644352729, Accuracy: 0.9810606060606061\n"
     ]
    }
   ],
   "source": [
    "model_loss, model_accuracy = model.evaluate(X_test_scaled, y_test_categorical, verbose=2)\n",
    "print(f\"Normal Neural Network - Loss: {model_loss}, Accuracy: {model_accuracy}\")"
   ]
  },
  {
   "cell_type": "markdown",
   "metadata": {
    "slideshow": {
     "slide_type": "subslide"
    }
   },
   "source": [
    "## Make Predictions"
   ]
  },
  {
   "cell_type": "code",
   "execution_count": 8,
   "metadata": {
    "collapsed": true
   },
   "outputs": [],
   "source": [
    "test_data = np.array([[ 0.06690223,  0.58979809,  0.14497051, -0.23424131,  0.64180008,\n",
    "        0.62228052,  0.10280626, -0.01021151,  0.99887873,  0.91186641,\n",
    "       -1.4784499 ,  0.06690223, -1.23557229, -0.83120254,  0.56945914,\n",
    "        0.78657168,  2.39166579,  0.48339018,  0.44075224, -0.29098059]])"
   ]
  },
  {
   "cell_type": "code",
   "execution_count": 9,
   "metadata": {
    "nbgrader": {
     "grade": false,
     "grade_id": "cell-f97eb3e97245187b",
     "locked": false,
     "schema_version": 1,
     "solution": true
    },
    "slideshow": {
     "slide_type": "fragment"
    }
   },
   "outputs": [
    {
     "name": "stdout",
     "output_type": "stream",
     "text": [
      "5/5 [==============================] - 0s 3ms/step\n",
      "Predicted classes: ['female' 'female' 'male' 'female' 'male']\n",
      "Actual Labels: ['female', 'female', 'male', 'female', 'male']\n"
     ]
    }
   ],
   "source": [
    "### BEGIN SOLUTION\n",
    "encoded_predictions = model.predict_classes(X_test_scaled[:5])\n",
    "prediction_labels = label_encoder.inverse_transform(encoded_predictions)\n",
    "print(f\"Predicted classes: {prediction_labels}\")\n",
    "print(f\"Actual Labels: {list(y_test[:5])}\")\n",
    "### END SOLUTION"
   ]
  }
 ],
 "metadata": {
  "kernelspec": {
   "display_name": "Python 3",
   "language": "python",
   "name": "python3"
  },
  "language_info": {
   "codemirror_mode": {
    "name": "ipython",
    "version": 3
   },
   "file_extension": ".py",
   "mimetype": "text/x-python",
   "name": "python",
   "nbconvert_exporter": "python",
   "pygments_lexer": "ipython3",
   "version": "3.6.3"
  },
  "varInspector": {
   "cols": {
    "lenName": 16,
    "lenType": 16,
    "lenVar": 40
   },
   "kernels_config": {
    "python": {
     "delete_cmd_postfix": "",
     "delete_cmd_prefix": "del ",
     "library": "var_list.py",
     "varRefreshCmd": "print(var_dic_list())"
    },
    "r": {
     "delete_cmd_postfix": ") ",
     "delete_cmd_prefix": "rm(",
     "library": "var_list.r",
     "varRefreshCmd": "cat(var_dic_list()) "
    }
   },
   "types_to_exclude": [
    "module",
    "function",
    "builtin_function_or_method",
    "instance",
    "_Feature"
   ],
   "window_display": false
  }
 },
 "nbformat": 4,
 "nbformat_minor": 2
}
