{
 "cells": [
  {
   "cell_type": "markdown",
   "metadata": {},
   "source": [
    "\n",
    "# PROJECT 3: BARBER SHOP RECOMMENDER SYSTEM\n",
    "\n",
    "### Team Members:\n",
    "* Andy Felicitas\n",
    "* Jay Mandavia\n",
    "* Lorenzo Yniguez\n",
    "* Tommy Steed\n",
    "\n",
    "<hr>\n",
    "\n",
    "![title](../images/barbershop.jpg)\n",
    "<hr>\n",
    "\n",
    "### Objective\n",
    "\n",
    "To some, barbershops may seem like a thing of the past. However, with the ubiquity of the hipster movement: edgy hairstyles, beards and whisky, a resurgence of barbershops is occurring throughout the states.  By 2020, the industry is estimated to reach $26B and many barbershops, salons and men's grooming centers are trying to find their space within this growing market. \n",
    "\n",
    "Our goals for this project are to:\n",
    "\n",
    "1) Develop a barber shop recommender system based on demographics and yelp reviews. \n",
    "\n",
    "2) Utilize survey data and client base data to predict how much a client will spend and if they will be likely to purchase a hair product. We will create actionable insights that local barbers can use to grow and improve their businesses.\n",
    "\n",
    "### Data Wrangling\n",
    "\n",
    "Data will be collected through an online survey using Google Forms, Yelp, and Google api(s). \n",
    "\n",
    "We'll utilize Python to scrape, clean and organize our data.\n",
    "\n",
    "Our datasets will then be used to train a predictive model in R and Python.\n",
    "\n",
    "We'll display our predictions through a dynamic, interactive Shiny Dashboard and PowerBI  .\n",
    "\n",
    "<hr>\n",
    "\n",
    "### Questions to answer\n",
    "#### Local barbershops will able to answer the following:\n",
    "\n",
    "* The importance of price, convenience, atmosphere and products.\n",
    "* The average price spent on haircuts.\n",
    "* The frequency of haircuts / visits to the barbershop.\n",
    "* The proximity of barbershop to residence and or work.\n",
    "* Predict if clients purchase products and if it's worth carrying inventory.\n",
    "* Predict the max amount a client would spend on a haircut.\n",
    "\n",
    "#### Clients will able to answer the following:\n",
    "* Which barbershop best fits my needs in terms of price, convenience, location, and amenities.\n",
    "* Which barbershop would provide me with the most positive experience.\n",
    "\n",
    "<hr>\n",
    "\n",
    "![title](../images/barbershop2.jpg)\n",
    "<br>\n",
    "\n",
    "## Copyright\n",
    "\n",
    "DPS Insights (C) 2018. All Rights Reserved.\n"
   ]
  }
 ],
 "metadata": {
  "kernelspec": {
   "display_name": "Python 3",
   "language": "python",
   "name": "python3"
  },
  "language_info": {
   "codemirror_mode": {
    "name": "ipython",
    "version": 3
   },
   "file_extension": ".py",
   "mimetype": "text/x-python",
   "name": "python",
   "nbconvert_exporter": "python",
   "pygments_lexer": "ipython3",
   "version": "3.6.3"
  }
 },
 "nbformat": 4,
 "nbformat_minor": 2
}
